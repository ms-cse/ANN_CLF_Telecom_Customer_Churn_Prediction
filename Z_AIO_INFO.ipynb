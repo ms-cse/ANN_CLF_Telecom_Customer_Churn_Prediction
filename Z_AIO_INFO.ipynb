{
 "cells": [
  {
   "cell_type": "markdown",
   "id": "70625ae4-e88c-4107-94fe-ae2584ecd936",
   "metadata": {},
   "source": [
    "# IMPLEMENTATION DETAILS\n",
    "### TYPE - ANN Classification\n",
    "### PROJECT - \"Customer Churn\" {Telecom Dataset}"
   ]
  },
  {
   "cell_type": "markdown",
   "id": "88485abc-cf9f-4c50-b855-3a7613443214",
   "metadata": {
    "toc-hr-collapsed": true
   },
   "source": [
    "# A. DATA ASSESSMENT PROCESS"
   ]
  },
  {
   "cell_type": "markdown",
   "id": "7d745a25-adc3-4178-8869-613652e34a26",
   "metadata": {
    "tags": [],
    "toc-hr-collapsed": true
   },
   "source": [
    "## 1. DATASET SUMMARY\n",
    "### - It is a 'Customer Churn' dataset that provides the information about various features to predict the churn of customer.\n",
    "### - There are 4250 observations and 20 features in the dataset.\n",
    "### - Total 'float' type features are 8, 'integer' type features are 7, and 'object' type features are 5.\n",
    "#### - float type : ['total_day_minutes', 'total_day_charge', 'total_eve_minutes', 'total_eve_charge', 'total_night_minutes', 'total_night_charge', 'total_intl_minutes', 'total_intl_charge']\n",
    "#### - int type : ['account_length', 'number_vmail_messages', 'total_day_calls', 'total_eve_calls', 'total_night_calls', 'total_intl_calls', 'number_customer_service_calls']\n",
    "#### - object type : ['state', 'area_code', 'international_plan', 'voice_mail_plan', 'churn']\n",
    "### - For ML & AI applications 'churn' feature is the target variable (dependent) and the other 19 features are input (independent)."
   ]
  },
  {
   "cell_type": "markdown",
   "id": "208fdf58-16c2-44b3-af73-a4ad46f56538",
   "metadata": {
    "tags": [],
    "toc-hr-collapsed": true
   },
   "source": [
    "## 2. FEATURE DESCRIPTIONS\n",
    "### Table - 'cc' using 'cc_train.csv'\n",
    "### * Independent Features\n",
    "#### - **'state'** {object} : ***2-letter code of the US state of customer residence.***\n",
    "#### - **'account_length'** {integer} : ***Number of months the customer has been with the current telco provider.***\n",
    "#### - **'area_code'** {object} : ***\"area_code_AAA\" where AAA = 3 digit area code.***\n",
    "#### - **'international_plan'** {object} : ***The customer has international plan.***\n",
    "#### - **'voice_mail_plan'** {object} : ***The customer has voice mail plan.***\n",
    "#### - **'number_vmail_messages'** {integer} : ***Number of voice-mail messages.***\n",
    "#### - **'total_day_minutes'** {float} : ***Total minutes of day calls.***\n",
    "#### - **'total_day_calls'** {integer} : ***Total number of day calls.***\n",
    "#### - **'total_day_charge'** {float} : ***Total charge of day calls.***\n",
    "#### - **'total_eve_minutes'** {float} : ***Total minutes of evening calls.***\n",
    "#### - **'total_eve_calls'** {integer} : ***Total number of evening calls.***\n",
    "#### - **'total_eve_charge'** {float} : ***Total charge of evening calls.***\n",
    "#### - **'total_night_minutes'** {float} : ***Total minutes of night calls.***\n",
    "#### - **'total_night_calls'** {integer} : ***Total number of night calls.***\n",
    "#### - **'total_night_charge'** {float} : ***Total charge of night calls.***\n",
    "#### - **'total_intl_minutes'** {float} : ***Total minutes of international calls.***\n",
    "#### - **'total_intl_calls'** {integer} : ***Total number of international calls.***\n",
    "#### - **'total_intl_charge'** {float} : ***Total charge of international calls.***\n",
    "#### - **'number_customer_service_calls'** {integer} : ***Number of calls to customer service.***\n",
    "\n",
    "### * Dependent Feature\n",
    "#### - **'churn'** {object} : ***Customer churn status.***\n",
    "##### This feature is the target variable for Machine Learning Based Classification Type Problems."
   ]
  },
  {
   "cell_type": "markdown",
   "id": "43e64ca7-5a33-4fb6-b44e-f7118d3d0f38",
   "metadata": {
    "toc-hr-collapsed": true
   },
   "source": [
    "## 3. DATA ISSUES\n",
    "### Table - cc\n",
    "#### 1. * Dirty Data (Low quality)\n",
    "##### A. Completeness\n",
    "##### - No incompleteness issue\n",
    "##### B. Validity\n",
    "##### - No validity issue.\n",
    "##### C. Accuracy\n",
    "##### - No inaccuracy issue\n",
    "##### D. Consistency\n",
    "##### - No inconsistency issue\n",
    "\n",
    "#### 2. * Messy Data (Untidy / Structural)\n",
    "##### - No messy data issue"
   ]
  },
  {
   "cell_type": "markdown",
   "id": "40821976-c3de-4e25-bedd-cef488408ee4",
   "metadata": {
    "tags": [],
    "toc-hr-collapsed": true
   },
   "source": [
    "# B. PRE-PROCESSING / DATA CLEANING"
   ]
  },
  {
   "cell_type": "markdown",
   "id": "f8c39a7b-9ac8-4123-9ce9-edf07e5840a3",
   "metadata": {
    "toc-hr-collapsed": true
   },
   "source": [
    "## 1. BASIC DATA PRE-PROCESSING APPLIED\n",
    "### - Splitting the pre-processed dataframe into Train, Validation, and Test datasets.\n",
    "### - Finally saving the Train, Validation, and Test datasets into CSV and PKL files for further analysis."
   ]
  },
  {
   "cell_type": "markdown",
   "id": "874f8006-1fcb-4cab-b3d3-150642a60fee",
   "metadata": {},
   "source": [
    "## 2. SAVING RESULTS TO CSV AND PKL FILES \n",
    "### - Splitting the pre-processed dataframe into Train, Validation, and Test datasets, ***successful***.\n",
    "### - Pre-Processed Train, Validation, and Test datasets stored in CSV and PKL files, ***successful***.\n",
    "#### . Train ('cc_train_pp.csv','cc_train_pp.pkl')\n",
    "#### . Validation ('cc_valid_pp.csv','cc_valid_pp.pkl')\n",
    "#### . Test ('cc_test_pp.csv','cc_test_pp.pkl')"
   ]
  },
  {
   "cell_type": "markdown",
   "id": "86121661-24c9-442f-842b-61c3b3e90c0c",
   "metadata": {
    "toc-hr-collapsed": true
   },
   "source": [
    "# C. EDA CONCLUSIONS"
   ]
  },
  {
   "cell_type": "markdown",
   "id": "581ba65d-6342-451a-bd85-2c80e687e49c",
   "metadata": {
    "toc-hr-collapsed": true
   },
   "source": [
    "## 1. Uni-Variate EDA conclusions\n",
    "\n",
    "### a. Numerical Features\n",
    "#### - Total numerical features: 15 ['total_day_minutes', 'total_day_charge', 'total_eve_minutes', 'total_eve_charge', 'total_night_minutes', 'total_night_charge', 'total_intl_minutes', 'total_intl_charge', 'account_length', 'number_vmail_messages', 'total_day_calls', 'total_eve_calls', 'total_night_calls', 'total_intl_calls', 'number_customer_service_calls']\n",
    "\n",
    "#### - There are no missing values in any of the features.\n",
    "\n",
    "### - SKEWNESS:\n",
    "#### - Extreme: positive(number_vmail_messages, total_intl_calls, number_customer_service_calls), negative()\n",
    "#### - High: positive(), negative()\n",
    "#### - Moderate: positive(), negative()\n",
    "#### - Low: positive(account_length), negative(total_intl_minutes, total_intl_charge)\n",
    "#### - Very Low: positive(total_night_minutes, total_night_charge, total_night_calls), negative(total_day_minutes, total_day_charge, total_eve_minutes, total_eve_charge, total_day_calls, total_eve_calls)\n",
    "\n",
    "#### - Outliers vary in the range of (0.44-8) % for the features.\n",
    "\n",
    "### b. Categorical Features \n",
    "#### - Total categorical features: 5 ['state', 'area_code', 'international_plan', 'voice_mail_plan', 'churn'] \n",
    "\n",
    "#### - 'churn' is the target feature for analysis and building ML models. It has two labels ('no','yes'). 'churn' has dominating class label 'no' with mode of 3480, and no missing values.\n",
    "\n",
    "#### - 'state' feature has 51 categories in it, and other features have 2 categories each."
   ]
  },
  {
   "cell_type": "markdown",
   "id": "00899381-4a05-42f1-8748-60ea448ff175",
   "metadata": {
    "tags": [],
    "toc-hr-collapsed": true
   },
   "source": [
    "## 2. Bi/Multi Variate EDA conclusions\n",
    "\n",
    "### a. Numerical-Numerical {**Correlation** between features and target}, 'churn' {as integer type} vs others\n",
    "\n",
    "#### - High : positive(), negative()\n",
    "#### - Moderate : positive(), negative()\n",
    "#### - Weak : positive(total_day_minutes, total_day_charge, number_customer_service_calls), negative(number_vmail_messages)\n",
    "#### - Very Weak : positive (total_eve_minutes, total_eve_charge, total_night_minutes, total_night_charge, total_intl_minutes, total_intl_charge, account_length, total_day_calls), negative(total_eve_calls, total_night_calls, total_intl_calls)\n",
    "\n",
    "\n",
    "### b. Categorical-Numerical, 'churn' vs others\n",
    "\n",
    "#### - Outliers exist for 'churn' categories ('no', 'yes') on either or both sides of distribution of numerical features.\n",
    "\n",
    "#### - Features contributing the most for churn of the customers are: total_day_minutes, total_day_charge, total_eve_minutes, total_eve_charge, number_customer_service_calls.\n",
    "#### - Other features contributing for churn of the customers are: total_night_minutes, total_night_charge, total_intl_minutes, total_intl_charge, account_length, total_day_calls.\n",
    "\n",
    "#### - Features contributing for non-churn of the customers are: number_vmail_messages, total_eve_calls, total_night_calls, total_intl_calls.\n",
    "\n",
    "\n",
    "### c. Categorical-Categorical\n",
    "\n",
    "#### - Features highly affecting the churn of the customers in all states are: total_day_charge and number_customer_service_calls.\n",
    "\n",
    "#### - Churn of the customers is mostly affected in all area_codes by features: total_day_charge and number_customer_service_calls.\n",
    "\n",
    "#### - Customers without international plans are most likely to churn due to: total_day_charge, total_eve_charge, total_night_charge, number_customer_service_calls.\n",
    "#### - Customers with international plans are most likely to churn due to: total_intl_charge.\n",
    "\n",
    "\n",
    "#### - Customers without voice mail plans are most likely to churn due to: total_day_charge, total_eve_charge, total_night_charge, total_day_calls.\n",
    "#### - Customers with voice mail plans are most likely to churn due to: total_intl_charge, account_length, number_vmail_messages, total_intl_calls, number_customer_service_calls."
   ]
  },
  {
   "cell_type": "markdown",
   "id": "c43db963-2fa2-4e31-862e-c9cfc24193ab",
   "metadata": {
    "toc-hr-collapsed": true
   },
   "source": [
    "# D. FEATURE ENGINEERING"
   ]
  },
  {
   "cell_type": "markdown",
   "id": "08a72cb5-ad5f-4026-b573-a019310ff18b",
   "metadata": {
    "toc-hr-collapsed": true
   },
   "source": [
    "## A. Observations\n",
    "\n",
    "#### 1. Target feature \"churn\" should be remapped as 0 for (NO) and 1 for (Yes) labels.\n",
    "#### 2. Handle outliers in numerical data features, which ranges (0-8)%.\n",
    "#### 3. Perform feature transformation to reduce the skew and make data normal (or Gaussian) like.\n",
    "#### 4. Apply feature scaling techniques to bring the data in the suitable ranges.\n",
    "#### 5. Treat categorical data with appropriate encoding schemes.\n",
    "#### 6. Apply data balancing techniques to make data balanced.\n",
    "#### 7. Perform feature selection to get the best features for model performance. "
   ]
  },
  {
   "cell_type": "markdown",
   "id": "564c7db7-5076-485a-8d69-7d6ac392b134",
   "metadata": {
    "toc-hr-collapsed": true
   },
   "source": [
    "## B. Steps of Feature Engineering\n",
    "\n",
    "#### 1. Labelling of target feature 'No' as 0 and 'Yes' as 1, for Train, Validation and Test dataset.\n",
    "#### 2. Handling outliers in train dataset numerical features using \"capping\" technique.\n",
    "#### 3. Out of various feature transformation techniques, \"Yeo-Johnson\" power transformation technique is applied to the numerical features to make them Gaussian like.\n",
    "#### 4. \"StandardScaler\" feature scaling technique is applied to the numerical features.\n",
    "#### 5. Applying \"OneHotEncoder\" technique to treat the nominal data of the categorical features.\n",
    "#### 6. For balancing the dataset, \"SMOTE\" technique is applied to the train dataset only.\n",
    "#### 7. Feature selection is applied using \"mutaul_info_classif\" with \"SelectKbest\" to get the best features for model building and performance.\n",
    "\n",
    "\n",
    "#### - FE Steps on Train dataset : ***all steps.***\n",
    "#### - FE Steps on Validation and Test dataset : ***all steps, except 2nd and 5th steps.***"
   ]
  },
  {
   "cell_type": "markdown",
   "id": "32611c63-7065-4ee1-9226-f1071720bd54",
   "metadata": {
    "toc-hr-collapsed": true
   },
   "source": [
    "## C. Saving the feature engineered train, validation, and test datasets into CSV and PKL files\n",
    "#### - Train ('cc_train_fe.csv','cc_train_fe_pkl')\n",
    "#### - Validation ('cc_valid_fe.csv','cc_valid_fe_pkl')\n",
    "#### - Test ('cc_test_fe.csv','cc_test_fe_pkl')"
   ]
  },
  {
   "cell_type": "markdown",
   "id": "8a7fb5ca-6f0f-4000-ae58-30b0df2782c2",
   "metadata": {},
   "source": [
    "# E. ML MODELS IMPLEMENTATIONS & RESULTS"
   ]
  },
  {
   "cell_type": "markdown",
   "id": "64e80f41-1f5d-44a6-948d-8d98fd1cf0ca",
   "metadata": {
    "toc-hr-collapsed": true
   },
   "source": [
    "## A. Simple Model\n",
    "\n",
    "#### 1. Initial Dataset Size:\n",
    "- Train Dataset size : (4050, 20)\n",
    "- Validation Dataset size : (100, 20)\n",
    "\n",
    "#### 2. Feature Engineering. (One Hot Encoding, Target mapping)\n",
    "#### 3. No Hyper Parameters tuning used.\n",
    "\n",
    "#### 4. Input Dataset Size:\n",
    "- X-Train Dataset size : (4050, 69)\n",
    "- X-Validation Dataset size : (100, 69)\n",
    "\n",
    "\n",
    "#### 5. Model: ANN Model\n",
    "    def build_model():\n",
    "        model = Sequential()\n",
    "        \n",
    "        model.add(Dense(69, activation='relu', input_dim=69))\n",
    "        model.add(Dense(1, activation='sigmoid'))\n",
    "        model.compile(loss='binary_crossentropy', optimizer='Adam', metrics=['accuracy'])\n",
    "    \n",
    "        return model\n",
    "    \n",
    "    best_mdl = build_model()\n",
    "    best_mdl.fit(Xtr, ytr, epochs=31, verbose=0, validation_data=(Xva,yval))\n",
    "\n",
    "#### 6. Results:\n",
    "- Train Acc: 87.5062 %\n",
    "- Validation Acc: 86.0 %\n",
    "\n",
    "#### 7. Conclusions:\n",
    "- ***Acceptable performance for Train and Validation sets.***\n",
    "- ***Performing well on both datasets.***"
   ]
  },
  {
   "cell_type": "markdown",
   "id": "558c9683-e1dc-41b9-a612-677d101d582d",
   "metadata": {
    "toc-hr-collapsed": true
   },
   "source": [
    "## B. Simple Model with Feature Engineering on Input Data \n",
    "\n",
    "#### 1. Initial Dataset Size:\n",
    "- Train Dataset size : (4050, 20)\n",
    "- Validation Dataset size : (100, 20)\n",
    "\n",
    "#### 2. Feature Engineering. (Steps as mentioned above)\n",
    "#### 3. No Hyper Parameters tuning used.\n",
    "\n",
    "#### 4. Input Dataset Size:\n",
    "- X-Train Dataset size : (6960, 69)\n",
    "- X-Validation Dataset size : (100, 69)\n",
    "\n",
    "#### 5. Model: ANN Model\n",
    "    def build_model():\n",
    "        model = Sequential()\n",
    "        \n",
    "        model.add(Dense(69, activation='relu', input_dim=69))\n",
    "        model.add(Dense(1, activation='sigmoid'))\n",
    "        model.compile(loss='binary_crossentropy', optimizer='Adam', metrics=['accuracy'])\n",
    "    \n",
    "        return model\n",
    "    \n",
    "    best_mdl = build_model()\n",
    "    best_mdl.fit(Xtr, ytr, epochs=31, verbose=0, validation_data=(Xva,yval))\n",
    "\n",
    "#### 6. Results:\n",
    "- Train Acc: 98.7931 %\n",
    "- Validation Acc: 94.0 % \n",
    "\n",
    "#### 7. Conclusions:\n",
    "- ***Performance has increased for both Train and Validation dataset, from the previous version (A)***\n",
    "- ***Acceptable performance for Train and Validation sets.***\n",
    "- ***Performing well on both datasets.***"
   ]
  },
  {
   "cell_type": "markdown",
   "id": "828ff5b9-0643-483c-b141-95fdb4f8b384",
   "metadata": {
    "tags": [],
    "toc-hr-collapsed": true
   },
   "source": [
    "## C. ANN Model Hyper-Tuned using Feature Engineered Data \n",
    "\n",
    "#### 1. Input Dataset Size:\n",
    "- X-Train Dataset size : (6960, 69)\n",
    "- X-Validation Dataset size : (100, 69)\n",
    "\n",
    "#### 2. Best Params\n",
    "    {'num_layers': 2,\n",
    "     'num_nodes 0': 40,\n",
    "     'act_func 0': 'relu',\n",
    "     'dropout 0': 0.3,\n",
    "     'optimizer': 'adam',\n",
    "     'num_nodes 1': 32,\n",
    "     'act_func 1': 'tanh',\n",
    "     'dropout 1': 0.2}\n",
    "\n",
    "#### 3. Model: ANN Model\n",
    "    Model: \"sequential\"\n",
    "    _________________________________________________________________\n",
    "     Layer (type)                Output Shape              Param #   \n",
    "    =================================================================\n",
    "     dense (Dense)               (None, 40)                2800      \n",
    "\n",
    "     dropout (Dropout)           (None, 40)                0         \n",
    "\n",
    "     dense_1 (Dense)             (None, 32)                1312      \n",
    "\n",
    "     dropout_1 (Dropout)         (None, 32)                0         \n",
    "\n",
    "     dense_2 (Dense)             (None, 1)                 33        \n",
    "\n",
    "    =================================================================\n",
    "    Total params: 4,145\n",
    "    Trainable params: 4,145\n",
    "    Non-trainable params: 0\n",
    "    _________________________________________________________________\n",
    "    \n",
    "    best_mdl.fit(Xtr, ytr, epochs=40, initial_epoch=10, verbose=0, validation_split=0.1)\n",
    "\n",
    "#### 4. Results:\n",
    "- Train Acc: 98.3621 %\n",
    "- Validation Acc: 92.0 %\n",
    "\n",
    "#### 5. Conclusions:\n",
    "- ***Acceptable performance for Train and Validation sets.***\n",
    "- ***Performing well on both datasets.***"
   ]
  },
  {
   "cell_type": "markdown",
   "id": "0ad03275-4f9a-445a-9fca-1cba90813f05",
   "metadata": {},
   "source": [
    "## D. All ANN Model Hyper-Tuned using Feature Engineered Data "
   ]
  },
  {
   "cell_type": "raw",
   "id": "ba56140a-d360-44dc-8773-a28be301e376",
   "metadata": {},
   "source": [
    "# model:1 \n",
    "def model_m1():\n",
    "    model = Sequential()\n",
    "    model.add(Dense(40, activation='relu', input_dim=69))\n",
    "    model.add(Dropout(0.1))\n",
    "    model.add(Dense(1, activation='sigmoid'))\n",
    "    model.compile(loss='binary_crossentropy', optimizer='nadam', metrics=['accuracy'])\n",
    "    \n",
    "    return model\n",
    "\n",
    "RESULT:\n",
    "-----------------------------\n",
    "\n",
    "M1: epochs(31)   \n",
    "Train Dataset Accuracy : 96.408 %\n",
    "Validation Dataset Accuracy : 96.0 %\n",
    "\n",
    "-------------------------------------------------------------------------------------------------------------------------------\n",
    "\n",
    "# model:2\n",
    "def model_m2():\n",
    "    model = Sequential()\n",
    "    model.add(Dense(32, activation='relu', input_dim=69))\n",
    "    model.add(Dropout(0.5))\n",
    "    model.add(Dense(1, activation='sigmoid'))\n",
    "    model.compile(loss='binary_crossentropy', optimizer='nadam', metrics=['accuracy'])\n",
    "    \n",
    "    return model\n",
    "\n",
    "RESULT:\n",
    "-----------------------------\n",
    "\n",
    "M2: epochs(81) \n",
    "Train Dataset Accuracy : 96.2787 %\n",
    "Validation Dataset Accuracy : 96.0 %\n",
    "\n",
    "-------------------------------------------------------------------------------------------------------------------------------\n",
    "\n",
    "# model:3\n",
    "def model_m3():\n",
    "    model = Sequential()\n",
    "    model.add(Dense(48, activation='tanh', input_dim=69))\n",
    "    model.add(Dropout(0.3))\n",
    "    model.add(Dense(1, activation='sigmoid'))\n",
    "    model.compile(loss='binary_crossentropy', optimizer='nadam', metrics=['accuracy'])\n",
    "    \n",
    "    return model\n",
    "\n",
    "RESULT:\n",
    "-----------------------------\n",
    "\n",
    "M3: epochs(81) \n",
    "Train Dataset Accuracy : 95.2299 %\n",
    "Validation Dataset Accuracy : 96.0 % \n",
    "\n",
    "-------------------------------------------------------------------------------------------------------------------------------\n",
    "\n",
    "# model:4 \n",
    "def model_m4():\n",
    "    model = Sequential()\n",
    "    model.add(Dense(40, activation='linear', input_dim=69))\n",
    "    model.add(Dropout(0.4))\n",
    "    model.add(Dense(48, activation='relu'))\n",
    "    model.add(Dropout(0.3))\n",
    "    model.add(Dense(1, activation='sigmoid'))\n",
    "    model.compile(loss='binary_crossentropy', optimizer='adam', metrics=['accuracy'])\n",
    "    \n",
    "    return model\n",
    "\n",
    "RESULT:\n",
    "-----------------------------\n",
    "\n",
    "M4: epochs(55) \n",
    "Train Dataset Accuracy : 95.0287 %\n",
    "Validation Dataset Accuracy : 95.0 % \n",
    "\n",
    "-------------------------------------------------------------------------------------------------------------------------------\n",
    "\n",
    "# model:5 \n",
    "def model_m5():\n",
    "    model = Sequential()\n",
    "    model.add(Dense(56, activation='relu', input_dim=69))\n",
    "    model.add(Dropout(0.3))\n",
    "    model.add(Dense(56, activation='tanh'))\n",
    "    model.add(Dropout(0.2))\n",
    "    model.add(Dense(1, activation='sigmoid'))\n",
    "    model.compile(loss='binary_crossentropy', optimizer='rmsprop', metrics=['accuracy'])\n",
    "    \n",
    "    return model\n",
    "\n",
    "RESULT:\n",
    "-----------------------------\n",
    "\n",
    "M5: epochs(14) \n",
    "Train Dataset Accuracy : 94.6264 %\n",
    "Validation Dataset Accuracy : 94.0 %\n",
    "\n",
    "-------------------------------------------------------------------------------------------------------------------------------\n",
    "\n",
    "# model:6 \n",
    "def model_m6():\n",
    "    model = Sequential()\n",
    "    model.add(Dense(40, activation='relu', input_dim=69))\n",
    "    model.add(Dropout(0.3))\n",
    "    model.add(Dense(32, activation='tanh'))\n",
    "    model.add(Dropout(0.2))\n",
    "    model.add(Dense(1, activation='sigmoid'))\n",
    "    model.compile(loss='binary_crossentropy', optimizer='adam', metrics=['accuracy'])\n",
    "    \n",
    "    return model\n",
    "\n",
    "RESULT:\n",
    "-----------------------------\n",
    "\n",
    "M6: epochs(21) \n",
    "Train Dataset Accuracy : 97.0546 %\n",
    "Validation Dataset Accuracy : 96.0 % \n",
    "\n",
    "-------------------------------------------------------------------------------------------------------------------------------\n",
    "\n",
    "# model:7 \n",
    "def model_m7():\n",
    "    model = Sequential()\n",
    "    model.add(Dense(64, activation='relu', input_dim=69))\n",
    "    model.add(Dropout(0.4))\n",
    "    model.add(Dense(64, activation='linear'))\n",
    "    model.add(Dropout(0.5))\n",
    "    model.add(Dense(24, activation='linear'))\n",
    "    model.add(Dropout(0.2))\n",
    "    model.add(Dense(1, activation='sigmoid'))\n",
    "    model.compile(loss='binary_crossentropy', optimizer='rmsprop', metrics=['accuracy'])\n",
    "    \n",
    "    return model\n",
    "\n",
    "RESULT:\n",
    "-----------------------------\n",
    "\n",
    "M7: epochs(15) \n",
    "Train Dataset Accuracy : 94.6552 %\n",
    "Validation Dataset Accuracy : 95.0 %\n",
    "\n",
    "-------------------------------------------------------------------------------------------------------------------------------\n",
    "\n",
    "# model:8 \n",
    "def model_m8():\n",
    "    model = Sequential()\n",
    "    model.add(Dense(32, activation='relu', input_dim=69))\n",
    "    model.add(Dropout(0.1))\n",
    "    model.add(Dense(40, activation='linear'))\n",
    "    model.add(Dropout(0.1))\n",
    "    model.add(Dense(24, activation='linear'))\n",
    "    model.add(Dropout(0.1))\n",
    "    model.add(Dense(1, activation='sigmoid'))\n",
    "    model.compile(loss='binary_crossentropy', optimizer='rmsprop', metrics=['accuracy'])\n",
    "    \n",
    "    return model\n",
    "\n",
    "RESULT:\n",
    "-----------------------------\n",
    "\n",
    "M8: epochs(19) \n",
    "Train Dataset Accuracy : 95.8764 %\n",
    "Validation Dataset Accuracy : 95.0 % \n",
    "\n",
    "-------------------------------------------------------------------------------------------------------------------------------\n",
    "\n",
    "# model:9\n",
    "def model_m9():\n",
    "    model = Sequential()\n",
    "    model.add(Dense(69, activation='relu', input_dim=69))\n",
    "    model.add(Dense(1, activation='sigmoid'))\n",
    "    model.compile(loss='binary_crossentropy', optimizer='Adam', metrics=['accuracy'])\n",
    "    \n",
    "    return model\n",
    "\n",
    "RESULT:\n",
    "-----------------------------\n",
    "\n",
    "M9: epochs(16)  \n",
    "Train Dataset Accuracy : 96.0057 %\n",
    "Validation Dataset Accuracy : 95.0 %\n",
    "\n",
    "-------------------------------------------------------------------------------------------------------------------------------\n",
    "\n",
    "# model:10 \n",
    "def model_m10():\n",
    "    model = Sequential()\n",
    "    model.add(Dense(69, activation='relu', input_dim=69))\n",
    "    model.add(Dropout(0.1))\n",
    "    model.add(Dense(1, activation='sigmoid'))\n",
    "    model.compile(loss='binary_crossentropy', optimizer='nadam', metrics=['accuracy'])\n",
    "    \n",
    "    return model\n",
    "\n",
    "RESULT:\n",
    "-----------------------------\n",
    "\n",
    "M10: epochs(21)  \n",
    "Train Dataset Accuracy : 96.2213 %\n",
    "Validation Dataset Accuracy : 95.0 %\n",
    "\n",
    "-------------------------------------------------------------------------------------------------------------------------------\n",
    "\n",
    "# model:11\n",
    "def model_m11():\n",
    "    model = Sequential()\n",
    "    model.add(Dense(35, activation='relu', input_dim=69))\n",
    "    model.add(Dropout(0.2))\n",
    "    model.add(Dense(1, activation='sigmoid'))\n",
    "    model.compile(loss='binary_crossentropy', optimizer='nadam', metrics=['accuracy'])\n",
    "    \n",
    "    return model\n",
    "\n",
    "RESULT:\n",
    "-----------------------------\n",
    "\n",
    "M11: epochs(38)  \n",
    "Train Dataset Accuracy : 96.2931 %\n",
    "Validation Dataset Accuracy : 95.0 %\n",
    "\n",
    "-------------------------------------------------------------------------------------------------------------------------------\n",
    "\n",
    "# model:12 \n",
    "def model_m12():\n",
    "    model = Sequential()\n",
    "    model.add(Dense(69, activation='relu', input_dim=69))\n",
    "    model.add(Dropout(0.1))\n",
    "    model.add(Dense(35, activation='relu'))\n",
    "    model.add(Dropout(0.2))\n",
    "    model.add(Dense(1, activation='sigmoid'))\n",
    "    model.compile(loss='binary_crossentropy', optimizer='adam', metrics=['accuracy'])\n",
    "    \n",
    "    return model\n",
    "\n",
    "RESULT:\n",
    "-----------------------------\n",
    "\n",
    "M12: epochs(13)  \n",
    "Train Dataset Accuracy : 97.8448 %\n",
    "Validation Dataset Accuracy : 96.0 %\n",
    "\n",
    "-------------------------------------------------------------------------------------------------------------------------------\n",
    "\n",
    "# model:13\n",
    "def model_m13():\n",
    "    model = Sequential()\n",
    "    model.add(Dense(50, activation='relu', input_dim=69))\n",
    "    model.add(Dropout(0.3))\n",
    "    model.add(Dense(25, activation='relu'))\n",
    "    model.add(Dropout(0.2))\n",
    "    model.add(Dense(1, activation='sigmoid'))\n",
    "    model.compile(loss='binary_crossentropy', optimizer='rmsprop', metrics=['accuracy'])\n",
    "    \n",
    "    return model\n",
    "\n",
    "RESULT:\n",
    "-----------------------------\n",
    "\n",
    "M13: epochs(20) \n",
    "Train Dataset Accuracy : 94.9282 %\n",
    "Validation Dataset Accuracy : 94.0 %\n",
    "\n",
    "-------------------------------------------------------------------------------------------------------------------------------\n",
    "\n",
    "# model:14\n",
    "def model_m14():\n",
    "    model = Sequential()\n",
    "    model.add(Dense(35, activation='relu', input_dim=69))\n",
    "    model.add(Dropout(0.3))\n",
    "    model.add(Dense(18, activation='relu'))\n",
    "    model.add(Dropout(0.2))\n",
    "    model.add(Dense(1, activation='sigmoid'))\n",
    "    model.compile(loss='binary_crossentropy', optimizer='adam', metrics=['accuracy'])\n",
    "    \n",
    "    return model\n",
    "\n",
    "RESULT:\n",
    "-----------------------------\n",
    "\n",
    "M14: epochs(25) \n",
    "Train Dataset Accuracy : 97.0115 %\n",
    "Validation Dataset Accuracy : 96.0 %"
   ]
  },
  {
   "cell_type": "markdown",
   "id": "66f278fd-65e7-4d20-a6ed-51874aae2563",
   "metadata": {},
   "source": [
    "## E. Best Model (Minimum difference between Train and Validation accuracy {to avoid overfitting})"
   ]
  },
  {
   "cell_type": "markdown",
   "id": "db3e9d4f-3296-4db3-918f-857e58b40b9c",
   "metadata": {},
   "source": [
    "#### 1. Input Dataset Size:\n",
    "- X-Train Dataset size : (6960, 69)\n",
    "- X-Validation Dataset size : (100, 69)\n",
    "\n",
    "#### 2. Best Model: 'model m2' from the hypertuned models set above\n",
    "    def build_model():\n",
    "        model = Sequential()\n",
    "        model.add(Dense(32, activation='relu', input_dim=69))\n",
    "        model.add(Dropout(0.5))\n",
    "        model.add(Dense(1, activation='sigmoid'))\n",
    "        model.compile(loss='binary_crossentropy', optimizer='nadam', metrics=['accuracy'])\n",
    "\n",
    "        return model\n",
    "\n",
    "    best_mdl = build_model()\n",
    "    best_mdl.summary()\n",
    "    hst = best_mdl.fit(Xtr, ytr, epochs=81, verbose=0, validation_data=(Xval,yval))\n",
    "    \n",
    "#### 3. Results:\n",
    "- Train Acc: 96.2787 %\n",
    "- Validation Acc: 96.0 %\n",
    "\n",
    "#### 4. Conclusions:\n",
    "- ***Acceptable performance for Train and Validation sets.***\n",
    "- ***Performing well on both datasets.***"
   ]
  },
  {
   "cell_type": "markdown",
   "id": "b06c0223-3736-4807-8306-1f458f4cdfe7",
   "metadata": {},
   "source": [
    "#### 5. Performance on Both Datasets (Train and Validation)"
   ]
  },
  {
   "cell_type": "code",
   "execution_count": 1,
   "id": "8e28f7e9-692d-4ccd-923f-4462bfc1456f",
   "metadata": {
    "tags": []
   },
   "outputs": [
    {
     "data": {
      "image/png": "[encoded data removed]",
      "text/plain": [
       "<IPython.core.display.Image object>"
      ]
     },
     "execution_count": 1,
     "metadata": {},
     "output_type": "execute_result"
    }
   ],
   "source": [
    "from IPython.display import Image\n",
    "Image(filename='./assets/img/res_best_model.png') "
   ]
  },
  {
   "cell_type": "markdown",
   "id": "ab70fae0-a2ca-47f2-928d-013590c5a4e3",
   "metadata": {
    "tags": []
   },
   "source": [
    "## F. Production Model\n",
    "\n",
    "#### 1. Input Dataset Size:\n",
    "- X-Train Dataset size : (7132, 69) (After applying all FE steps on merged dataset {train and validation dataset})\n",
    "- X-Test Dataset size : (100, 69)\n",
    "\n",
    "#### 2. Best Model: 'model m2' from the hypertuned models set\n",
    "    def build_model():\n",
    "        model = Sequential()\n",
    "        model.add(Dense(32, activation='relu', input_dim=69))\n",
    "        model.add(Dropout(0.5))\n",
    "        model.add(Dense(1, activation='sigmoid'))\n",
    "        model.compile(loss='binary_crossentropy', optimizer='nadam', metrics=['accuracy'])\n",
    "\n",
    "        return model\n",
    "\n",
    "    best_mdl = build_model()\n",
    "    best_mdl.summary()\n",
    "    hst = best_mdl.fit(Xtr, ytr, epochs=81, verbose=0, validation_data=(Xte,yte))\n",
    "    \n",
    "#### 3. Results:\n",
    "- Train Acc: 95.2468 %\n",
    "- Test Acc: 95.0 % \n",
    "\n",
    "#### 4. Conclusions:\n",
    "- ***Acceptable performance for Train and Test sets.***\n",
    "- ***Performing well on both datasets.***"
   ]
  },
  {
   "cell_type": "markdown",
   "id": "994e1c81-47c8-433d-ab33-1041233781e7",
   "metadata": {},
   "source": [
    "#### 5. Performance on Both Datasets (Train and Test)"
   ]
  },
  {
   "cell_type": "code",
   "execution_count": 2,
   "id": "422e7574-beec-4653-bb86-f47d85760dd3",
   "metadata": {
    "tags": []
   },
   "outputs": [
    {
     "data": {
      "image/png": "[encoded data removed]",
      "text/plain": [
       "<IPython.core.display.Image object>"
      ]
     },
     "execution_count": 2,
     "metadata": {},
     "output_type": "execute_result"
    }
   ],
   "source": [
    "Image(filename='./assets/img/res_prod_model.png') "
   ]
  },
  {
   "cell_type": "markdown",
   "id": "6795ca7b-5d1a-4dbf-ba43-ef885f3c1786",
   "metadata": {},
   "source": [
    "## G. Gradio App Deployment Files\n",
    "\n",
    "- Production Model saved as 'mdl_prod_fe_ht.keras' file.\n",
    "- Xtrain set is saved 'Xtr_prod.pkl' file. To access the feature unique values, and ranges.\n",
    "- Test set is saved 'cc_test_pp.pkl' file. To test the app."
   ]
  },
  {
   "cell_type": "code",
   "execution_count": null,
   "id": "8852b936-d16b-4a08-bf00-3772111224a0",
   "metadata": {},
   "outputs": [],
   "source": []
  }
 ],
 "metadata": {
  "kernelspec": {
   "display_name": "Python 3 (ipykernel)",
   "language": "python",
   "name": "python3"
  },
  "language_info": {
   "codemirror_mode": {
    "name": "ipython",
    "version": 3
   },
   "file_extension": ".py",
   "mimetype": "text/x-python",
   "name": "python",
   "nbconvert_exporter": "python",
   "pygments_lexer": "ipython3",
   "version": "3.12.8"
  }
 },
 "nbformat": 4,
 "nbformat_minor": 5
}
