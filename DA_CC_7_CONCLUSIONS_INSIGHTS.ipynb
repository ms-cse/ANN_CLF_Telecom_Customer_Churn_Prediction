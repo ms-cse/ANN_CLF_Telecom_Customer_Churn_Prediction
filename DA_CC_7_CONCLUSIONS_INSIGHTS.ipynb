{
 "cells": [
  {
   "cell_type": "markdown",
   "id": "38a4ff0d-93a7-4d10-8806-11e6eae345c2",
   "metadata": {},
   "source": [
    "# CONCLUSIONS AND INSIGHTS - {\"CUSTOMER CHURN\" DATASET}"
   ]
  },
  {
   "cell_type": "markdown",
   "id": "5683c1bb-e259-409e-8d8b-c17d9c5522a6",
   "metadata": {
    "tags": []
   },
   "source": [
    "## A. UNI-VARIATE EDA"
   ]
  },
  {
   "cell_type": "markdown",
   "id": "916e9edd-4be0-4e9e-a293-f248e4a3363f",
   "metadata": {
    "tags": [],
    "toc-hr-collapsed": true
   },
   "source": [
    "### a. Numeric type features"
   ]
  },
  {
   "cell_type": "markdown",
   "id": "3f8085c3-869a-44b6-a432-b4e987a11a71",
   "metadata": {},
   "source": [
    "#### 1. 'total_day_minutes'\n",
    "\n",
    "##### - skew = -0.0104 (very slightly left/negatively skewed) as between (-0.5,0)\n",
    "##### - kurt = -0.0513 (platykurtic/negative kurtosis) as below 3.\n",
    "\n",
    "##### - missing values = 0 = 0.0 %\n",
    "\n",
    "##### - outliers = 22 = 11+11 (lb+ub) = 0.5432 %\n",
    "\n",
    "##### - more data points are available around (130-230) of total_day_minutes."
   ]
  },
  {
   "cell_type": "markdown",
   "id": "ace9473b-3dd4-4148-9f09-13bd6b94febb",
   "metadata": {},
   "source": [
    "#### 2. 'total_day_charge'\n",
    "\n",
    "##### - skew = -0.0104 (very slightly left/negatively skewed) as between (-0.5,0).\n",
    "##### - kurt = -0.0511 (platykurtic/negative kurtosis) as below 3.\n",
    "\n",
    "##### - missing values = 0 = 0.0 %\n",
    "\n",
    "##### - outliers = 22 = 11+11 (lb+ub) = 0.5432 %\n",
    "\n",
    "##### - more data points are available around (22.5-37.5) of total_day_charge."
   ]
  },
  {
   "cell_type": "markdown",
   "id": "b943b8c2-22e5-49fd-aa43-aaa37159b559",
   "metadata": {},
   "source": [
    "#### 3. 'total_eve_minutes'\n",
    "\n",
    "##### - skew = -0.0237 (very slightly left/negatively skewed) as between (-0.5,0).\n",
    "##### - kurt = 0.0209 (platykurtic/negative kurtosis) as below 3.\n",
    "\n",
    "##### - missing values = 0 = 0.0 %\n",
    "\n",
    "##### - outliers = 32 = 18+14 (lb+ub) = 0.7901 %\n",
    "\n",
    "##### - more data points are available around (150-250) of total_eve_minutes."
   ]
  },
  {
   "cell_type": "markdown",
   "id": "b738de06-82da-48d5-84d3-bb7ad8f7b95a",
   "metadata": {},
   "source": [
    "#### 4. 'total_eve_charge'\n",
    "\n",
    "##### - skew = -0.0237 (very slightly left/negatively skewed) as between (-0.5,0).\n",
    "##### - kurt = 0.0208 (platykurtic/negative kurtosis) as below 3.\n",
    "\n",
    "##### - missing values = 0 = 0.0 %\n",
    "\n",
    "##### - outliers = 33 = 19+14 (lb+ub) = 0.8148 %\n",
    "\n",
    "##### - more data points are available around (13-21) of total_eve_charge."
   ]
  },
  {
   "cell_type": "markdown",
   "id": "6e9219a2-0350-4969-8c85-8ded86a2c115",
   "metadata": {},
   "source": [
    "#### 5. 'total_night_minutes'\n",
    "\n",
    "##### - skew = 0.0099 (very slightly right/positively skewed) as between (0-0.5).\n",
    "##### - kurt = 0.1204 (platykurtic/negative kurtosis) as below 3.\n",
    "\n",
    "##### - missing values = 0 = 0.0 %\n",
    "\n",
    "##### - outliers = 35 = 19+16 (lb+ub) = 0.8642 %\n",
    "\n",
    "##### - more data points are available around (150-250) value of total_night_minutes."
   ]
  },
  {
   "cell_type": "markdown",
   "id": "46cc879c-eeb0-4ea4-bede-09dcf5652056",
   "metadata": {},
   "source": [
    "#### 6. 'total_night_charge'\n",
    "\n",
    "##### - skew = 0.0098 (very slightly right/positively skewed) as between (0-0.5).\n",
    "##### - kurt = 0.1204 (platykurtic/negative kurtosis) as below 3.\n",
    "\n",
    "##### - missing values = 0 = 0.0 %\n",
    "\n",
    "##### - outliers = 35 = 19+16 (lb+ub) = 0.8642 %\n",
    "\n",
    "##### - more data points are available around (6.5-11.5) value of total_night_charge."
   ]
  },
  {
   "cell_type": "markdown",
   "id": "ccaac90e-4315-4592-b353-5e6ed26e1bd9",
   "metadata": {},
   "source": [
    "#### 7. 'total_intl_minutes'\n",
    "\n",
    "##### - skew = -0.2284 (slightly left/negatively skewed) as between (-0.5,0).\n",
    "##### - kurt = 0.7273 (platykurtic/negative kurtosis) as below 3.\n",
    "\n",
    "##### - missing values = 0 = 0.0 %\n",
    "\n",
    "##### - outliers = 60 = 36+24 (lb+ub) = 1.4815 %\n",
    "\n",
    "##### - more data points are available around (7-13) value of total_intl_minutes."
   ]
  },
  {
   "cell_type": "markdown",
   "id": "a25bdc90-bc03-47a8-abd1-305ae2cea78e",
   "metadata": {},
   "source": [
    "#### 8. 'total_intl_charge'\n",
    "\n",
    "##### - skew = -0.2287 (slightly left/negatively skewed) as between (-0.5,0).\n",
    "##### - kurt = 0.7277 (platykurtic/negative kurtosis) as below 3.\n",
    "\n",
    "##### - missing values = 0 = 0.0 %\n",
    "\n",
    "##### - outliers = 60 = 36+24 (lb+ub) = 1.4815 %\n",
    "\n",
    "##### - more data points are available around (1.75-3.75) value of total_intl_charge."
   ]
  },
  {
   "cell_type": "markdown",
   "id": "94a20515-6bd2-4c76-99ef-4436f48a07b8",
   "metadata": {},
   "source": [
    "#### 9. 'account_length'\n",
    "\n",
    "##### - skew = 0.1227 (slightly right/positively skewed) as between (0-0.5).\n",
    "##### - kurt = -0.1444 (platykurtic/negative kurtosis) as below 3.\n",
    "\n",
    "##### - missing values = 0 = 0.0 %\n",
    "\n",
    "##### - outliers = 18 = 0+18 (lb+ub) = 0.4444 %\n",
    "\n",
    "##### - more data points are available around (60-139) value of account_length."
   ]
  },
  {
   "cell_type": "markdown",
   "id": "5bd96982-8c0d-4ba8-82fc-695cad6a8b26",
   "metadata": {},
   "source": [
    "#### 10. 'number_vmail_messages'\n",
    "\n",
    "##### - skew = 1.3862 (extremely right/positively skewed) as above 1.\n",
    "##### - kurt = 0.3161 (platykurtic/negative kurtosis) as below 3.\n",
    "\n",
    "##### - missing values = 0 = 0.0 %\n",
    "\n",
    "##### - outliers = 170 = 0+170 (lb+ub) = 4.1975 %\n",
    "\n",
    "##### - more data points are available around (0-4) value of number_vmail_messages."
   ]
  },
  {
   "cell_type": "markdown",
   "id": "a0e7eb75-7f09-4848-94e4-16639b3b3cbd",
   "metadata": {},
   "source": [
    "#### 11. 'total_day_calls'\n",
    "\n",
    "##### - skew = -0.0869 (very slightly left/negatively skewed) as between (-0.5,0).\n",
    "##### - kurt = 0.2089 (platykurtic/negative kurtosis) as below 3.\n",
    "\n",
    "##### - missing values = 0 = 0.0 %\n",
    "\n",
    "##### - outliers = 27 = 18+9 (lb+ub) = 0.6667 %\n",
    "\n",
    "##### - more data points are available around (80-119) value of total_day_calls."
   ]
  },
  {
   "cell_type": "markdown",
   "id": "56a6c0d5-cc4e-48be-8a87-f854c32e62ca",
   "metadata": {},
   "source": [
    "#### 12. 'total_eve_calls'\n",
    "\n",
    "##### - skew = -0.0212 (very slightly left/negatively skewed) as between (-0.5,0).\n",
    "##### - kurt = 0.1306 (platykurtic/negative kurtosis) as below 3.\n",
    "\n",
    "##### - missing values = 0 = 0.0 %\n",
    "\n",
    "##### - outliers = 24 = 13+11 (lb+ub) = 0.5926 %\n",
    "\n",
    "##### - more data points are available around (80-119) value of total_eve_calls."
   ]
  },
  {
   "cell_type": "markdown",
   "id": "e6d6d0b0-ff3b-4dde-acd8-1e7482a621b4",
   "metadata": {},
   "source": [
    "#### 13. 'total_night_calls'\n",
    "\n",
    "##### - skew = 0.0116 (very slightly right/positively skewed) as between (0,0.5).\n",
    "##### - kurt = 0.0865 (platykurtic/negative kurtosis) as below 3.\n",
    "\n",
    "##### - missing values = 0 = 0.0 %\n",
    "\n",
    "##### - outliers = 32 = 12+20 (lb+ub) = 0.7901 %\n",
    "\n",
    "##### - more data points are available around (80-119) value of total_night_calls."
   ]
  },
  {
   "cell_type": "markdown",
   "id": "38340d42-3443-42c9-aeb5-f24dfa07d3ea",
   "metadata": {},
   "source": [
    "#### 14. 'total_intl_calls'\n",
    "\n",
    "##### - skew = 1.3480 (extremely right/positively skewed) as above 1.\n",
    "##### - kurt = 3.1915 (leptokurtic/positive kurtosis) as above 3.\n",
    "\n",
    "##### - missing values = 0 = 0.0 %\n",
    "\n",
    "##### - outliers = 96 = 0+96 (lb+ub) = 2.3704 %\n",
    "\n",
    "##### - more data points are available around (2-5) value of total_intl_calls."
   ]
  },
  {
   "cell_type": "markdown",
   "id": "edb78c01-3a0d-48db-988f-cd4b5250b544",
   "metadata": {},
   "source": [
    "#### 15. 'number_customer_service_calls'\n",
    "\n",
    "##### - skew = 1.0699 (extremely right/positively skewed) as above 1.\n",
    "##### - kurt = 1.5996 (platykurtic/negative kurtosis) as below 3.\n",
    "\n",
    "##### - missing values = 0 = 0.0 %\n",
    "\n",
    "##### - outliers = 319 = 0+319 (lb+ub) = 7.8765 %\n",
    "\n",
    "##### - more data points are available around (1-2) value of number_customer_service_calls."
   ]
  },
  {
   "cell_type": "markdown",
   "id": "070beeef-b7ed-4fdf-9f6b-3cbc5dbbd5a1",
   "metadata": {
    "toc-hr-collapsed": true
   },
   "source": [
    "### b. Category type features"
   ]
  },
  {
   "cell_type": "markdown",
   "id": "1edd1dce-543e-45fd-b493-dfee046e6052",
   "metadata": {},
   "source": [
    "#### 1. 'state'\n",
    "##### - total  labels = 51\n",
    "##### - labels = ('NJ', 'MN', 'MT', 'DE', 'OK', 'NV', 'WV', 'CA', 'MO', 'IL', 'CO','KY', 'ND', 'VT', 'OR', 'GA', 'TX', 'NH', 'VA', 'MS', 'PA', 'ME', 'WA', 'AK', 'AZ', 'WI', 'UT', 'KS', 'ID', 'NM', 'WY', 'IA', 'RI', 'IN', 'MI', 'AR', 'NE', 'NC', 'NY', 'FL', 'OH', 'DC', 'HI', 'TN', 'LA', 'AL', 'MD', 'CT', 'SC', 'MA', 'SD')\n",
    "##### - mode (for label WV) = (132)\n",
    "\n",
    "##### - missing values = 0 = 0.0 %"
   ]
  },
  {
   "cell_type": "markdown",
   "id": "140ac0cd-6c84-4c3d-8cb6-fe99e6d5b706",
   "metadata": {},
   "source": [
    "#### 2. 'area_code' \n",
    "##### - total  labels = 3 \n",
    "##### - labels = ('area_code_415', 'area_code_510', 'area_code_408')\n",
    "##### - mode (for label area_code_415) = (2006)\n",
    "\n",
    "##### - missing values = 0 = 0.0 %"
   ]
  },
  {
   "cell_type": "markdown",
   "id": "d8c87d1b-37e7-4125-aa3b-be1b3d57a1df",
   "metadata": {},
   "source": [
    "#### 3. 'international_plan' \n",
    "##### - total  labels = 2 \n",
    "##### - labels = ('yes','no')\n",
    "##### - mode (for label no) = (3670)\n",
    "\n",
    "##### - missing values = 0 = 0.0 %"
   ]
  },
  {
   "cell_type": "markdown",
   "id": "6a585130-3bdd-42cf-b096-221102f72e7b",
   "metadata": {},
   "source": [
    "#### 4. 'voice_mail_plan' \n",
    "##### - total  labels = 2 \n",
    "##### - labels = ('yes','no')\n",
    "##### - mode (for label no) = (2996)\n",
    "\n",
    "##### - missing values = 0 = 0.0 %"
   ]
  },
  {
   "cell_type": "markdown",
   "id": "9cec8218-0f4d-4aa4-a4df-e8f2721de234",
   "metadata": {},
   "source": [
    "#### 5. 'churn' (target feature)\n",
    "##### - total  labels = 2 \n",
    "##### - labels = ('yes','no')\n",
    "##### - mode (for label no) = (3480)\n",
    "\n",
    "##### - missing values = 0 = 0.0 %"
   ]
  },
  {
   "cell_type": "markdown",
   "id": "de2f6c41-cad5-4c8c-a1ea-6e9e79705f70",
   "metadata": {},
   "source": [
    "## B. BI / MULTI-VARIATE EDA"
   ]
  },
  {
   "cell_type": "markdown",
   "id": "f29ac073-5e4f-4be0-ac15-478f634cdde1",
   "metadata": {
    "tags": [],
    "toc-hr-collapsed": true
   },
   "source": [
    "### a. Numerical-Numerical\n",
    "#### Correlation Range Interpretation:\n",
    "##### - (0.0-0.10) - very low/weak correlation\n",
    "##### - (0.11-0.40) - low/weak correlation\n",
    "##### - (0.41-0.80) - moderate correlation\n",
    "##### - (0.81-1.0) - high correlation"
   ]
  },
  {
   "cell_type": "markdown",
   "id": "538d7695-d6db-4582-a7c7-9c4a209cafdc",
   "metadata": {
    "toc-hr-collapsed": true
   },
   "source": [
    "#### 1. Correlation of other numerical columns w.r.t. target feature ('churn') after integer transformation as ('churn_int').\n",
    "\n",
    "##### y {total_day_minutes} - x {churn} : low positive correlation with a value of  0.2178. With increase in total_day_minutes, churn of the customers increases.\n",
    "\n",
    "##### y {total_day_charge} - x {churn} : low positive correlation with a value of 0.2178. With increase in total_day_charge, churn of the customers increases.\n",
    "\n",
    "##### y {total_eve_minutes} - x {churn} : very low positive correlation with a value of 0.0743. With increase in total_eve_minutes, churn of the customers increases.\n",
    "\n",
    "##### y {total_eve_charge} - x {churn} : very low positive correlation with a value of 0.0743. With increase in total_eve_charge, churn of the customers increases.\n",
    "\n",
    "##### y {total_night_minutes} - x {churn} : very low positive correlation with a value of 0.0485. With increase in total_night_minutes, churn of the customers increases.\n",
    "\n",
    "##### y {total_night_charge} - x {churn} : very low positive correlation with a value of 0.0485. With increase in total_night_charge, churn of the customers increases.\n",
    "\n",
    "##### y {total_intl_minutes} - x {churn} : very low positive correlation with a value of 0.0592. With increase in total_intl_minutes, churn of the customers increases.\n",
    "\n",
    "##### y {total_intl_charge} - x {churn} : very low positive correlation with a value of 0.0591. With increase in total_intl_charge, churn of the customers increases.\n",
    "\n",
    "##### y {account_length} - x {churn} : very low positive correlation with a value of 0.0205. With increase in account_length, churn of the customer increases.\n",
    "\n",
    "##### y {number_vmail_messages} - x {churn} : low negative correlation with a value of -0.1012. With increase in number_vmail_messages, churn of the customer decreases.\n",
    "\n",
    "##### y {total_day_calls} - x {churn} : very low positive correlation with a value of 0.0098. With increase in total_day_calls, churn of the customer increases.\n",
    "\n",
    "##### y {total_eve_calls} - x {churn} : very low negative correlation with a value of -0.0061. With increase in total_eve_calls, churn of the customer decreases.\n",
    "\n",
    "##### y {total_night_calls} - x {churn} : very low negative correlation with a value of -0.0091. With increase in total_night_calls, churn of the customer decreases.\n",
    "\n",
    "##### y {total_intl_calls} - x {churn} : very low negative correlation with a value of -0.0304. With increase in total_intl_calls, churn of the customer decreases.\n",
    "\n",
    "##### y {number_customer_service_calls} - x {churn} : low positive correlation with a value of 0.2261. With increase in number_customer_service_calls, churn of the customer increases."
   ]
  },
  {
   "cell_type": "markdown",
   "id": "dafc0fd6-1280-43b6-9455-977598b1bf8b",
   "metadata": {
    "tags": [],
    "toc-hr-collapsed": true
   },
   "source": [
    "### b. Categorical-Numerical\n",
    "#### - Considering 'churn' class labels 'no', 'yes'\n",
    "#### - Exploration of numerical features w.r.t. target feature ('churn') as categorical type."
   ]
  },
  {
   "cell_type": "markdown",
   "id": "48b4cd07-1596-4a9b-82dd-d9738ea8dad3",
   "metadata": {
    "tags": []
   },
   "source": [
    "#### 1. y {total_day_minutes} - x {churn}\n",
    "##### a) Average value of 'total_day_minutes' for label (yes) is higher than label (no).\n",
    "##### b) Oultiers for label (no) below lower bound and no outliers for label (yes).\n",
    "##### c) Distibution of total_day_minutes is better normally distributed for label (no) than label (yes).\n",
    "\n",
    "\n",
    "#### 2.  y {total_day_charge} - x {churn}\n",
    "##### a) Average value of 'total_day_charge' for label (yes) is higher than label (no).\n",
    "##### b) Oultiers for label (no) below lower bound and no outliers for label (yes).\n",
    "##### c) Distibution of total_day_charge is better normally distributed for label (no) than label (yes).\n",
    "\n",
    "\n",
    "#### 3.  y {total_eve_minutes} - x {churn}\n",
    "##### a) Average value of 'total_eve_minutes' for label (yes) is higher than label (no).\n",
    "##### b) Oultiers exists on both sides for label (no) and no outliers for label (yes).\n",
    "##### c) Distibution of total_eve_minutes is nearly normal and similar for both the labels (no, yes).\n",
    "\n",
    "\n",
    "#### 4.  y {total_eve_charge} - x {churn}\n",
    "##### a) Average value of 'total_eve_charge' for label (yes) is higher than label (no).\n",
    "##### b) Oultiers exists on both sides for label (no) and no outliers for label (yes).\n",
    "##### c) Distibution of total_eve_charge is nearly normal and similar for both the labels (no, yes).\n",
    "\n",
    "\n",
    "#### 5.  y {total_night_minutes} - x {churn}\n",
    "##### a) Average value of 'total_night_minutes' for label (yes) is slightly higher but comparable to label (no).\n",
    "##### b) Oultiers exists on both sides for both the labels (no, yes).\n",
    "##### c) Distibution of total_night_minutes is nearly normal and similar for both the labels (no, yes).\n",
    "\n",
    "\n",
    "#### 6.  y {total_night_charge} - x {churn}\n",
    "##### a) Average value of 'total_night_charge' for label (yes) is slightly higher but comparable to label (no).\n",
    "##### b) Oultiers exists on both sides for both the labels (no, yes).\n",
    "##### c) Distibution of total_night_charge is nearly normal and similar for both the labels (no, yes).\n",
    "\n",
    "\n",
    "#### 7.  y {total_intl_minutes} - x {churn}\n",
    "##### a) Average value of 'total_intl_minutes' for label (yes) is slightly higher but comparable to label (no).\n",
    "##### b) Oultiers exists on both sides for both the labels (no, yes).\n",
    "##### c) Distibution of total_intl_minutes is better normally distributed for label (no) than label (yes).\n",
    "\n",
    "\n",
    "#### 8.  y {total_intl_charge} - x {churn}\n",
    "##### a) Average value of 'total_intl_charge' for label (yes) is slightly higher but comparable to label (no).\n",
    "##### b) Oultiers exists on both sides for both the labels (no, yes).\n",
    "##### c) Distibution of total_intl_charge is better normally distributed for label (no) than label (yes).\n",
    "\n",
    "\n",
    "#### 9.  y {account_length} - x {churn}\n",
    "##### a) Average value of 'account_length' for label (yes) is slightly higher but comparable to label (no).\n",
    "##### b) Oultiers exists on upper side for both the labels (no, yes).\n",
    "##### c) Distibution of account_length is better normally distributed for label (yes) than label (no).\n",
    "\n",
    "\n",
    "#### 10.  y {number_vmail_messages} - x {churn}\n",
    "##### a) Average value of 'number_vmail_messages' for label (no) is higher (twice) than label (no).\n",
    "##### b) Oultiers exists on upper side for both the labels (no, yes).\n",
    "##### Boxplot for label 'yes' indicates that lb,q1,q2,q3,ub have value of 0. There are no data points between 1-14 for number_vmail_messages.\n",
    "##### c) Distibution of number_vmail_messages for both the labels is not normal and extremely right (postively) skewed.\n",
    "\n",
    "\n",
    "#### 11.  y {total_day_calls} - x {churn}\n",
    "##### a) Average value of 'total_day_calls' for label (yes) is slightly higher but comparable to label (no).\n",
    "##### b) Oultiers exists on both sides for both the labels (no, yes).\n",
    "##### c) Distibution of total_day_calls for both the labels is nearly normal and similar.\n",
    "\n",
    "\n",
    "#### 12.  y {total_eve_calls} - x {churn}\n",
    "##### a) Average value of 'total_eve_calls' for label (no) is slightly higher but comparable to label (yes).\n",
    "##### b) Oultiers exists on both sides for label (no) and upper side for labels (yes).\n",
    "##### c) Distibution of total_eve_calls for both the labels is nearly normal and similar.\n",
    "\n",
    "\n",
    "#### 13.  y {total_night_calls} - x {churn}\n",
    "##### a) Average value of 'total_night_calls' for label (no) is slightly higher but comparable to label (yes).\n",
    "##### b) Oultiers exists on both sides for label (no) and for label (yes) there is no outlier.\n",
    "##### c) Distibution of total_night_calls is better normally distributed for label (no) than label (yes), but nearly similar.\n",
    "\n",
    "\n",
    "#### 14.  y {total_intl_calls} - x {churn}\n",
    "##### a) Average value of 'total_intl_calls' for label (no) is slightly higher than label (no).\n",
    "##### b) Oultiers exists on upper side for both the labels (no, yes).\n",
    "##### c) Distibution of total_intl_calls for both the labels is nearly similar but extremely right (positively) skewed.\n",
    "\n",
    "\n",
    "#### 15.  y {number_customer_service_calls} - x {churn}\n",
    "##### a) Average value of 'number_customer_service_calls' for label (yes) is higher (1.5x) than label (no).\n",
    "##### b) Oultiers exists on upper side for both the labels (no, yes).\n",
    "##### c) Distibution of number_customer_service_calls is not normally distributed and right skewed for both the labels."
   ]
  },
  {
   "cell_type": "markdown",
   "id": "4b198ce9-4a66-4a56-8540-ff4182833561",
   "metadata": {
    "toc-hr-collapsed": true
   },
   "source": [
    "### c. Categorical-Categorical\n",
    "#### - Considering 'churn' class labels 'no', 'yes'\n",
    "#### - Exploration of categorical and numerical features w.r.t. target feature ('churn') as categorical type."
   ]
  },
  {
   "cell_type": "markdown",
   "id": "8f0cd559-a344-4f19-a4fa-b4e9573f729f",
   "metadata": {},
   "source": [
    "#### 1. y {state} - x {churn}, \n",
    "##### a) Features mostly affecting the churn in all states are total_day_charge and number_customer_service_calls. Other features affecting the churn are total_eve_charge, total_night_charge, total_intl_charge, account_length, total_day_calls, but comparabe to customers who have not churned.\n",
    "\n",
    "##### b) Features contributing most for non churn of the customers is number_vmail_messages, followed by total_eve_calls, total_night_calls, and total_intl_calls.\n",
    "\n",
    "\n",
    "#### 2. y {area_code} - x {churn}, \n",
    "##### a) Features mostly affecting the churn in all area_code are total_day_charge and number_customer_service_calls. Other features affecting the churn are total_eve_charge, total_night_charge, total_intl_charge, account_length, total_day_calls, but comparabe to customers who have not churned.\n",
    "\n",
    "##### b) Features contributing most for non churn of the customers is number_vmail_messages, followed by total_eve_calls, total_night_calls, and total_intl_calls.\n",
    "\n",
    "\n",
    "#### 3. y {international_plan} - x {churn}, \n",
    "##### a) Customers without international plan have churned most for average value of total_day_charge, total_eve_charge, total_night_charge, number_customer_service_calls.\n",
    "\n",
    "##### b) Customers with international plan have churned most for average value of total_intl_charge.\n",
    "       \n",
    "##### c) Customers with international plan who have not churned for the average value of account_length, number_vmail_messages, total_day_calls, total_eve_calls, total_night_calls, total_intl_calls.\n",
    "\n",
    "\n",
    "#### 4. y {voice_mail_plan} - x {churn}, \n",
    "##### a) Customers without voice mail plan have churned most for average value of total_day_charge, total_eve_charge, total_night_charge, total_day_calls.\n",
    "\n",
    "##### b) Customers with voice mail plan have churned most for average value of total_intl_charge, account_length, number_vmail_messages, total_intl_calls, number_customer_service_calls.\n",
    "       \n",
    "##### c) Customers with voice mail plan who have not churned for the average value of total_night_calls.\n",
    "\n",
    "##### d) Customers without voice mail plan who have not churned for the average value of total_eve_calls."
   ]
  },
  {
   "cell_type": "markdown",
   "id": "0751bc82-e899-4e11-91a3-ba710bc5f60e",
   "metadata": {},
   "source": [
    "## C. EDA CONCLUSIONS"
   ]
  },
  {
   "cell_type": "markdown",
   "id": "39f0f873-1d17-4326-a789-69679cfab308",
   "metadata": {
    "toc-hr-collapsed": true
   },
   "source": [
    "### 1. Uni-Variate EDA conclusions\n",
    "\n",
    "#### Numerical Features\n",
    "##### - Total numerical features: 15 ['total_day_minutes', 'total_day_charge', 'total_eve_minutes', 'total_eve_charge', 'total_night_minutes', 'total_night_charge', 'total_intl_minutes', 'total_intl_charge', 'account_length', 'number_vmail_messages', 'total_day_calls', 'total_eve_calls', 'total_night_calls', 'total_intl_calls', 'number_customer_service_calls']\n",
    "\n",
    "##### - There are no missing values in any of the features.\n",
    "\n",
    "#### - SKEWNESS:\n",
    "##### - Extreme: positive(number_vmail_messages, total_intl_calls, number_customer_service_calls), negative()\n",
    "##### - High: positive(), negative()\n",
    "##### - Moderate: positive(), negative()\n",
    "##### - Low: positive(account_length), negative(total_intl_minutes, total_intl_charge)\n",
    "##### - Very Low: positive(total_night_minutes, total_night_charge, total_night_calls), negative(total_day_minutes, total_day_charge, total_eve_minutes, total_eve_charge, total_day_calls, total_eve_calls)\n",
    "\n",
    "##### - Outliers vary in the range of (0.44-8) % for the features.\n",
    "\n",
    "#### Categorical Features \n",
    "##### - Total categorical features: 5 ['state', 'area_code', 'international_plan', 'voice_mail_plan', 'churn'] \n",
    "\n",
    "##### - 'churn' is the target feature for analysis and building ML models. It has two labels ('no','yes'). 'churn' has dominating class label 'no' with mode of 3480, and no missing values.\n",
    "\n",
    "##### - 'state' feature has 51 categories in it, and other features have 2 categories each."
   ]
  },
  {
   "cell_type": "markdown",
   "id": "dab2edfb-03e1-400f-b892-f9f79280cdce",
   "metadata": {
    "tags": [],
    "toc-hr-collapsed": true
   },
   "source": [
    "### 2. Bi/Multi Variate EDA conclusions\n",
    "\n",
    "#### Numerical-Numerical {**Correlation** between features and target}, 'churn' {as integer type} vs others\n",
    "\n",
    "##### - High : positive(), negative()\n",
    "##### - Moderate : positive(), negative()\n",
    "##### - Weak : positive(total_day_minutes, total_day_charge, number_customer_service_calls), negative(number_vmail_messages)\n",
    "##### - Very Weak : positive (total_eve_minutes, total_eve_charge, total_night_minutes, total_night_charge, total_intl_minutes, total_intl_charge, account_length, total_day_calls), negative(total_eve_calls, total_night_calls, total_intl_calls)\n",
    "\n",
    "\n",
    "#### Categorical-Numerical, 'churn' vs others\n",
    "\n",
    "##### - Outliers exist for 'churn' categories ('no', 'yes') on either or both sides of distribution of numerical features.\n",
    "\n",
    "##### - Features contributing the most for churn of the customers are: total_day_minutes, total_day_charge, total_eve_minutes, total_eve_charge, number_customer_service_calls.\n",
    "##### - Other features contributing for churn of the customers are: total_night_minutes, total_night_charge, total_intl_minutes, total_intl_charge, account_length, total_day_calls.\n",
    "\n",
    "##### - Features contributing for non-churn of the customers are: number_vmail_messages, total_eve_calls, total_night_calls, total_intl_calls.\n",
    "\n",
    "\n",
    "#### Categorical-Categorical\n",
    "\n",
    "##### - Features highly affecting the churn of the customers in all states are: total_day_charge and number_customer_service_calls.\n",
    "\n",
    "##### - Churn of the customers is mostly affected in all area_codes by features: total_day_charge and number_customer_service_calls.\n",
    "\n",
    "##### - Customers without international plans are most likely to churn due to: total_day_charge, total_eve_charge, total_night_charge, number_customer_service_calls.\n",
    "##### - Customers with international plans are most likely to churn due to: total_intl_charge.\n",
    "\n",
    "\n",
    "##### - Customers without voice mail plans are most likely to churn due to: total_day_charge, total_eve_charge, total_night_charge, total_day_calls.\n",
    "##### - Customers with voice mail plans are most likely to churn due to: total_intl_charge, account_length, number_vmail_messages, total_intl_calls, number_customer_service_calls."
   ]
  },
  {
   "cell_type": "code",
   "execution_count": null,
   "id": "ba1e541a-ebad-41da-9015-d1da4d01330f",
   "metadata": {},
   "outputs": [],
   "source": []
  }
 ],
 "metadata": {
  "kernelspec": {
   "display_name": "Python 3 (ipykernel)",
   "language": "python",
   "name": "python3"
  },
  "language_info": {
   "codemirror_mode": {
    "name": "ipython",
    "version": 3
   },
   "file_extension": ".py",
   "mimetype": "text/x-python",
   "name": "python",
   "nbconvert_exporter": "python",
   "pygments_lexer": "ipython3",
   "version": "3.10.10"
  }
 },
 "nbformat": 4,
 "nbformat_minor": 5
}
