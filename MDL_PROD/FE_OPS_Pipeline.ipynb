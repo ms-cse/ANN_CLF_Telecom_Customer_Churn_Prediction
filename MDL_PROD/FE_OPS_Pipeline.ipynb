{
 "cells": [
  {
   "cell_type": "markdown",
   "id": "f6079c98-4e48-499e-894f-c50109507c87",
   "metadata": {},
   "source": [
    "# FEATURE ENGINEERING OPERATIONS - {\"CUSTOMER CHURN\" DATASET}"
   ]
  },
  {
   "cell_type": "markdown",
   "id": "a6709c06-804a-47d1-b0df-5aee8b18f5a3",
   "metadata": {},
   "source": [
    "## 1. Importing Modules and Setting Configurations"
   ]
  },
  {
   "cell_type": "code",
   "execution_count": 1,
   "id": "36db63e5-2d56-407a-b8c0-22812c099423",
   "metadata": {
    "tags": []
   },
   "outputs": [],
   "source": [
    "import numpy as np\n",
    "import pandas as pd\n",
    "\n",
    "import matplotlib.pyplot as plt\n",
    "import seaborn as sb\n",
    "\n",
    "from scipy import stats as sts\n",
    "\n",
    "from imblearn.over_sampling import SMOTE\n",
    "\n",
    "from sklearn.preprocessing import OneHotEncoder, PowerTransformer, StandardScaler\n",
    "from sklearn.compose import ColumnTransformer\n",
    "from sklearn.pipeline import Pipeline\n",
    "\n",
    "from sklearn.feature_selection import SelectKBest, mutual_info_classif\n",
    "\n",
    "from pickle import dump, load\n",
    "\n",
    "import warnings\n",
    "warnings.filterwarnings('ignore')\n",
    "\n",
    "from sklearn import set_config\n",
    "set_config(display='diagram')"
   ]
  },
  {
   "cell_type": "code",
   "execution_count": 2,
   "id": "4b8cd288-5945-4063-9e00-9fbaeafdef8e",
   "metadata": {
    "tags": []
   },
   "outputs": [],
   "source": [
    "# PD Options\n",
    "\n",
    "pd.set_option('display.min_rows', 5)\n",
    "pd.set_option('display.max_rows', 25)\n",
    "pd.set_option('display.precision', 4)"
   ]
  },
  {
   "cell_type": "code",
   "execution_count": 3,
   "id": "858f3ead-7968-409b-8b3e-f62c9658ccd6",
   "metadata": {
    "tags": []
   },
   "outputs": [],
   "source": [
    "# SB Options\n",
    "\n",
    "sb.set_theme(context='notebook', style='whitegrid', palette='pastel', font='times new roman', font_scale=1.25)"
   ]
  },
  {
   "cell_type": "markdown",
   "id": "07dd8351-a616-4074-9969-231f6f77f0ab",
   "metadata": {},
   "source": [
    "## 2. Feature Enginerring Train and Test Datasets"
   ]
  },
  {
   "cell_type": "markdown",
   "id": "ce85e6be-1a48-457c-b9d1-81d3313712e6",
   "metadata": {},
   "source": [
    "### 2.1 Prepare Target Feature"
   ]
  },
  {
   "cell_type": "code",
   "execution_count": 4,
   "id": "d1f3e3c8-f2ff-41de-b587-f85d58792c4c",
   "metadata": {},
   "outputs": [],
   "source": [
    "def prep_target(ytar):\n",
    "    ytar = ytar.apply(lambda x: 1 if x=='yes' else 0)\n",
    "    #ytar = ytar.astype('category')\n",
    "    \n",
    "    return ytar"
   ]
  },
  {
   "cell_type": "markdown",
   "id": "b812e081-5efc-490a-b5f1-ce461b3ccc38",
   "metadata": {},
   "source": [
    "### 2.2 Handle Oultiers"
   ]
  },
  {
   "cell_type": "code",
   "execution_count": 5,
   "id": "0cfc1edd-665a-4705-ba4b-1db27758a638",
   "metadata": {},
   "outputs": [],
   "source": [
    "def outliers_detect_handle(df):\n",
    "     \n",
    "    fea_flo = df.select_dtypes(include='float').columns.values.tolist()\n",
    "    fea_int = df.select_dtypes(include='int').columns.values.tolist()\n",
    "\n",
    "    fea_num = fea_flo + fea_int\n",
    "    fea_num\n",
    "    \n",
    "    # OUTLIER DETECTION CODE ----------------------------------------------------------------------------------------------\n",
    "    \n",
    "    for fea in fea_num:\n",
    "      \n",
    "        print(f'Outlier Detection for Feature : {fea} ------------------------------------------------------------------- \\n')\n",
    "\n",
    "        mn = df[fea].min()\n",
    "        mx = df[fea].max()\n",
    "        #print(f'Minimum Value : {mn} and Maximum Value : {mx} \\n')\n",
    "\n",
    "        q1,q3 = df[fea].quantile([0.25,0.75])         #  for 1st and 3rd quartile\n",
    "        #print(f'1st Quartile : {q1} and 3rd Quartile : {q3} \\n')\n",
    "\n",
    "        lb = round(q1 - (q3-q1)*1.5,4)\n",
    "        ub = round(q3 + (q3-q1)*1.5,4)\n",
    "        #print(f'Lower Bound : {lb} and Higher Bound : {ub} \\n')\n",
    "\n",
    "        filtl = df[fea] < lb\n",
    "        out_low = df[filtl]\n",
    "        #print(f'No. of Outliers below Lower Bound ({lb}) are : {out_low.shape[0]}')\n",
    "\n",
    "        filtu = df[fea] > ub\n",
    "        out_high = df[filtu]\n",
    "        #print(f'No. of Outliers above Upper Bound ({ub}) are : {out_high.shape[0]}')\n",
    "\n",
    "        out_df = df[(filtl | filtu)]\n",
    "        print(f' --> Total No. of Outliers before : {out_df.shape[0]} \\n')\n",
    "\n",
    "        per = (out_df.shape[0]/df[fea].shape[0])*100\n",
    "        #print(f'Percentage of Outliers Records are : {round(per,4)} % \\n\\n')\n",
    "\n",
    "#         plt.figure(figsize=(15,5))\n",
    "#         plt.subplot(2,2,1)\n",
    "#         plt.title('KDE Plot Before')\n",
    "#         sb.kdeplot(data=df, x=fea)\n",
    "\n",
    "#         plt.subplot(2,2,2)\n",
    "#         plt.title('BOX Plot Before')\n",
    "#         sb.boxplot(data=df, x=fea)\n",
    "\n",
    "        # OUTLIER HANDLING USING CAPPING TECHNIQUE -----------------------------------------------------------------------------\n",
    "        df.loc[filtl,fea] = lb                        \n",
    "        df.loc[filtu,fea] = ub\n",
    "\n",
    "        # OUTLIER DETECTION CODE -----------------------------------------------------------------------------------------------\n",
    "        filtl = df[fea] < lb\n",
    "        out_low = df[filtl]\n",
    "        # print(f'No. of Outliers below Lower Bound ({lb}) are : {out_low.shape[0]}')\n",
    "\n",
    "        filtu = df[fea] > ub\n",
    "        out_high = df[filtu]\n",
    "        # print(f'No. of Outliers above Upper Bound ({ub}) are : {out_high.shape[0]}')\n",
    "\n",
    "        out_df = df[(filtl | filtu)]\n",
    "        print(f' --> Total No. of Outliers after : {out_df.shape[0]} \\n')\n",
    "\n",
    "        per = (out_df.shape[0]/df[fea].shape[0])*100\n",
    "        #print(f'Percentage of Outliers Records are : {round(per,4)} %')\n",
    "\n",
    "#         plt.subplot(2,2,3)\n",
    "#         plt.title('KDE Plot After')\n",
    "#         sb.kdeplot(data=df, x=fea)\n",
    "\n",
    "#         plt.subplot(2,2,4)\n",
    "#         plt.title('BOX Plot After')\n",
    "#         sb.boxplot(data=df, x=fea)\n",
    "\n",
    "#         plt.subplots_adjust(left=0.1, bottom=0.1, right=0.9, top=0.9, wspace=0.1, hspace=0.8)\n",
    "#         plt.show()\n",
    "   \n",
    "    return df"
   ]
  },
  {
   "cell_type": "markdown",
   "id": "c2ccd6ba-5766-4ea6-80c9-b7af827281f6",
   "metadata": {},
   "source": [
    "### 2.3 Feature Transformations"
   ]
  },
  {
   "cell_type": "code",
   "execution_count": 6,
   "id": "779694d8-9049-43f0-ac02-c762b5fef654",
   "metadata": {},
   "outputs": [],
   "source": [
    "# cols=[1,5,7,10,13,15,16,17,18]\n",
    "\n",
    "num_ft_pt = ColumnTransformer([\n",
    "    ('yj',PowerTransformer(method='yeo-johnson', standardize=False),[1,5,7,10,13,15,16,17,18])\n",
    "    ], remainder='passthrough')"
   ]
  },
  {
   "cell_type": "markdown",
   "id": "b46b28eb-b466-4715-817c-303c3f0cb26e",
   "metadata": {},
   "source": [
    "### 2.4 Scaling"
   ]
  },
  {
   "cell_type": "code",
   "execution_count": 7,
   "id": "e213b9de-ee1f-4b1c-9227-f9a11895bb43",
   "metadata": {},
   "outputs": [],
   "source": [
    "num_scl_ss = ColumnTransformer([\n",
    "                ('ss',StandardScaler(),[0,1,2,3,4,5,6,7,8,13,14,15,16,17,18])\n",
    "                ],\n",
    "                remainder='passthrough')"
   ]
  },
  {
   "cell_type": "markdown",
   "id": "890f86ba-3e8a-4a13-9164-b4c7ca75f2ca",
   "metadata": {},
   "source": [
    "### 2.5 Categorical Feature Encoding"
   ]
  },
  {
   "cell_type": "code",
   "execution_count": 8,
   "id": "63a0399a-b97d-4789-b244-4b546479168a",
   "metadata": {},
   "outputs": [],
   "source": [
    "cat_enc_ohe = ColumnTransformer([\n",
    "                ('ohe',OneHotEncoder(drop='first', sparse_output=False, dtype='int8'),[15,16,17,18])\n",
    "                ],\n",
    "                remainder='passthrough')"
   ]
  },
  {
   "cell_type": "code",
   "execution_count": 9,
   "id": "6f46ea22-3154-4c31-8897-cc24b7978d5a",
   "metadata": {
    "tags": []
   },
   "outputs": [],
   "source": [
    "steps1 = [('pt',num_ft_pt),\n",
    "     ('ss',num_scl_ss),\n",
    "     ('ohe',cat_enc_ohe)\n",
    "     ]\n",
    "\n",
    "pipe1 = Pipeline(steps1)            # for training dataset"
   ]
  },
  {
   "cell_type": "markdown",
   "id": "979295f5-fb5f-4995-88fd-212c691f3083",
   "metadata": {},
   "source": [
    "### 2.6 Imbalance Dataset Handling"
   ]
  },
  {
   "cell_type": "code",
   "execution_count": 10,
   "id": "2047afb5-4cca-47dc-8183-76c4a03c0a4e",
   "metadata": {},
   "outputs": [],
   "source": [
    "sm = SMOTE(random_state=46)"
   ]
  },
  {
   "cell_type": "markdown",
   "id": "573f90c6-1df2-4239-a40e-a45d3d78dcfd",
   "metadata": {},
   "source": [
    "### 2.7 Feature Selection Technique"
   ]
  },
  {
   "cell_type": "code",
   "execution_count": 11,
   "id": "5ff851d4-6bde-4ddb-a115-66707afe2de9",
   "metadata": {},
   "outputs": [],
   "source": [
    "skb = SelectKBest(mutual_info_classif, k='all')"
   ]
  },
  {
   "cell_type": "markdown",
   "id": "3280532b-37cb-42a0-8ccd-ef7fe9514f00",
   "metadata": {},
   "source": [
    "## 3 Training Data"
   ]
  },
  {
   "cell_type": "markdown",
   "id": "cc193d20-64e2-4100-8fa3-1f2f2b46ec10",
   "metadata": {},
   "source": [
    "### 3.1 Train Dataset"
   ]
  },
  {
   "cell_type": "code",
   "execution_count": 12,
   "id": "f848279d-2bbd-4896-9921-2fb77b846a2e",
   "metadata": {
    "tags": []
   },
   "outputs": [
    {
     "name": "stdout",
     "output_type": "stream",
     "text": [
      "Shape of the train dataset : (4150, 20)\n"
     ]
    },
    {
     "data": {
      "text/html": [
       "<div>\n",
       "<style scoped>\n",
       "    .dataframe tbody tr th:only-of-type {\n",
       "        vertical-align: middle;\n",
       "    }\n",
       "\n",
       "    .dataframe tbody tr th {\n",
       "        vertical-align: top;\n",
       "    }\n",
       "\n",
       "    .dataframe thead th {\n",
       "        text-align: right;\n",
       "    }\n",
       "</style>\n",
       "<table border=\"1\" class=\"dataframe\">\n",
       "  <thead>\n",
       "    <tr style=\"text-align: right;\">\n",
       "      <th></th>\n",
       "      <th>state</th>\n",
       "      <th>account_length</th>\n",
       "      <th>area_code</th>\n",
       "      <th>international_plan</th>\n",
       "      <th>voice_mail_plan</th>\n",
       "      <th>number_vmail_messages</th>\n",
       "      <th>total_day_minutes</th>\n",
       "      <th>total_day_calls</th>\n",
       "      <th>total_day_charge</th>\n",
       "      <th>total_eve_minutes</th>\n",
       "      <th>total_eve_calls</th>\n",
       "      <th>total_eve_charge</th>\n",
       "      <th>total_night_minutes</th>\n",
       "      <th>total_night_calls</th>\n",
       "      <th>total_night_charge</th>\n",
       "      <th>total_intl_minutes</th>\n",
       "      <th>total_intl_calls</th>\n",
       "      <th>total_intl_charge</th>\n",
       "      <th>number_customer_service_calls</th>\n",
       "      <th>churn</th>\n",
       "    </tr>\n",
       "  </thead>\n",
       "  <tbody>\n",
       "    <tr>\n",
       "      <th>829</th>\n",
       "      <td>KS</td>\n",
       "      <td>110</td>\n",
       "      <td>area_code_415</td>\n",
       "      <td>yes</td>\n",
       "      <td>yes</td>\n",
       "      <td>27</td>\n",
       "      <td>267.9</td>\n",
       "      <td>103</td>\n",
       "      <td>45.54</td>\n",
       "      <td>263.3</td>\n",
       "      <td>74</td>\n",
       "      <td>22.38</td>\n",
       "      <td>178.1</td>\n",
       "      <td>106</td>\n",
       "      <td>8.01</td>\n",
       "      <td>8.3</td>\n",
       "      <td>2</td>\n",
       "      <td>2.24</td>\n",
       "      <td>1</td>\n",
       "      <td>yes</td>\n",
       "    </tr>\n",
       "    <tr>\n",
       "      <th>1425</th>\n",
       "      <td>PA</td>\n",
       "      <td>79</td>\n",
       "      <td>area_code_415</td>\n",
       "      <td>no</td>\n",
       "      <td>no</td>\n",
       "      <td>0</td>\n",
       "      <td>268.3</td>\n",
       "      <td>114</td>\n",
       "      <td>45.61</td>\n",
       "      <td>185.5</td>\n",
       "      <td>111</td>\n",
       "      <td>15.77</td>\n",
       "      <td>264.6</td>\n",
       "      <td>88</td>\n",
       "      <td>11.91</td>\n",
       "      <td>6.3</td>\n",
       "      <td>7</td>\n",
       "      <td>1.70</td>\n",
       "      <td>1</td>\n",
       "      <td>yes</td>\n",
       "    </tr>\n",
       "    <tr>\n",
       "      <th>144</th>\n",
       "      <td>MN</td>\n",
       "      <td>62</td>\n",
       "      <td>area_code_415</td>\n",
       "      <td>no</td>\n",
       "      <td>no</td>\n",
       "      <td>0</td>\n",
       "      <td>147.1</td>\n",
       "      <td>91</td>\n",
       "      <td>25.01</td>\n",
       "      <td>190.4</td>\n",
       "      <td>107</td>\n",
       "      <td>16.18</td>\n",
       "      <td>195.2</td>\n",
       "      <td>115</td>\n",
       "      <td>8.78</td>\n",
       "      <td>12.2</td>\n",
       "      <td>3</td>\n",
       "      <td>3.29</td>\n",
       "      <td>0</td>\n",
       "      <td>no</td>\n",
       "    </tr>\n",
       "    <tr>\n",
       "      <th>155</th>\n",
       "      <td>WA</td>\n",
       "      <td>51</td>\n",
       "      <td>area_code_408</td>\n",
       "      <td>no</td>\n",
       "      <td>no</td>\n",
       "      <td>0</td>\n",
       "      <td>232.4</td>\n",
       "      <td>109</td>\n",
       "      <td>39.51</td>\n",
       "      <td>187.4</td>\n",
       "      <td>95</td>\n",
       "      <td>15.93</td>\n",
       "      <td>231.2</td>\n",
       "      <td>107</td>\n",
       "      <td>10.40</td>\n",
       "      <td>9.1</td>\n",
       "      <td>3</td>\n",
       "      <td>2.46</td>\n",
       "      <td>1</td>\n",
       "      <td>no</td>\n",
       "    </tr>\n",
       "    <tr>\n",
       "      <th>1660</th>\n",
       "      <td>NY</td>\n",
       "      <td>60</td>\n",
       "      <td>area_code_510</td>\n",
       "      <td>no</td>\n",
       "      <td>yes</td>\n",
       "      <td>31</td>\n",
       "      <td>191.8</td>\n",
       "      <td>75</td>\n",
       "      <td>32.61</td>\n",
       "      <td>267.8</td>\n",
       "      <td>135</td>\n",
       "      <td>22.76</td>\n",
       "      <td>200.5</td>\n",
       "      <td>62</td>\n",
       "      <td>9.02</td>\n",
       "      <td>12.8</td>\n",
       "      <td>3</td>\n",
       "      <td>3.46</td>\n",
       "      <td>2</td>\n",
       "      <td>no</td>\n",
       "    </tr>\n",
       "  </tbody>\n",
       "</table>\n",
       "</div>"
      ],
      "text/plain": [
       "     state  account_length      area_code international_plan voice_mail_plan  \\\n",
       "829     KS             110  area_code_415                yes             yes   \n",
       "1425    PA              79  area_code_415                 no              no   \n",
       "144     MN              62  area_code_415                 no              no   \n",
       "155     WA              51  area_code_408                 no              no   \n",
       "1660    NY              60  area_code_510                 no             yes   \n",
       "\n",
       "      number_vmail_messages  total_day_minutes  total_day_calls  \\\n",
       "829                      27              267.9              103   \n",
       "1425                      0              268.3              114   \n",
       "144                       0              147.1               91   \n",
       "155                       0              232.4              109   \n",
       "1660                     31              191.8               75   \n",
       "\n",
       "      total_day_charge  total_eve_minutes  total_eve_calls  total_eve_charge  \\\n",
       "829              45.54              263.3               74             22.38   \n",
       "1425             45.61              185.5              111             15.77   \n",
       "144              25.01              190.4              107             16.18   \n",
       "155              39.51              187.4               95             15.93   \n",
       "1660             32.61              267.8              135             22.76   \n",
       "\n",
       "      total_night_minutes  total_night_calls  total_night_charge  \\\n",
       "829                 178.1                106                8.01   \n",
       "1425                264.6                 88               11.91   \n",
       "144                 195.2                115                8.78   \n",
       "155                 231.2                107               10.40   \n",
       "1660                200.5                 62                9.02   \n",
       "\n",
       "      total_intl_minutes  total_intl_calls  total_intl_charge  \\\n",
       "829                  8.3                 2               2.24   \n",
       "1425                 6.3                 7               1.70   \n",
       "144                 12.2                 3               3.29   \n",
       "155                  9.1                 3               2.46   \n",
       "1660                12.8                 3               3.46   \n",
       "\n",
       "      number_customer_service_calls churn  \n",
       "829                               1   yes  \n",
       "1425                              1   yes  \n",
       "144                               0    no  \n",
       "155                               1    no  \n",
       "1660                              2    no  "
      ]
     },
     "execution_count": 12,
     "metadata": {},
     "output_type": "execute_result"
    }
   ],
   "source": [
    "tr = pd.read_pickle('cc_train_pp.pkl')\n",
    "\n",
    "\n",
    "print(f'Shape of the train dataset : {tr.shape}')\n",
    "tr.head(5)"
   ]
  },
  {
   "cell_type": "code",
   "execution_count": 13,
   "id": "0a0adaf1-035c-42ec-99cf-793bf83f6030",
   "metadata": {
    "tags": []
   },
   "outputs": [],
   "source": [
    "Xtr = tr.drop(columns='churn')\n",
    "ytr = tr['churn']"
   ]
  },
  {
   "cell_type": "markdown",
   "id": "58c307f3-3334-481e-a7e7-cb08a658fed3",
   "metadata": {},
   "source": [
    "### 3.2 FE Steps"
   ]
  },
  {
   "cell_type": "code",
   "execution_count": 14,
   "id": "ab86dc39-b2b4-4d8c-9b99-6db183d016f7",
   "metadata": {
    "tags": []
   },
   "outputs": [],
   "source": [
    "ytr = prep_target(ytr)"
   ]
  },
  {
   "cell_type": "code",
   "execution_count": 15,
   "id": "ea4b6ecc-50ef-49ae-a2aa-ee01c5948b32",
   "metadata": {
    "tags": []
   },
   "outputs": [
    {
     "name": "stdout",
     "output_type": "stream",
     "text": [
      "Outlier Detection for Feature : total_day_minutes ------------------------------------------------------------------- \n",
      "\n",
      " --> Total No. of Outliers before : 22 \n",
      "\n",
      " --> Total No. of Outliers after : 0 \n",
      "\n",
      "Outlier Detection for Feature : total_day_charge ------------------------------------------------------------------- \n",
      "\n",
      " --> Total No. of Outliers before : 22 \n",
      "\n",
      " --> Total No. of Outliers after : 0 \n",
      "\n",
      "Outlier Detection for Feature : total_eve_minutes ------------------------------------------------------------------- \n",
      "\n",
      " --> Total No. of Outliers before : 34 \n",
      "\n",
      " --> Total No. of Outliers after : 0 \n",
      "\n",
      "Outlier Detection for Feature : total_eve_charge ------------------------------------------------------------------- \n",
      "\n",
      " --> Total No. of Outliers before : 34 \n",
      "\n",
      " --> Total No. of Outliers after : 0 \n",
      "\n",
      "Outlier Detection for Feature : total_night_minutes ------------------------------------------------------------------- \n",
      "\n",
      " --> Total No. of Outliers before : 34 \n",
      "\n",
      " --> Total No. of Outliers after : 0 \n",
      "\n",
      "Outlier Detection for Feature : total_night_charge ------------------------------------------------------------------- \n",
      "\n",
      " --> Total No. of Outliers before : 33 \n",
      "\n",
      " --> Total No. of Outliers after : 0 \n",
      "\n",
      "Outlier Detection for Feature : total_intl_minutes ------------------------------------------------------------------- \n",
      "\n",
      " --> Total No. of Outliers before : 60 \n",
      "\n",
      " --> Total No. of Outliers after : 0 \n",
      "\n",
      "Outlier Detection for Feature : total_intl_charge ------------------------------------------------------------------- \n",
      "\n",
      " --> Total No. of Outliers before : 60 \n",
      "\n",
      " --> Total No. of Outliers after : 0 \n",
      "\n",
      "Outlier Detection for Feature : account_length ------------------------------------------------------------------- \n",
      "\n",
      " --> Total No. of Outliers before : 20 \n",
      "\n",
      " --> Total No. of Outliers after : 0 \n",
      "\n",
      "Outlier Detection for Feature : number_vmail_messages ------------------------------------------------------------------- \n",
      "\n",
      " --> Total No. of Outliers before : 82 \n",
      "\n",
      " --> Total No. of Outliers after : 0 \n",
      "\n",
      "Outlier Detection for Feature : total_day_calls ------------------------------------------------------------------- \n",
      "\n",
      " --> Total No. of Outliers before : 27 \n",
      "\n",
      " --> Total No. of Outliers after : 0 \n",
      "\n",
      "Outlier Detection for Feature : total_eve_calls ------------------------------------------------------------------- \n",
      "\n",
      " --> Total No. of Outliers before : 23 \n",
      "\n",
      " --> Total No. of Outliers after : 0 \n",
      "\n",
      "Outlier Detection for Feature : total_night_calls ------------------------------------------------------------------- \n",
      "\n",
      " --> Total No. of Outliers before : 32 \n",
      "\n",
      " --> Total No. of Outliers after : 0 \n",
      "\n",
      "Outlier Detection for Feature : total_intl_calls ------------------------------------------------------------------- \n",
      "\n",
      " --> Total No. of Outliers before : 98 \n",
      "\n",
      " --> Total No. of Outliers after : 0 \n",
      "\n",
      "Outlier Detection for Feature : number_customer_service_calls ------------------------------------------------------------------- \n",
      "\n",
      " --> Total No. of Outliers before : 325 \n",
      "\n",
      " --> Total No. of Outliers after : 0 \n",
      "\n"
     ]
    }
   ],
   "source": [
    "Xtr = outliers_detect_handle(Xtr)"
   ]
  },
  {
   "cell_type": "code",
   "execution_count": 16,
   "id": "b440cd30-ca75-40bd-8818-525251528180",
   "metadata": {},
   "outputs": [],
   "source": [
    "# dump(Xtr, open('Xtr_prod.pkl','wb'))\n",
    "# print('\"Xtr\" Features Saved Successfully')"
   ]
  },
  {
   "cell_type": "code",
   "execution_count": 17,
   "id": "df2458da-032c-40de-9b40-559bd2c6f1d4",
   "metadata": {},
   "outputs": [
    {
     "name": "stdout",
     "output_type": "stream",
     "text": [
      "\"Xtr\" Features Saved Successfully\n"
     ]
    }
   ],
   "source": [
    "Xtr.to_csv('Xtr_prod.csv', index=False)\n",
    "print('\"Xtr\" Features Saved Successfully')"
   ]
  },
  {
   "cell_type": "code",
   "execution_count": 18,
   "id": "575f2209-9982-4e95-a020-9c349d966e42",
   "metadata": {
    "tags": []
   },
   "outputs": [],
   "source": [
    "Xtr = pipe1.fit_transform(Xtr,ytr)"
   ]
  },
  {
   "cell_type": "code",
   "execution_count": 19,
   "id": "607c4d81-49e4-447a-8baf-f46892a53f1a",
   "metadata": {
    "tags": []
   },
   "outputs": [],
   "source": [
    "Xtr, ytr = sm.fit_resample(Xtr,ytr)"
   ]
  },
  {
   "cell_type": "code",
   "execution_count": 20,
   "id": "a2fdc843-53c3-449c-bec6-f463b39c944f",
   "metadata": {
    "tags": []
   },
   "outputs": [
    {
     "name": "stdout",
     "output_type": "stream",
     "text": [
      "[ True  True  True  True  True  True  True  True  True  True  True  True\n",
      "  True  True  True  True  True  True  True  True  True  True  True  True\n",
      "  True  True  True  True  True  True  True  True  True  True  True  True\n",
      "  True  True  True  True  True  True  True  True  True  True  True  True\n",
      "  True  True  True  True  True  True  True  True  True  True  True  True\n",
      "  True  True  True  True  True  True  True  True  True]\n"
     ]
    }
   ],
   "source": [
    "Xtr = skb.fit_transform(Xtr, ytr)\n",
    "print(skb.get_support())"
   ]
  },
  {
   "cell_type": "code",
   "execution_count": 21,
   "id": "5de6104d-2154-4045-aa69-dfb397ae08e6",
   "metadata": {
    "tags": []
   },
   "outputs": [
    {
     "data": {
      "text/plain": [
       "(7132, 69)"
      ]
     },
     "execution_count": 21,
     "metadata": {},
     "output_type": "execute_result"
    }
   ],
   "source": [
    "Xtr.shape"
   ]
  },
  {
   "cell_type": "code",
   "execution_count": 22,
   "id": "afba7208-1345-4abe-8c3f-4abde71f6653",
   "metadata": {
    "tags": []
   },
   "outputs": [
    {
     "data": {
      "text/plain": [
       "array([[ 0.        ,  0.        ,  0.        ,  0.        ,  0.        ,\n",
       "         0.        ,  0.        ,  0.        ,  0.        ,  0.        ,\n",
       "         0.        ,  0.        ,  0.        ,  0.        ,  0.        ,\n",
       "         1.        ,  0.        ,  0.        ,  0.        ,  0.        ,\n",
       "         0.        ,  0.        ,  0.        ,  0.        ,  0.        ,\n",
       "         0.        ,  0.        ,  0.        ,  0.        ,  0.        ,\n",
       "         0.        ,  0.        ,  0.        ,  0.        ,  0.        ,\n",
       "         0.        ,  0.        ,  0.        ,  0.        ,  0.        ,\n",
       "         0.        ,  0.        ,  0.        ,  0.        ,  0.        ,\n",
       "         0.        ,  0.        ,  0.        ,  0.        ,  0.        ,\n",
       "         1.        ,  0.        ,  1.        ,  1.        ,  0.26828088,\n",
       "         1.67844957,  0.15721164, -1.32572117,  0.31261845, -0.74529324,\n",
       "        -1.13227713, -0.74779116, -0.31021018,  1.6291093 ,  1.62868227,\n",
       "         1.26279779,  1.26264614, -0.45014995, -0.45221817]])"
      ]
     },
     "execution_count": 22,
     "metadata": {},
     "output_type": "execute_result"
    }
   ],
   "source": [
    "Xtr[:1]"
   ]
  },
  {
   "cell_type": "markdown",
   "id": "5150e092-788e-4edf-bc42-6ef5c1c87475",
   "metadata": {},
   "source": [
    "### 3.3 Save the train FE data as CSV, PKL file"
   ]
  },
  {
   "cell_type": "code",
   "execution_count": 23,
   "id": "0586af9e-b354-4f94-b0d8-74d21efc289f",
   "metadata": {
    "tags": []
   },
   "outputs": [],
   "source": [
    "Xtr = pd.DataFrame(Xtr)                # ndarray to df"
   ]
  },
  {
   "cell_type": "code",
   "execution_count": 24,
   "id": "9aeb91ea-ce5a-4ae8-b55e-f5f92963d4a9",
   "metadata": {
    "tags": []
   },
   "outputs": [],
   "source": [
    "tr = pd.concat([Xtr,ytr], axis=1)   # concat feature df and target series"
   ]
  },
  {
   "cell_type": "code",
   "execution_count": 25,
   "id": "1267ec9b-7ca2-4ad5-9a6d-c034b641108c",
   "metadata": {
    "tags": []
   },
   "outputs": [
    {
     "data": {
      "text/plain": [
       "(7132, 70)"
      ]
     },
     "execution_count": 25,
     "metadata": {},
     "output_type": "execute_result"
    }
   ],
   "source": [
    "tr.shape"
   ]
  },
  {
   "cell_type": "code",
   "execution_count": 26,
   "id": "23b1162d-51fe-48cd-8f9e-a479af0f2333",
   "metadata": {
    "tags": []
   },
   "outputs": [
    {
     "data": {
      "text/html": [
       "<div>\n",
       "<style scoped>\n",
       "    .dataframe tbody tr th:only-of-type {\n",
       "        vertical-align: middle;\n",
       "    }\n",
       "\n",
       "    .dataframe tbody tr th {\n",
       "        vertical-align: top;\n",
       "    }\n",
       "\n",
       "    .dataframe thead th {\n",
       "        text-align: right;\n",
       "    }\n",
       "</style>\n",
       "<table border=\"1\" class=\"dataframe\">\n",
       "  <thead>\n",
       "    <tr style=\"text-align: right;\">\n",
       "      <th></th>\n",
       "      <th>0</th>\n",
       "      <th>1</th>\n",
       "      <th>2</th>\n",
       "      <th>3</th>\n",
       "      <th>4</th>\n",
       "      <th>5</th>\n",
       "      <th>6</th>\n",
       "      <th>7</th>\n",
       "      <th>8</th>\n",
       "      <th>9</th>\n",
       "      <th>...</th>\n",
       "      <th>60</th>\n",
       "      <th>61</th>\n",
       "      <th>62</th>\n",
       "      <th>63</th>\n",
       "      <th>64</th>\n",
       "      <th>65</th>\n",
       "      <th>66</th>\n",
       "      <th>67</th>\n",
       "      <th>68</th>\n",
       "      <th>churn</th>\n",
       "    </tr>\n",
       "  </thead>\n",
       "  <tbody>\n",
       "    <tr>\n",
       "      <th>0</th>\n",
       "      <td>0.0</td>\n",
       "      <td>0.0</td>\n",
       "      <td>0.0</td>\n",
       "      <td>0.0</td>\n",
       "      <td>0.0</td>\n",
       "      <td>0.0</td>\n",
       "      <td>0.0</td>\n",
       "      <td>0.0</td>\n",
       "      <td>0.0</td>\n",
       "      <td>0.0</td>\n",
       "      <td>...</td>\n",
       "      <td>-1.1323</td>\n",
       "      <td>-0.7478</td>\n",
       "      <td>-0.3102</td>\n",
       "      <td>1.6291</td>\n",
       "      <td>1.6287</td>\n",
       "      <td>1.2628</td>\n",
       "      <td>1.2626</td>\n",
       "      <td>-0.4501</td>\n",
       "      <td>-0.4522</td>\n",
       "      <td>1</td>\n",
       "    </tr>\n",
       "    <tr>\n",
       "      <th>1</th>\n",
       "      <td>0.0</td>\n",
       "      <td>0.0</td>\n",
       "      <td>0.0</td>\n",
       "      <td>0.0</td>\n",
       "      <td>0.0</td>\n",
       "      <td>0.0</td>\n",
       "      <td>0.0</td>\n",
       "      <td>0.0</td>\n",
       "      <td>0.0</td>\n",
       "      <td>0.0</td>\n",
       "      <td>...</td>\n",
       "      <td>1.1513</td>\n",
       "      <td>-1.4743</td>\n",
       "      <td>-0.3102</td>\n",
       "      <td>1.6365</td>\n",
       "      <td>1.6363</td>\n",
       "      <td>-0.2954</td>\n",
       "      <td>-0.2949</td>\n",
       "      <td>1.2846</td>\n",
       "      <td>1.2859</td>\n",
       "      <td>1</td>\n",
       "    </tr>\n",
       "    <tr>\n",
       "      <th>2</th>\n",
       "      <td>0.0</td>\n",
       "      <td>0.0</td>\n",
       "      <td>0.0</td>\n",
       "      <td>0.0</td>\n",
       "      <td>0.0</td>\n",
       "      <td>0.0</td>\n",
       "      <td>0.0</td>\n",
       "      <td>0.0</td>\n",
       "      <td>0.0</td>\n",
       "      <td>0.0</td>\n",
       "      <td>...</td>\n",
       "      <td>-0.5171</td>\n",
       "      <td>0.7093</td>\n",
       "      <td>-1.5084</td>\n",
       "      <td>-0.6158</td>\n",
       "      <td>-0.6155</td>\n",
       "      <td>-0.1973</td>\n",
       "      <td>-0.1983</td>\n",
       "      <td>-0.1072</td>\n",
       "      <td>-0.1090</td>\n",
       "      <td>0</td>\n",
       "    </tr>\n",
       "    <tr>\n",
       "      <th>3</th>\n",
       "      <td>0.0</td>\n",
       "      <td>0.0</td>\n",
       "      <td>0.0</td>\n",
       "      <td>0.0</td>\n",
       "      <td>0.0</td>\n",
       "      <td>0.0</td>\n",
       "      <td>0.0</td>\n",
       "      <td>0.0</td>\n",
       "      <td>0.0</td>\n",
       "      <td>0.0</td>\n",
       "      <td>...</td>\n",
       "      <td>-0.5171</td>\n",
       "      <td>-0.4470</td>\n",
       "      <td>-0.3102</td>\n",
       "      <td>0.9694</td>\n",
       "      <td>0.9695</td>\n",
       "      <td>-0.2573</td>\n",
       "      <td>-0.2572</td>\n",
       "      <td>0.6148</td>\n",
       "      <td>0.6130</td>\n",
       "      <td>0</td>\n",
       "    </tr>\n",
       "    <tr>\n",
       "      <th>4</th>\n",
       "      <td>0.0</td>\n",
       "      <td>0.0</td>\n",
       "      <td>0.0</td>\n",
       "      <td>0.0</td>\n",
       "      <td>0.0</td>\n",
       "      <td>0.0</td>\n",
       "      <td>0.0</td>\n",
       "      <td>0.0</td>\n",
       "      <td>0.0</td>\n",
       "      <td>0.0</td>\n",
       "      <td>...</td>\n",
       "      <td>-0.5171</td>\n",
       "      <td>0.9500</td>\n",
       "      <td>0.5687</td>\n",
       "      <td>0.2149</td>\n",
       "      <td>0.2153</td>\n",
       "      <td>1.3529</td>\n",
       "      <td>1.3522</td>\n",
       "      <td>-0.0009</td>\n",
       "      <td>-0.0021</td>\n",
       "      <td>0</td>\n",
       "    </tr>\n",
       "  </tbody>\n",
       "</table>\n",
       "<p>5 rows × 70 columns</p>\n",
       "</div>"
      ],
      "text/plain": [
       "     0    1    2    3    4    5    6    7    8    9  ...      60      61  \\\n",
       "0  0.0  0.0  0.0  0.0  0.0  0.0  0.0  0.0  0.0  0.0  ... -1.1323 -0.7478   \n",
       "1  0.0  0.0  0.0  0.0  0.0  0.0  0.0  0.0  0.0  0.0  ...  1.1513 -1.4743   \n",
       "2  0.0  0.0  0.0  0.0  0.0  0.0  0.0  0.0  0.0  0.0  ... -0.5171  0.7093   \n",
       "3  0.0  0.0  0.0  0.0  0.0  0.0  0.0  0.0  0.0  0.0  ... -0.5171 -0.4470   \n",
       "4  0.0  0.0  0.0  0.0  0.0  0.0  0.0  0.0  0.0  0.0  ... -0.5171  0.9500   \n",
       "\n",
       "       62      63      64      65      66      67      68  churn  \n",
       "0 -0.3102  1.6291  1.6287  1.2628  1.2626 -0.4501 -0.4522      1  \n",
       "1 -0.3102  1.6365  1.6363 -0.2954 -0.2949  1.2846  1.2859      1  \n",
       "2 -1.5084 -0.6158 -0.6155 -0.1973 -0.1983 -0.1072 -0.1090      0  \n",
       "3 -0.3102  0.9694  0.9695 -0.2573 -0.2572  0.6148  0.6130      0  \n",
       "4  0.5687  0.2149  0.2153  1.3529  1.3522 -0.0009 -0.0021      0  \n",
       "\n",
       "[5 rows x 70 columns]"
      ]
     },
     "execution_count": 26,
     "metadata": {},
     "output_type": "execute_result"
    }
   ],
   "source": [
    "tr.head()"
   ]
  },
  {
   "cell_type": "code",
   "execution_count": 27,
   "id": "137e5122-b7b5-46a4-a303-4d7886b986d5",
   "metadata": {
    "tags": []
   },
   "outputs": [
    {
     "name": "stdout",
     "output_type": "stream",
     "text": [
      "Train dataset saved successfully in CSV and PKL files ...\n"
     ]
    }
   ],
   "source": [
    "tr.to_csv('cc_train_fe.csv', index=False)\n",
    "tr.to_pickle('cc_train_fe.pkl')\n",
    "\n",
    "print('Train dataset saved successfully in CSV and PKL files ...')"
   ]
  },
  {
   "cell_type": "markdown",
   "id": "323e63f5-1150-48cd-9d02-b2cb9c36bc8c",
   "metadata": {},
   "source": [
    "## 4. Test Dataset FE"
   ]
  },
  {
   "cell_type": "markdown",
   "id": "4ecaa486-f240-4bf4-895d-ebc354678438",
   "metadata": {},
   "source": [
    "### 4.1 Test Dataset"
   ]
  },
  {
   "cell_type": "code",
   "execution_count": 28,
   "id": "dd8f1bd7-1a9c-47f5-a142-27af694817d8",
   "metadata": {},
   "outputs": [
    {
     "name": "stdout",
     "output_type": "stream",
     "text": [
      "Shape of the test dataset : (100, 20)\n"
     ]
    },
    {
     "data": {
      "text/html": [
       "<div>\n",
       "<style scoped>\n",
       "    .dataframe tbody tr th:only-of-type {\n",
       "        vertical-align: middle;\n",
       "    }\n",
       "\n",
       "    .dataframe tbody tr th {\n",
       "        vertical-align: top;\n",
       "    }\n",
       "\n",
       "    .dataframe thead th {\n",
       "        text-align: right;\n",
       "    }\n",
       "</style>\n",
       "<table border=\"1\" class=\"dataframe\">\n",
       "  <thead>\n",
       "    <tr style=\"text-align: right;\">\n",
       "      <th></th>\n",
       "      <th>state</th>\n",
       "      <th>account_length</th>\n",
       "      <th>area_code</th>\n",
       "      <th>international_plan</th>\n",
       "      <th>voice_mail_plan</th>\n",
       "      <th>number_vmail_messages</th>\n",
       "      <th>total_day_minutes</th>\n",
       "      <th>total_day_calls</th>\n",
       "      <th>total_day_charge</th>\n",
       "      <th>total_eve_minutes</th>\n",
       "      <th>total_eve_calls</th>\n",
       "      <th>total_eve_charge</th>\n",
       "      <th>total_night_minutes</th>\n",
       "      <th>total_night_calls</th>\n",
       "      <th>total_night_charge</th>\n",
       "      <th>total_intl_minutes</th>\n",
       "      <th>total_intl_calls</th>\n",
       "      <th>total_intl_charge</th>\n",
       "      <th>number_customer_service_calls</th>\n",
       "      <th>churn</th>\n",
       "    </tr>\n",
       "  </thead>\n",
       "  <tbody>\n",
       "    <tr>\n",
       "      <th>1688</th>\n",
       "      <td>IN</td>\n",
       "      <td>86</td>\n",
       "      <td>area_code_510</td>\n",
       "      <td>no</td>\n",
       "      <td>no</td>\n",
       "      <td>0</td>\n",
       "      <td>216.3</td>\n",
       "      <td>96</td>\n",
       "      <td>36.77</td>\n",
       "      <td>266.3</td>\n",
       "      <td>77</td>\n",
       "      <td>22.64</td>\n",
       "      <td>214.0</td>\n",
       "      <td>110</td>\n",
       "      <td>9.63</td>\n",
       "      <td>4.5</td>\n",
       "      <td>3</td>\n",
       "      <td>1.22</td>\n",
       "      <td>0</td>\n",
       "      <td>no</td>\n",
       "    </tr>\n",
       "    <tr>\n",
       "      <th>3993</th>\n",
       "      <td>WA</td>\n",
       "      <td>136</td>\n",
       "      <td>area_code_415</td>\n",
       "      <td>no</td>\n",
       "      <td>yes</td>\n",
       "      <td>24</td>\n",
       "      <td>243.3</td>\n",
       "      <td>107</td>\n",
       "      <td>41.36</td>\n",
       "      <td>226.8</td>\n",
       "      <td>111</td>\n",
       "      <td>19.28</td>\n",
       "      <td>138.5</td>\n",
       "      <td>117</td>\n",
       "      <td>6.23</td>\n",
       "      <td>11.0</td>\n",
       "      <td>4</td>\n",
       "      <td>2.97</td>\n",
       "      <td>4</td>\n",
       "      <td>no</td>\n",
       "    </tr>\n",
       "    <tr>\n",
       "      <th>1056</th>\n",
       "      <td>TN</td>\n",
       "      <td>98</td>\n",
       "      <td>area_code_415</td>\n",
       "      <td>no</td>\n",
       "      <td>no</td>\n",
       "      <td>0</td>\n",
       "      <td>162.8</td>\n",
       "      <td>65</td>\n",
       "      <td>27.68</td>\n",
       "      <td>185.0</td>\n",
       "      <td>109</td>\n",
       "      <td>15.73</td>\n",
       "      <td>219.5</td>\n",
       "      <td>104</td>\n",
       "      <td>9.88</td>\n",
       "      <td>6.0</td>\n",
       "      <td>3</td>\n",
       "      <td>1.62</td>\n",
       "      <td>2</td>\n",
       "      <td>no</td>\n",
       "    </tr>\n",
       "    <tr>\n",
       "      <th>1120</th>\n",
       "      <td>NH</td>\n",
       "      <td>111</td>\n",
       "      <td>area_code_510</td>\n",
       "      <td>no</td>\n",
       "      <td>no</td>\n",
       "      <td>0</td>\n",
       "      <td>197.1</td>\n",
       "      <td>117</td>\n",
       "      <td>33.51</td>\n",
       "      <td>227.8</td>\n",
       "      <td>128</td>\n",
       "      <td>19.36</td>\n",
       "      <td>214.0</td>\n",
       "      <td>101</td>\n",
       "      <td>9.63</td>\n",
       "      <td>9.3</td>\n",
       "      <td>11</td>\n",
       "      <td>2.51</td>\n",
       "      <td>0</td>\n",
       "      <td>no</td>\n",
       "    </tr>\n",
       "    <tr>\n",
       "      <th>577</th>\n",
       "      <td>WI</td>\n",
       "      <td>165</td>\n",
       "      <td>area_code_510</td>\n",
       "      <td>no</td>\n",
       "      <td>no</td>\n",
       "      <td>0</td>\n",
       "      <td>154.2</td>\n",
       "      <td>91</td>\n",
       "      <td>26.21</td>\n",
       "      <td>268.6</td>\n",
       "      <td>108</td>\n",
       "      <td>22.83</td>\n",
       "      <td>188.8</td>\n",
       "      <td>99</td>\n",
       "      <td>8.50</td>\n",
       "      <td>10.9</td>\n",
       "      <td>4</td>\n",
       "      <td>2.94</td>\n",
       "      <td>6</td>\n",
       "      <td>no</td>\n",
       "    </tr>\n",
       "  </tbody>\n",
       "</table>\n",
       "</div>"
      ],
      "text/plain": [
       "     state  account_length      area_code international_plan voice_mail_plan  \\\n",
       "1688    IN              86  area_code_510                 no              no   \n",
       "3993    WA             136  area_code_415                 no             yes   \n",
       "1056    TN              98  area_code_415                 no              no   \n",
       "1120    NH             111  area_code_510                 no              no   \n",
       "577     WI             165  area_code_510                 no              no   \n",
       "\n",
       "      number_vmail_messages  total_day_minutes  total_day_calls  \\\n",
       "1688                      0              216.3               96   \n",
       "3993                     24              243.3              107   \n",
       "1056                      0              162.8               65   \n",
       "1120                      0              197.1              117   \n",
       "577                       0              154.2               91   \n",
       "\n",
       "      total_day_charge  total_eve_minutes  total_eve_calls  total_eve_charge  \\\n",
       "1688             36.77              266.3               77             22.64   \n",
       "3993             41.36              226.8              111             19.28   \n",
       "1056             27.68              185.0              109             15.73   \n",
       "1120             33.51              227.8              128             19.36   \n",
       "577              26.21              268.6              108             22.83   \n",
       "\n",
       "      total_night_minutes  total_night_calls  total_night_charge  \\\n",
       "1688                214.0                110                9.63   \n",
       "3993                138.5                117                6.23   \n",
       "1056                219.5                104                9.88   \n",
       "1120                214.0                101                9.63   \n",
       "577                 188.8                 99                8.50   \n",
       "\n",
       "      total_intl_minutes  total_intl_calls  total_intl_charge  \\\n",
       "1688                 4.5                 3               1.22   \n",
       "3993                11.0                 4               2.97   \n",
       "1056                 6.0                 3               1.62   \n",
       "1120                 9.3                11               2.51   \n",
       "577                 10.9                 4               2.94   \n",
       "\n",
       "      number_customer_service_calls churn  \n",
       "1688                              0    no  \n",
       "3993                              4    no  \n",
       "1056                              2    no  \n",
       "1120                              0    no  \n",
       "577                               6    no  "
      ]
     },
     "execution_count": 28,
     "metadata": {},
     "output_type": "execute_result"
    }
   ],
   "source": [
    "te = pd.read_pickle('cc_test_pp.pkl')\n",
    "\n",
    "print(f'Shape of the test dataset : {te.shape}')\n",
    "te.head(5)"
   ]
  },
  {
   "cell_type": "code",
   "execution_count": 29,
   "id": "316143b6-c2d3-4eb1-90b9-abe03af842a4",
   "metadata": {},
   "outputs": [],
   "source": [
    "Xte = te.drop(columns='churn')\n",
    "yte = te['churn']"
   ]
  },
  {
   "cell_type": "markdown",
   "id": "023ca361-57d5-493b-b27f-85db8eabaf1f",
   "metadata": {},
   "source": [
    "### 4.2 FE Steps"
   ]
  },
  {
   "cell_type": "code",
   "execution_count": 30,
   "id": "816c7de0-e333-4975-aa76-60e43f9566d0",
   "metadata": {},
   "outputs": [],
   "source": [
    "yte = prep_target(yte)"
   ]
  },
  {
   "cell_type": "code",
   "execution_count": 31,
   "id": "d51c33b9-04e3-4be4-9972-c4a6b8837a3f",
   "metadata": {
    "tags": []
   },
   "outputs": [
    {
     "name": "stdout",
     "output_type": "stream",
     "text": [
      "\"pipe2\" Features Saved Successfully\n"
     ]
    }
   ],
   "source": [
    "steps2 = [('pp1',pipe1),\n",
    "     ('sb',skb)\n",
    "     ]\n",
    "\n",
    "pipe2 = Pipeline(steps2)\n",
    "\n",
    "dump(pipe2, open('cc_pipe2_te.pkl','wb'))\n",
    "print('\"pipe2\" Features Saved Successfully')"
   ]
  },
  {
   "cell_type": "code",
   "execution_count": 32,
   "id": "3c443373-1f3d-4c29-b6a0-b6cd5e808abf",
   "metadata": {},
   "outputs": [
    {
     "data": {
      "text/plain": [
       "(100, 69)"
      ]
     },
     "execution_count": 32,
     "metadata": {},
     "output_type": "execute_result"
    }
   ],
   "source": [
    "Xte = pipe2.transform(Xte)\n",
    "Xte.shape"
   ]
  },
  {
   "cell_type": "code",
   "execution_count": 33,
   "id": "25469fae-f48f-4ce6-82c7-93b1e906968e",
   "metadata": {
    "tags": []
   },
   "outputs": [
    {
     "data": {
      "text/plain": [
       "array([[0, 0, 0, 0, 0, 0, 0, 0, 0, 0, 0, 0, 0, 0, 1, 0, 0, 0, 0, 0, 0, 0,\n",
       "        0, 0, 0, 0, 0, 0, 0, 0, 0, 0, 0, 0, 0, 0, 0, 0, 0, 0, 0, 0, 0, 0,\n",
       "        0, 0, 0, 0, 0, 0, 0, 1, 0, 0, -0.33544066845367265,\n",
       "        -0.5960152035548312, -0.1992504481887499, -1.1731415239493146,\n",
       "        0.5124556116533263, -2.110244004652026, -0.5170514360777964,\n",
       "        -2.1041772097604228, -1.5083770773858174, 0.6701943201283861,\n",
       "        0.670008756721054, 1.3228823852307443, 1.3239096295125783,\n",
       "        0.2698340357874689, 0.2697835841663762]], dtype=object)"
      ]
     },
     "execution_count": 33,
     "metadata": {},
     "output_type": "execute_result"
    }
   ],
   "source": [
    "Xte[:1]"
   ]
  },
  {
   "cell_type": "code",
   "execution_count": 34,
   "id": "72c3fdad-e029-4295-bfe7-ba379e969140",
   "metadata": {
    "tags": []
   },
   "outputs": [],
   "source": [
    "Xte=Xte.astype('float')"
   ]
  },
  {
   "cell_type": "markdown",
   "id": "1a5a634b-0365-4fa3-8f33-38eb6f468dd5",
   "metadata": {},
   "source": [
    "### 4.3 Save the test FE data as CSV, PKL file"
   ]
  },
  {
   "cell_type": "code",
   "execution_count": 35,
   "id": "720d12f7-7142-45f8-86f2-8914fbde8a9f",
   "metadata": {
    "tags": []
   },
   "outputs": [
    {
     "data": {
      "text/plain": [
       "array([[0],\n",
       "       [0],\n",
       "       [0],\n",
       "       [0],\n",
       "       [0]], dtype=int64)"
      ]
     },
     "execution_count": 35,
     "metadata": {},
     "output_type": "execute_result"
    }
   ],
   "source": [
    "yte = yte.values\n",
    "yte = yte.reshape((100,1))\n",
    "yte[:5]"
   ]
  },
  {
   "cell_type": "code",
   "execution_count": 36,
   "id": "8b6da0c6-4a47-4122-88f2-0d4f23dbad11",
   "metadata": {
    "tags": []
   },
   "outputs": [],
   "source": [
    "te = np.concatenate([Xte,yte], axis=1)   "
   ]
  },
  {
   "cell_type": "code",
   "execution_count": 37,
   "id": "0bd6b0d8-4aa9-4a09-914a-34bc20c906a0",
   "metadata": {
    "tags": []
   },
   "outputs": [
    {
     "data": {
      "text/html": [
       "<div>\n",
       "<style scoped>\n",
       "    .dataframe tbody tr th:only-of-type {\n",
       "        vertical-align: middle;\n",
       "    }\n",
       "\n",
       "    .dataframe tbody tr th {\n",
       "        vertical-align: top;\n",
       "    }\n",
       "\n",
       "    .dataframe thead th {\n",
       "        text-align: right;\n",
       "    }\n",
       "</style>\n",
       "<table border=\"1\" class=\"dataframe\">\n",
       "  <thead>\n",
       "    <tr style=\"text-align: right;\">\n",
       "      <th></th>\n",
       "      <th>0</th>\n",
       "      <th>1</th>\n",
       "      <th>2</th>\n",
       "      <th>3</th>\n",
       "      <th>4</th>\n",
       "      <th>5</th>\n",
       "      <th>6</th>\n",
       "      <th>7</th>\n",
       "      <th>8</th>\n",
       "      <th>9</th>\n",
       "      <th>...</th>\n",
       "      <th>60</th>\n",
       "      <th>61</th>\n",
       "      <th>62</th>\n",
       "      <th>63</th>\n",
       "      <th>64</th>\n",
       "      <th>65</th>\n",
       "      <th>66</th>\n",
       "      <th>67</th>\n",
       "      <th>68</th>\n",
       "      <th>churn</th>\n",
       "    </tr>\n",
       "  </thead>\n",
       "  <tbody>\n",
       "    <tr>\n",
       "      <th>0</th>\n",
       "      <td>0.0</td>\n",
       "      <td>0.0</td>\n",
       "      <td>0.0</td>\n",
       "      <td>0.0</td>\n",
       "      <td>0.0</td>\n",
       "      <td>0.0</td>\n",
       "      <td>0.0</td>\n",
       "      <td>0.0</td>\n",
       "      <td>0.0</td>\n",
       "      <td>0.0</td>\n",
       "      <td>...</td>\n",
       "      <td>-0.5171</td>\n",
       "      <td>-2.1042</td>\n",
       "      <td>-1.5084</td>\n",
       "      <td>0.6702</td>\n",
       "      <td>0.6700</td>\n",
       "      <td>1.3229</td>\n",
       "      <td>1.3239</td>\n",
       "      <td>0.2698</td>\n",
       "      <td>0.2698</td>\n",
       "      <td>0.0</td>\n",
       "    </tr>\n",
       "    <tr>\n",
       "      <th>1</th>\n",
       "      <td>0.0</td>\n",
       "      <td>0.0</td>\n",
       "      <td>0.0</td>\n",
       "      <td>0.0</td>\n",
       "      <td>0.0</td>\n",
       "      <td>0.0</td>\n",
       "      <td>0.0</td>\n",
       "      <td>0.0</td>\n",
       "      <td>0.0</td>\n",
       "      <td>0.0</td>\n",
       "      <td>...</td>\n",
       "      <td>-0.0098</td>\n",
       "      <td>0.2596</td>\n",
       "      <td>1.9097</td>\n",
       "      <td>1.1720</td>\n",
       "      <td>1.1718</td>\n",
       "      <td>0.5318</td>\n",
       "      <td>0.5322</td>\n",
       "      <td>-1.2443</td>\n",
       "      <td>-1.2455</td>\n",
       "      <td>0.0</td>\n",
       "    </tr>\n",
       "    <tr>\n",
       "      <th>2</th>\n",
       "      <td>0.0</td>\n",
       "      <td>0.0</td>\n",
       "      <td>0.0</td>\n",
       "      <td>0.0</td>\n",
       "      <td>0.0</td>\n",
       "      <td>0.0</td>\n",
       "      <td>0.0</td>\n",
       "      <td>0.0</td>\n",
       "      <td>0.0</td>\n",
       "      <td>0.0</td>\n",
       "      <td>...</td>\n",
       "      <td>-0.5171</td>\n",
       "      <td>-1.5804</td>\n",
       "      <td>0.5687</td>\n",
       "      <td>-0.3240</td>\n",
       "      <td>-0.3236</td>\n",
       "      <td>-0.3054</td>\n",
       "      <td>-0.3043</td>\n",
       "      <td>0.3801</td>\n",
       "      <td>0.3812</td>\n",
       "      <td>0.0</td>\n",
       "    </tr>\n",
       "    <tr>\n",
       "      <th>3</th>\n",
       "      <td>0.0</td>\n",
       "      <td>0.0</td>\n",
       "      <td>0.0</td>\n",
       "      <td>0.0</td>\n",
       "      <td>0.0</td>\n",
       "      <td>0.0</td>\n",
       "      <td>0.0</td>\n",
       "      <td>0.0</td>\n",
       "      <td>0.0</td>\n",
       "      <td>0.0</td>\n",
       "      <td>...</td>\n",
       "      <td>2.2634</td>\n",
       "      <td>-0.3783</td>\n",
       "      <td>-1.5084</td>\n",
       "      <td>0.3134</td>\n",
       "      <td>0.3136</td>\n",
       "      <td>0.5518</td>\n",
       "      <td>0.5510</td>\n",
       "      <td>0.2698</td>\n",
       "      <td>0.2698</td>\n",
       "      <td>0.0</td>\n",
       "    </tr>\n",
       "    <tr>\n",
       "      <th>4</th>\n",
       "      <td>0.0</td>\n",
       "      <td>0.0</td>\n",
       "      <td>0.0</td>\n",
       "      <td>0.0</td>\n",
       "      <td>0.0</td>\n",
       "      <td>0.0</td>\n",
       "      <td>0.0</td>\n",
       "      <td>0.0</td>\n",
       "      <td>0.0</td>\n",
       "      <td>0.0</td>\n",
       "      <td>...</td>\n",
       "      <td>-0.0098</td>\n",
       "      <td>0.2177</td>\n",
       "      <td>2.9622</td>\n",
       "      <td>-0.4838</td>\n",
       "      <td>-0.4843</td>\n",
       "      <td>1.3689</td>\n",
       "      <td>1.3687</td>\n",
       "      <td>-0.2356</td>\n",
       "      <td>-0.2338</td>\n",
       "      <td>0.0</td>\n",
       "    </tr>\n",
       "  </tbody>\n",
       "</table>\n",
       "<p>5 rows × 70 columns</p>\n",
       "</div>"
      ],
      "text/plain": [
       "     0    1    2    3    4    5    6    7    8    9  ...      60      61  \\\n",
       "0  0.0  0.0  0.0  0.0  0.0  0.0  0.0  0.0  0.0  0.0  ... -0.5171 -2.1042   \n",
       "1  0.0  0.0  0.0  0.0  0.0  0.0  0.0  0.0  0.0  0.0  ... -0.0098  0.2596   \n",
       "2  0.0  0.0  0.0  0.0  0.0  0.0  0.0  0.0  0.0  0.0  ... -0.5171 -1.5804   \n",
       "3  0.0  0.0  0.0  0.0  0.0  0.0  0.0  0.0  0.0  0.0  ...  2.2634 -0.3783   \n",
       "4  0.0  0.0  0.0  0.0  0.0  0.0  0.0  0.0  0.0  0.0  ... -0.0098  0.2177   \n",
       "\n",
       "       62      63      64      65      66      67      68  churn  \n",
       "0 -1.5084  0.6702  0.6700  1.3229  1.3239  0.2698  0.2698    0.0  \n",
       "1  1.9097  1.1720  1.1718  0.5318  0.5322 -1.2443 -1.2455    0.0  \n",
       "2  0.5687 -0.3240 -0.3236 -0.3054 -0.3043  0.3801  0.3812    0.0  \n",
       "3 -1.5084  0.3134  0.3136  0.5518  0.5510  0.2698  0.2698    0.0  \n",
       "4  2.9622 -0.4838 -0.4843  1.3689  1.3687 -0.2356 -0.2338    0.0  \n",
       "\n",
       "[5 rows x 70 columns]"
      ]
     },
     "execution_count": 37,
     "metadata": {},
     "output_type": "execute_result"
    }
   ],
   "source": [
    "te = pd.DataFrame(te)   # array to df\n",
    "te.rename(columns={69:'churn'}, inplace=True)\n",
    "te.head()"
   ]
  },
  {
   "cell_type": "code",
   "execution_count": 38,
   "id": "f2b0762b-d712-4821-8401-24383569a380",
   "metadata": {
    "tags": []
   },
   "outputs": [
    {
     "data": {
      "text/plain": [
       "(100, 70)"
      ]
     },
     "execution_count": 38,
     "metadata": {},
     "output_type": "execute_result"
    }
   ],
   "source": [
    "te.shape"
   ]
  },
  {
   "cell_type": "code",
   "execution_count": 39,
   "id": "46fae041-45f2-470d-9839-06bcec7cb021",
   "metadata": {
    "tags": []
   },
   "outputs": [
    {
     "name": "stdout",
     "output_type": "stream",
     "text": [
      "Test dataset saved successfully in CSV and PKL files ...\n"
     ]
    }
   ],
   "source": [
    "te.to_csv('cc_test_fe.csv', index=False)\n",
    "te.to_pickle('cc_test_fe.pkl')\n",
    "\n",
    "print('Test dataset saved successfully in CSV and PKL files ...')"
   ]
  },
  {
   "cell_type": "code",
   "execution_count": null,
   "id": "1315a121-1521-4abf-a9d2-d833aad0240a",
   "metadata": {},
   "outputs": [],
   "source": []
  }
 ],
 "metadata": {
  "kernelspec": {
   "display_name": "Python 3 (ipykernel)",
   "language": "python",
   "name": "python3"
  },
  "language_info": {
   "codemirror_mode": {
    "name": "ipython",
    "version": 3
   },
   "file_extension": ".py",
   "mimetype": "text/x-python",
   "name": "python",
   "nbconvert_exporter": "python",
   "pygments_lexer": "ipython3",
   "version": "3.12.8"
  }
 },
 "nbformat": 4,
 "nbformat_minor": 5
}
