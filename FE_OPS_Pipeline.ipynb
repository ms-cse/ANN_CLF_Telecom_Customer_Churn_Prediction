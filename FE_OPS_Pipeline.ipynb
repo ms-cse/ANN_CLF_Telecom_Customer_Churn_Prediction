{
 "cells": [
  {
   "cell_type": "markdown",
   "id": "f6079c98-4e48-499e-894f-c50109507c87",
   "metadata": {},
   "source": [
    "# FEATURE ENGINEERING OPERATIONS - {\"CUSTOMER CHURN\" DATASET}"
   ]
  },
  {
   "cell_type": "markdown",
   "id": "a6709c06-804a-47d1-b0df-5aee8b18f5a3",
   "metadata": {},
   "source": [
    "## 1. Importing Modules and Setting Configurations"
   ]
  },
  {
   "cell_type": "code",
   "execution_count": 1,
   "id": "36db63e5-2d56-407a-b8c0-22812c099423",
   "metadata": {
    "tags": []
   },
   "outputs": [],
   "source": [
    "import numpy as np\n",
    "import pandas as pd\n",
    "\n",
    "import matplotlib.pyplot as plt\n",
    "import seaborn as sb\n",
    "\n",
    "from scipy import stats as sts\n",
    "\n",
    "from imblearn.over_sampling import SMOTE\n",
    "\n",
    "from sklearn.preprocessing import OneHotEncoder, PowerTransformer, StandardScaler\n",
    "from sklearn.compose import ColumnTransformer\n",
    "from sklearn.pipeline import Pipeline\n",
    "\n",
    "from sklearn.feature_selection import SelectKBest, mutual_info_classif\n",
    "\n",
    "from pickle import dump, load\n",
    "\n",
    "import warnings\n",
    "warnings.filterwarnings('ignore')\n",
    "\n",
    "from sklearn import set_config\n",
    "set_config(display='diagram')"
   ]
  },
  {
   "cell_type": "code",
   "execution_count": 2,
   "id": "4b8cd288-5945-4063-9e00-9fbaeafdef8e",
   "metadata": {
    "tags": []
   },
   "outputs": [],
   "source": [
    "# PD Options\n",
    "\n",
    "pd.set_option('display.min_rows', 5)\n",
    "pd.set_option('display.max_rows', 25)\n",
    "pd.set_option('display.precision', 4)"
   ]
  },
  {
   "cell_type": "code",
   "execution_count": 3,
   "id": "858f3ead-7968-409b-8b3e-f62c9658ccd6",
   "metadata": {
    "tags": []
   },
   "outputs": [],
   "source": [
    "# SB Options\n",
    "\n",
    "sb.set_theme(context='notebook', style='whitegrid', palette='pastel', font='times new roman', font_scale=1.25)"
   ]
  },
  {
   "cell_type": "markdown",
   "id": "07dd8351-a616-4074-9969-231f6f77f0ab",
   "metadata": {},
   "source": [
    "## 2. Feature Enginerring Train, Validation, and Test Datasets"
   ]
  },
  {
   "cell_type": "markdown",
   "id": "ce85e6be-1a48-457c-b9d1-81d3313712e6",
   "metadata": {},
   "source": [
    "### 2.1 Prepare Target Feature"
   ]
  },
  {
   "cell_type": "code",
   "execution_count": 4,
   "id": "d1f3e3c8-f2ff-41de-b587-f85d58792c4c",
   "metadata": {},
   "outputs": [],
   "source": [
    "def prep_target(ytar):\n",
    "    ytar = ytar.apply(lambda x: 1 if x=='yes' else 0)\n",
    "    #ytar = ytar.astype('category')\n",
    "    \n",
    "    return ytar"
   ]
  },
  {
   "cell_type": "markdown",
   "id": "b812e081-5efc-490a-b5f1-ce461b3ccc38",
   "metadata": {},
   "source": [
    "### 2.2 Handle Oultiers"
   ]
  },
  {
   "cell_type": "code",
   "execution_count": 5,
   "id": "0cfc1edd-665a-4705-ba4b-1db27758a638",
   "metadata": {},
   "outputs": [],
   "source": [
    "def outliers_detect_handle(df):\n",
    "     \n",
    "    fea_flo = df.select_dtypes(include='float').columns.values.tolist()\n",
    "    fea_int = df.select_dtypes(include='int').columns.values.tolist()\n",
    "\n",
    "    fea_num = fea_flo + fea_int\n",
    "    fea_num\n",
    "    \n",
    "    # OUTLIER DETECTION CODE ----------------------------------------------------------------------------------------------\n",
    "    \n",
    "    for fea in fea_num:\n",
    "      \n",
    "        print(f'Outlier Detection for Feature : {fea} ------------------------------------------------------------------- \\n')\n",
    "\n",
    "        mn = df[fea].min()\n",
    "        mx = df[fea].max()\n",
    "        #print(f'Minimum Value : {mn} and Maximum Value : {mx} \\n')\n",
    "\n",
    "        q1,q3 = df[fea].quantile([0.25,0.75])         #  for 1st and 3rd quartile\n",
    "        #print(f'1st Quartile : {q1} and 3rd Quartile : {q3} \\n')\n",
    "\n",
    "        lb = round(q1 - (q3-q1)*1.5,4)\n",
    "        ub = round(q3 + (q3-q1)*1.5,4)\n",
    "        #print(f'Lower Bound : {lb} and Higher Bound : {ub} \\n')\n",
    "\n",
    "        filtl = df[fea] < lb\n",
    "        out_low = df[filtl]\n",
    "        #print(f'No. of Outliers below Lower Bound ({lb}) are : {out_low.shape[0]}')\n",
    "\n",
    "        filtu = df[fea] > ub\n",
    "        out_high = df[filtu]\n",
    "        #print(f'No. of Outliers above Upper Bound ({ub}) are : {out_high.shape[0]}')\n",
    "\n",
    "        out_df = df[(filtl | filtu)]\n",
    "        print(f' --> Total No. of Outliers before : {out_df.shape[0]} \\n')\n",
    "\n",
    "        per = (out_df.shape[0]/df[fea].shape[0])*100\n",
    "        #print(f'Percentage of Outliers Records are : {round(per,4)} % \\n\\n')\n",
    "\n",
    "#         plt.figure(figsize=(15,5))\n",
    "#         plt.subplot(2,2,1)\n",
    "#         plt.title('KDE Plot Before')\n",
    "#         sb.kdeplot(data=df, x=fea)\n",
    "\n",
    "#         plt.subplot(2,2,2)\n",
    "#         plt.title('BOX Plot Before')\n",
    "#         sb.boxplot(data=df, x=fea)\n",
    "\n",
    "        # OUTLIER HANDLING USING CAPPING TECHNIQUE -----------------------------------------------------------------------------\n",
    "        df.loc[filtl,fea] = lb                        \n",
    "        df.loc[filtu,fea] = ub\n",
    "\n",
    "        # OUTLIER DETECTION CODE -----------------------------------------------------------------------------------------------\n",
    "        filtl = df[fea] < lb\n",
    "        out_low = df[filtl]\n",
    "        # print(f'No. of Outliers below Lower Bound ({lb}) are : {out_low.shape[0]}')\n",
    "\n",
    "        filtu = df[fea] > ub\n",
    "        out_high = df[filtu]\n",
    "        # print(f'No. of Outliers above Upper Bound ({ub}) are : {out_high.shape[0]}')\n",
    "\n",
    "        out_df = df[(filtl | filtu)]\n",
    "        print(f' --> Total No. of Outliers after : {out_df.shape[0]} \\n')\n",
    "\n",
    "        per = (out_df.shape[0]/df[fea].shape[0])*100\n",
    "        #print(f'Percentage of Outliers Records are : {round(per,4)} %')\n",
    "\n",
    "#         plt.subplot(2,2,3)\n",
    "#         plt.title('KDE Plot After')\n",
    "#         sb.kdeplot(data=df, x=fea)\n",
    "\n",
    "#         plt.subplot(2,2,4)\n",
    "#         plt.title('BOX Plot After')\n",
    "#         sb.boxplot(data=df, x=fea)\n",
    "\n",
    "#         plt.subplots_adjust(left=0.1, bottom=0.1, right=0.9, top=0.9, wspace=0.1, hspace=0.8)\n",
    "#         plt.show()\n",
    "   \n",
    "    return df"
   ]
  },
  {
   "cell_type": "markdown",
   "id": "c2ccd6ba-5766-4ea6-80c9-b7af827281f6",
   "metadata": {},
   "source": [
    "### 2.3 Feature Transformations"
   ]
  },
  {
   "cell_type": "code",
   "execution_count": 6,
   "id": "779694d8-9049-43f0-ac02-c762b5fef654",
   "metadata": {},
   "outputs": [],
   "source": [
    "# cols=[1,5,7,10,13,15,16,17,18]\n",
    "\n",
    "num_ft_pt = ColumnTransformer([\n",
    "    ('yj',PowerTransformer(method='yeo-johnson', standardize=False),[1,5,7,10,13,15,16,17,18])\n",
    "    ], remainder='passthrough')"
   ]
  },
  {
   "cell_type": "markdown",
   "id": "b46b28eb-b466-4715-817c-303c3f0cb26e",
   "metadata": {},
   "source": [
    "### 2.4 Scaling"
   ]
  },
  {
   "cell_type": "code",
   "execution_count": 7,
   "id": "e213b9de-ee1f-4b1c-9227-f9a11895bb43",
   "metadata": {},
   "outputs": [],
   "source": [
    "num_scl_ss = ColumnTransformer([\n",
    "                ('ss',StandardScaler(),[0,1,2,3,4,5,6,7,8,13,14,15,16,17,18])\n",
    "                ],\n",
    "                remainder='passthrough')"
   ]
  },
  {
   "cell_type": "markdown",
   "id": "890f86ba-3e8a-4a13-9164-b4c7ca75f2ca",
   "metadata": {},
   "source": [
    "### 2.5 Categorical Feature Encoding"
   ]
  },
  {
   "cell_type": "code",
   "execution_count": 8,
   "id": "63a0399a-b97d-4789-b244-4b546479168a",
   "metadata": {},
   "outputs": [],
   "source": [
    "cat_enc_ohe = ColumnTransformer([\n",
    "                ('ohe',OneHotEncoder(drop='first', sparse_output=False, dtype='int8'),[15,16,17,18])\n",
    "                ],\n",
    "                remainder='passthrough')"
   ]
  },
  {
   "cell_type": "code",
   "execution_count": 9,
   "id": "6f46ea22-3154-4c31-8897-cc24b7978d5a",
   "metadata": {
    "tags": []
   },
   "outputs": [],
   "source": [
    "steps1 = [('pt',num_ft_pt),\n",
    "     ('ss',num_scl_ss),\n",
    "     ('ohe',cat_enc_ohe)\n",
    "     ]\n",
    "\n",
    "pipe1 = Pipeline(steps1)            # for training dataset"
   ]
  },
  {
   "cell_type": "markdown",
   "id": "979295f5-fb5f-4995-88fd-212c691f3083",
   "metadata": {},
   "source": [
    "### 2.6 Imbalance Dataset Handling"
   ]
  },
  {
   "cell_type": "code",
   "execution_count": 10,
   "id": "2047afb5-4cca-47dc-8183-76c4a03c0a4e",
   "metadata": {},
   "outputs": [],
   "source": [
    "sm = SMOTE(random_state=46)"
   ]
  },
  {
   "cell_type": "markdown",
   "id": "573f90c6-1df2-4239-a40e-a45d3d78dcfd",
   "metadata": {},
   "source": [
    "### 2.7 Feature Selection Technique"
   ]
  },
  {
   "cell_type": "code",
   "execution_count": 11,
   "id": "5ff851d4-6bde-4ddb-a115-66707afe2de9",
   "metadata": {},
   "outputs": [],
   "source": [
    "skb = SelectKBest(mutual_info_classif, k='all')"
   ]
  },
  {
   "cell_type": "markdown",
   "id": "3280532b-37cb-42a0-8ccd-ef7fe9514f00",
   "metadata": {},
   "source": [
    "## 3 Training Data"
   ]
  },
  {
   "cell_type": "markdown",
   "id": "cc193d20-64e2-4100-8fa3-1f2f2b46ec10",
   "metadata": {},
   "source": [
    "### 3.1 Train Dataset"
   ]
  },
  {
   "cell_type": "code",
   "execution_count": 12,
   "id": "f848279d-2bbd-4896-9921-2fb77b846a2e",
   "metadata": {
    "tags": []
   },
   "outputs": [
    {
     "name": "stdout",
     "output_type": "stream",
     "text": [
      "Shape of the train dataset : (4050, 20)\n"
     ]
    },
    {
     "data": {
      "text/html": [
       "<div>\n",
       "<style scoped>\n",
       "    .dataframe tbody tr th:only-of-type {\n",
       "        vertical-align: middle;\n",
       "    }\n",
       "\n",
       "    .dataframe tbody tr th {\n",
       "        vertical-align: top;\n",
       "    }\n",
       "\n",
       "    .dataframe thead th {\n",
       "        text-align: right;\n",
       "    }\n",
       "</style>\n",
       "<table border=\"1\" class=\"dataframe\">\n",
       "  <thead>\n",
       "    <tr style=\"text-align: right;\">\n",
       "      <th></th>\n",
       "      <th>state</th>\n",
       "      <th>account_length</th>\n",
       "      <th>area_code</th>\n",
       "      <th>international_plan</th>\n",
       "      <th>voice_mail_plan</th>\n",
       "      <th>number_vmail_messages</th>\n",
       "      <th>total_day_minutes</th>\n",
       "      <th>total_day_calls</th>\n",
       "      <th>total_day_charge</th>\n",
       "      <th>total_eve_minutes</th>\n",
       "      <th>total_eve_calls</th>\n",
       "      <th>total_eve_charge</th>\n",
       "      <th>total_night_minutes</th>\n",
       "      <th>total_night_calls</th>\n",
       "      <th>total_night_charge</th>\n",
       "      <th>total_intl_minutes</th>\n",
       "      <th>total_intl_calls</th>\n",
       "      <th>total_intl_charge</th>\n",
       "      <th>number_customer_service_calls</th>\n",
       "      <th>churn</th>\n",
       "    </tr>\n",
       "  </thead>\n",
       "  <tbody>\n",
       "    <tr>\n",
       "      <th>3199</th>\n",
       "      <td>NJ</td>\n",
       "      <td>165</td>\n",
       "      <td>area_code_415</td>\n",
       "      <td>no</td>\n",
       "      <td>yes</td>\n",
       "      <td>17</td>\n",
       "      <td>177.9</td>\n",
       "      <td>68</td>\n",
       "      <td>30.24</td>\n",
       "      <td>153.9</td>\n",
       "      <td>112</td>\n",
       "      <td>13.08</td>\n",
       "      <td>251.2</td>\n",
       "      <td>121</td>\n",
       "      <td>11.30</td>\n",
       "      <td>10.6</td>\n",
       "      <td>7</td>\n",
       "      <td>2.86</td>\n",
       "      <td>1</td>\n",
       "      <td>no</td>\n",
       "    </tr>\n",
       "    <tr>\n",
       "      <th>4073</th>\n",
       "      <td>MN</td>\n",
       "      <td>136</td>\n",
       "      <td>area_code_415</td>\n",
       "      <td>no</td>\n",
       "      <td>no</td>\n",
       "      <td>0</td>\n",
       "      <td>221.4</td>\n",
       "      <td>120</td>\n",
       "      <td>37.64</td>\n",
       "      <td>249.5</td>\n",
       "      <td>78</td>\n",
       "      <td>21.21</td>\n",
       "      <td>192.0</td>\n",
       "      <td>68</td>\n",
       "      <td>8.64</td>\n",
       "      <td>13.6</td>\n",
       "      <td>2</td>\n",
       "      <td>3.67</td>\n",
       "      <td>0</td>\n",
       "      <td>no</td>\n",
       "    </tr>\n",
       "    <tr>\n",
       "      <th>2060</th>\n",
       "      <td>MT</td>\n",
       "      <td>97</td>\n",
       "      <td>area_code_415</td>\n",
       "      <td>no</td>\n",
       "      <td>yes</td>\n",
       "      <td>15</td>\n",
       "      <td>117.6</td>\n",
       "      <td>97</td>\n",
       "      <td>19.99</td>\n",
       "      <td>196.3</td>\n",
       "      <td>126</td>\n",
       "      <td>16.69</td>\n",
       "      <td>157.4</td>\n",
       "      <td>113</td>\n",
       "      <td>7.08</td>\n",
       "      <td>6.4</td>\n",
       "      <td>3</td>\n",
       "      <td>1.73</td>\n",
       "      <td>1</td>\n",
       "      <td>no</td>\n",
       "    </tr>\n",
       "    <tr>\n",
       "      <th>1634</th>\n",
       "      <td>DE</td>\n",
       "      <td>81</td>\n",
       "      <td>area_code_510</td>\n",
       "      <td>yes</td>\n",
       "      <td>no</td>\n",
       "      <td>0</td>\n",
       "      <td>250.6</td>\n",
       "      <td>85</td>\n",
       "      <td>42.60</td>\n",
       "      <td>187.9</td>\n",
       "      <td>50</td>\n",
       "      <td>15.97</td>\n",
       "      <td>120.3</td>\n",
       "      <td>131</td>\n",
       "      <td>5.41</td>\n",
       "      <td>7.8</td>\n",
       "      <td>5</td>\n",
       "      <td>2.11</td>\n",
       "      <td>1</td>\n",
       "      <td>no</td>\n",
       "    </tr>\n",
       "    <tr>\n",
       "      <th>3687</th>\n",
       "      <td>OK</td>\n",
       "      <td>28</td>\n",
       "      <td>area_code_408</td>\n",
       "      <td>no</td>\n",
       "      <td>no</td>\n",
       "      <td>0</td>\n",
       "      <td>225.7</td>\n",
       "      <td>70</td>\n",
       "      <td>38.37</td>\n",
       "      <td>206.9</td>\n",
       "      <td>90</td>\n",
       "      <td>17.59</td>\n",
       "      <td>167.9</td>\n",
       "      <td>88</td>\n",
       "      <td>7.56</td>\n",
       "      <td>13.8</td>\n",
       "      <td>3</td>\n",
       "      <td>3.73</td>\n",
       "      <td>1</td>\n",
       "      <td>no</td>\n",
       "    </tr>\n",
       "  </tbody>\n",
       "</table>\n",
       "</div>"
      ],
      "text/plain": [
       "     state  account_length      area_code international_plan voice_mail_plan  \\\n",
       "3199    NJ             165  area_code_415                 no             yes   \n",
       "4073    MN             136  area_code_415                 no              no   \n",
       "2060    MT              97  area_code_415                 no             yes   \n",
       "1634    DE              81  area_code_510                yes              no   \n",
       "3687    OK              28  area_code_408                 no              no   \n",
       "\n",
       "      number_vmail_messages  total_day_minutes  total_day_calls  \\\n",
       "3199                     17              177.9               68   \n",
       "4073                      0              221.4              120   \n",
       "2060                     15              117.6               97   \n",
       "1634                      0              250.6               85   \n",
       "3687                      0              225.7               70   \n",
       "\n",
       "      total_day_charge  total_eve_minutes  total_eve_calls  total_eve_charge  \\\n",
       "3199             30.24              153.9              112             13.08   \n",
       "4073             37.64              249.5               78             21.21   \n",
       "2060             19.99              196.3              126             16.69   \n",
       "1634             42.60              187.9               50             15.97   \n",
       "3687             38.37              206.9               90             17.59   \n",
       "\n",
       "      total_night_minutes  total_night_calls  total_night_charge  \\\n",
       "3199                251.2                121               11.30   \n",
       "4073                192.0                 68                8.64   \n",
       "2060                157.4                113                7.08   \n",
       "1634                120.3                131                5.41   \n",
       "3687                167.9                 88                7.56   \n",
       "\n",
       "      total_intl_minutes  total_intl_calls  total_intl_charge  \\\n",
       "3199                10.6                 7               2.86   \n",
       "4073                13.6                 2               3.67   \n",
       "2060                 6.4                 3               1.73   \n",
       "1634                 7.8                 5               2.11   \n",
       "3687                13.8                 3               3.73   \n",
       "\n",
       "      number_customer_service_calls churn  \n",
       "3199                              1    no  \n",
       "4073                              0    no  \n",
       "2060                              1    no  \n",
       "1634                              1    no  \n",
       "3687                              1    no  "
      ]
     },
     "execution_count": 12,
     "metadata": {},
     "output_type": "execute_result"
    }
   ],
   "source": [
    "tr = pd.read_pickle('cc_train_pp.pkl')\n",
    "\n",
    "\n",
    "print(f'Shape of the train dataset : {tr.shape}')\n",
    "tr.head(5)"
   ]
  },
  {
   "cell_type": "code",
   "execution_count": 13,
   "id": "0a0adaf1-035c-42ec-99cf-793bf83f6030",
   "metadata": {
    "tags": []
   },
   "outputs": [],
   "source": [
    "Xtr = tr.drop(columns='churn')\n",
    "ytr = tr['churn']"
   ]
  },
  {
   "cell_type": "markdown",
   "id": "58c307f3-3334-481e-a7e7-cb08a658fed3",
   "metadata": {},
   "source": [
    "### 3.2 FE Steps"
   ]
  },
  {
   "cell_type": "code",
   "execution_count": 14,
   "id": "ab86dc39-b2b4-4d8c-9b99-6db183d016f7",
   "metadata": {
    "tags": []
   },
   "outputs": [],
   "source": [
    "ytr = prep_target(ytr)"
   ]
  },
  {
   "cell_type": "code",
   "execution_count": 15,
   "id": "ea4b6ecc-50ef-49ae-a2aa-ee01c5948b32",
   "metadata": {
    "tags": []
   },
   "outputs": [
    {
     "name": "stdout",
     "output_type": "stream",
     "text": [
      "Outlier Detection for Feature : total_day_minutes ------------------------------------------------------------------- \n",
      "\n",
      " --> Total No. of Outliers before : 22 \n",
      "\n",
      " --> Total No. of Outliers after : 0 \n",
      "\n",
      "Outlier Detection for Feature : total_day_charge ------------------------------------------------------------------- \n",
      "\n",
      " --> Total No. of Outliers before : 22 \n",
      "\n",
      " --> Total No. of Outliers after : 0 \n",
      "\n",
      "Outlier Detection for Feature : total_eve_minutes ------------------------------------------------------------------- \n",
      "\n",
      " --> Total No. of Outliers before : 32 \n",
      "\n",
      " --> Total No. of Outliers after : 0 \n",
      "\n",
      "Outlier Detection for Feature : total_eve_charge ------------------------------------------------------------------- \n",
      "\n",
      " --> Total No. of Outliers before : 33 \n",
      "\n",
      " --> Total No. of Outliers after : 0 \n",
      "\n",
      "Outlier Detection for Feature : total_night_minutes ------------------------------------------------------------------- \n",
      "\n",
      " --> Total No. of Outliers before : 35 \n",
      "\n",
      " --> Total No. of Outliers after : 0 \n",
      "\n",
      "Outlier Detection for Feature : total_night_charge ------------------------------------------------------------------- \n",
      "\n",
      " --> Total No. of Outliers before : 35 \n",
      "\n",
      " --> Total No. of Outliers after : 0 \n",
      "\n",
      "Outlier Detection for Feature : total_intl_minutes ------------------------------------------------------------------- \n",
      "\n",
      " --> Total No. of Outliers before : 60 \n",
      "\n",
      " --> Total No. of Outliers after : 0 \n",
      "\n",
      "Outlier Detection for Feature : total_intl_charge ------------------------------------------------------------------- \n",
      "\n",
      " --> Total No. of Outliers before : 60 \n",
      "\n",
      " --> Total No. of Outliers after : 0 \n",
      "\n",
      "Outlier Detection for Feature : account_length ------------------------------------------------------------------- \n",
      "\n",
      " --> Total No. of Outliers before : 18 \n",
      "\n",
      " --> Total No. of Outliers after : 0 \n",
      "\n",
      "Outlier Detection for Feature : number_vmail_messages ------------------------------------------------------------------- \n",
      "\n",
      " --> Total No. of Outliers before : 170 \n",
      "\n",
      " --> Total No. of Outliers after : 0 \n",
      "\n",
      "Outlier Detection for Feature : total_day_calls ------------------------------------------------------------------- \n",
      "\n",
      " --> Total No. of Outliers before : 27 \n",
      "\n",
      " --> Total No. of Outliers after : 0 \n",
      "\n",
      "Outlier Detection for Feature : total_eve_calls ------------------------------------------------------------------- \n",
      "\n",
      " --> Total No. of Outliers before : 24 \n",
      "\n",
      " --> Total No. of Outliers after : 0 \n",
      "\n",
      "Outlier Detection for Feature : total_night_calls ------------------------------------------------------------------- \n",
      "\n",
      " --> Total No. of Outliers before : 32 \n",
      "\n",
      " --> Total No. of Outliers after : 0 \n",
      "\n",
      "Outlier Detection for Feature : total_intl_calls ------------------------------------------------------------------- \n",
      "\n",
      " --> Total No. of Outliers before : 96 \n",
      "\n",
      " --> Total No. of Outliers after : 0 \n",
      "\n",
      "Outlier Detection for Feature : number_customer_service_calls ------------------------------------------------------------------- \n",
      "\n",
      " --> Total No. of Outliers before : 319 \n",
      "\n",
      " --> Total No. of Outliers after : 0 \n",
      "\n"
     ]
    }
   ],
   "source": [
    "Xtr = outliers_detect_handle(Xtr)"
   ]
  },
  {
   "cell_type": "code",
   "execution_count": 16,
   "id": "575f2209-9982-4e95-a020-9c349d966e42",
   "metadata": {
    "tags": []
   },
   "outputs": [],
   "source": [
    "Xtr = pipe1.fit_transform(Xtr,ytr)"
   ]
  },
  {
   "cell_type": "code",
   "execution_count": 17,
   "id": "607c4d81-49e4-447a-8baf-f46892a53f1a",
   "metadata": {
    "tags": []
   },
   "outputs": [],
   "source": [
    "Xtr, ytr = sm.fit_resample(Xtr,ytr)"
   ]
  },
  {
   "cell_type": "code",
   "execution_count": 18,
   "id": "a2fdc843-53c3-449c-bec6-f463b39c944f",
   "metadata": {
    "tags": []
   },
   "outputs": [
    {
     "name": "stdout",
     "output_type": "stream",
     "text": [
      "[ True  True  True  True  True  True  True  True  True  True  True  True\n",
      "  True  True  True  True  True  True  True  True  True  True  True  True\n",
      "  True  True  True  True  True  True  True  True  True  True  True  True\n",
      "  True  True  True  True  True  True  True  True  True  True  True  True\n",
      "  True  True  True  True  True  True  True  True  True  True  True  True\n",
      "  True  True  True  True  True  True  True  True  True]\n"
     ]
    }
   ],
   "source": [
    "Xtr = skb.fit_transform(Xtr, ytr)\n",
    "print(skb.get_support())"
   ]
  },
  {
   "cell_type": "code",
   "execution_count": 19,
   "id": "5de6104d-2154-4045-aa69-dfb397ae08e6",
   "metadata": {
    "tags": []
   },
   "outputs": [
    {
     "data": {
      "text/plain": [
       "(6960, 69)"
      ]
     },
     "execution_count": 19,
     "metadata": {},
     "output_type": "execute_result"
    }
   ],
   "source": [
    "Xtr.shape"
   ]
  },
  {
   "cell_type": "code",
   "execution_count": 20,
   "id": "afba7208-1345-4abe-8c3f-4abde71f6653",
   "metadata": {
    "tags": []
   },
   "outputs": [
    {
     "data": {
      "text/plain": [
       "array([[ 0.        ,  0.        ,  0.        ,  0.        ,  0.        ,\n",
       "         0.        ,  0.        ,  0.        ,  0.        ,  0.        ,\n",
       "         0.        ,  0.        ,  0.        ,  0.        ,  0.        ,\n",
       "         0.        ,  0.        ,  0.        ,  0.        ,  0.        ,\n",
       "         0.        ,  0.        ,  0.        ,  0.        ,  0.        ,\n",
       "         0.        ,  0.        ,  0.        ,  0.        ,  0.        ,\n",
       "         1.        ,  0.        ,  0.        ,  0.        ,  0.        ,\n",
       "         0.        ,  0.        ,  0.        ,  0.        ,  0.        ,\n",
       "         0.        ,  0.        ,  0.        ,  0.        ,  0.        ,\n",
       "         0.        ,  0.        ,  0.        ,  0.        ,  0.        ,\n",
       "         1.        ,  0.        ,  0.        ,  1.        ,  1.59736629,\n",
       "         1.64273249, -1.61910902,  0.60083031,  1.05438831,  0.10655575,\n",
       "         1.14650785,  0.10238964, -0.30343896, -0.04517626, -0.04556432,\n",
       "        -0.9277831 , -0.9282404 ,  1.01737037,  1.01545243]])"
      ]
     },
     "execution_count": 20,
     "metadata": {},
     "output_type": "execute_result"
    }
   ],
   "source": [
    "Xtr[:1]"
   ]
  },
  {
   "cell_type": "markdown",
   "id": "5150e092-788e-4edf-bc42-6ef5c1c87475",
   "metadata": {},
   "source": [
    "### 3.3 Save the train FE data as CSV, PKL file"
   ]
  },
  {
   "cell_type": "code",
   "execution_count": 21,
   "id": "0586af9e-b354-4f94-b0d8-74d21efc289f",
   "metadata": {
    "tags": []
   },
   "outputs": [],
   "source": [
    "Xtr = pd.DataFrame(Xtr)                # ndarray to df"
   ]
  },
  {
   "cell_type": "code",
   "execution_count": 22,
   "id": "9aeb91ea-ce5a-4ae8-b55e-f5f92963d4a9",
   "metadata": {
    "tags": []
   },
   "outputs": [],
   "source": [
    "tr = pd.concat([Xtr,ytr], axis=1)   # concat feature df and target series"
   ]
  },
  {
   "cell_type": "code",
   "execution_count": 23,
   "id": "1267ec9b-7ca2-4ad5-9a6d-c034b641108c",
   "metadata": {
    "tags": []
   },
   "outputs": [
    {
     "data": {
      "text/plain": [
       "(6960, 70)"
      ]
     },
     "execution_count": 23,
     "metadata": {},
     "output_type": "execute_result"
    }
   ],
   "source": [
    "tr.shape"
   ]
  },
  {
   "cell_type": "code",
   "execution_count": 24,
   "id": "23b1162d-51fe-48cd-8f9e-a479af0f2333",
   "metadata": {
    "tags": []
   },
   "outputs": [
    {
     "data": {
      "text/html": [
       "<div>\n",
       "<style scoped>\n",
       "    .dataframe tbody tr th:only-of-type {\n",
       "        vertical-align: middle;\n",
       "    }\n",
       "\n",
       "    .dataframe tbody tr th {\n",
       "        vertical-align: top;\n",
       "    }\n",
       "\n",
       "    .dataframe thead th {\n",
       "        text-align: right;\n",
       "    }\n",
       "</style>\n",
       "<table border=\"1\" class=\"dataframe\">\n",
       "  <thead>\n",
       "    <tr style=\"text-align: right;\">\n",
       "      <th></th>\n",
       "      <th>0</th>\n",
       "      <th>1</th>\n",
       "      <th>2</th>\n",
       "      <th>3</th>\n",
       "      <th>4</th>\n",
       "      <th>5</th>\n",
       "      <th>6</th>\n",
       "      <th>7</th>\n",
       "      <th>8</th>\n",
       "      <th>9</th>\n",
       "      <th>...</th>\n",
       "      <th>60</th>\n",
       "      <th>61</th>\n",
       "      <th>62</th>\n",
       "      <th>63</th>\n",
       "      <th>64</th>\n",
       "      <th>65</th>\n",
       "      <th>66</th>\n",
       "      <th>67</th>\n",
       "      <th>68</th>\n",
       "      <th>churn</th>\n",
       "    </tr>\n",
       "  </thead>\n",
       "  <tbody>\n",
       "    <tr>\n",
       "      <th>0</th>\n",
       "      <td>0.0</td>\n",
       "      <td>0.0</td>\n",
       "      <td>0.0</td>\n",
       "      <td>0.0</td>\n",
       "      <td>0.0</td>\n",
       "      <td>0.0</td>\n",
       "      <td>0.0</td>\n",
       "      <td>0.0</td>\n",
       "      <td>0.0</td>\n",
       "      <td>0.0</td>\n",
       "      <td>...</td>\n",
       "      <td>1.1465</td>\n",
       "      <td>0.1024</td>\n",
       "      <td>-0.3034</td>\n",
       "      <td>-0.0452</td>\n",
       "      <td>-0.0456</td>\n",
       "      <td>-0.9278</td>\n",
       "      <td>-0.9282</td>\n",
       "      <td>1.0174</td>\n",
       "      <td>1.0155</td>\n",
       "      <td>0</td>\n",
       "    </tr>\n",
       "    <tr>\n",
       "      <th>1</th>\n",
       "      <td>0.0</td>\n",
       "      <td>0.0</td>\n",
       "      <td>0.0</td>\n",
       "      <td>0.0</td>\n",
       "      <td>0.0</td>\n",
       "      <td>0.0</td>\n",
       "      <td>0.0</td>\n",
       "      <td>0.0</td>\n",
       "      <td>0.0</td>\n",
       "      <td>0.0</td>\n",
       "      <td>...</td>\n",
       "      <td>-1.1349</td>\n",
       "      <td>1.2493</td>\n",
       "      <td>-1.5019</td>\n",
       "      <td>0.7618</td>\n",
       "      <td>0.7619</td>\n",
       "      <td>0.9893</td>\n",
       "      <td>0.9899</td>\n",
       "      <td>-0.1726</td>\n",
       "      <td>-0.1727</td>\n",
       "      <td>0</td>\n",
       "    </tr>\n",
       "    <tr>\n",
       "      <th>2</th>\n",
       "      <td>0.0</td>\n",
       "      <td>0.0</td>\n",
       "      <td>0.0</td>\n",
       "      <td>0.0</td>\n",
       "      <td>0.0</td>\n",
       "      <td>0.0</td>\n",
       "      <td>0.0</td>\n",
       "      <td>0.0</td>\n",
       "      <td>0.0</td>\n",
       "      <td>0.0</td>\n",
       "      <td>...</td>\n",
       "      <td>-0.5194</td>\n",
       "      <td>-1.4436</td>\n",
       "      <td>-0.3034</td>\n",
       "      <td>-1.1638</td>\n",
       "      <td>-1.1640</td>\n",
       "      <td>-0.0775</td>\n",
       "      <td>-0.0765</td>\n",
       "      <td>-0.8682</td>\n",
       "      <td>-0.8695</td>\n",
       "      <td>0</td>\n",
       "    </tr>\n",
       "    <tr>\n",
       "      <th>3</th>\n",
       "      <td>0.0</td>\n",
       "      <td>0.0</td>\n",
       "      <td>0.0</td>\n",
       "      <td>0.0</td>\n",
       "      <td>0.0</td>\n",
       "      <td>0.0</td>\n",
       "      <td>0.0</td>\n",
       "      <td>1.0</td>\n",
       "      <td>0.0</td>\n",
       "      <td>0.0</td>\n",
       "      <td>...</td>\n",
       "      <td>0.4219</td>\n",
       "      <td>-0.9316</td>\n",
       "      <td>-0.3034</td>\n",
       "      <td>1.3034</td>\n",
       "      <td>1.3031</td>\n",
       "      <td>-0.2460</td>\n",
       "      <td>-0.2464</td>\n",
       "      <td>-1.6139</td>\n",
       "      <td>-1.6154</td>\n",
       "      <td>0</td>\n",
       "    </tr>\n",
       "    <tr>\n",
       "      <th>4</th>\n",
       "      <td>0.0</td>\n",
       "      <td>0.0</td>\n",
       "      <td>0.0</td>\n",
       "      <td>0.0</td>\n",
       "      <td>0.0</td>\n",
       "      <td>0.0</td>\n",
       "      <td>0.0</td>\n",
       "      <td>0.0</td>\n",
       "      <td>0.0</td>\n",
       "      <td>0.0</td>\n",
       "      <td>...</td>\n",
       "      <td>-0.5194</td>\n",
       "      <td>1.3354</td>\n",
       "      <td>-0.3034</td>\n",
       "      <td>0.8415</td>\n",
       "      <td>0.8416</td>\n",
       "      <td>0.1350</td>\n",
       "      <td>0.1358</td>\n",
       "      <td>-0.6571</td>\n",
       "      <td>-0.6551</td>\n",
       "      <td>0</td>\n",
       "    </tr>\n",
       "  </tbody>\n",
       "</table>\n",
       "<p>5 rows × 70 columns</p>\n",
       "</div>"
      ],
      "text/plain": [
       "     0    1    2    3    4    5    6    7    8    9  ...      60      61  \\\n",
       "0  0.0  0.0  0.0  0.0  0.0  0.0  0.0  0.0  0.0  0.0  ...  1.1465  0.1024   \n",
       "1  0.0  0.0  0.0  0.0  0.0  0.0  0.0  0.0  0.0  0.0  ... -1.1349  1.2493   \n",
       "2  0.0  0.0  0.0  0.0  0.0  0.0  0.0  0.0  0.0  0.0  ... -0.5194 -1.4436   \n",
       "3  0.0  0.0  0.0  0.0  0.0  0.0  0.0  1.0  0.0  0.0  ...  0.4219 -0.9316   \n",
       "4  0.0  0.0  0.0  0.0  0.0  0.0  0.0  0.0  0.0  0.0  ... -0.5194  1.3354   \n",
       "\n",
       "       62      63      64      65      66      67      68  churn  \n",
       "0 -0.3034 -0.0452 -0.0456 -0.9278 -0.9282  1.0174  1.0155      0  \n",
       "1 -1.5019  0.7618  0.7619  0.9893  0.9899 -0.1726 -0.1727      0  \n",
       "2 -0.3034 -1.1638 -1.1640 -0.0775 -0.0765 -0.8682 -0.8695      0  \n",
       "3 -0.3034  1.3034  1.3031 -0.2460 -0.2464 -1.6139 -1.6154      0  \n",
       "4 -0.3034  0.8415  0.8416  0.1350  0.1358 -0.6571 -0.6551      0  \n",
       "\n",
       "[5 rows x 70 columns]"
      ]
     },
     "execution_count": 24,
     "metadata": {},
     "output_type": "execute_result"
    }
   ],
   "source": [
    "tr.head()"
   ]
  },
  {
   "cell_type": "code",
   "execution_count": 25,
   "id": "137e5122-b7b5-46a4-a303-4d7886b986d5",
   "metadata": {
    "tags": []
   },
   "outputs": [
    {
     "name": "stdout",
     "output_type": "stream",
     "text": [
      "Train dataset saved successfully in CSV and PKL files ...\n"
     ]
    }
   ],
   "source": [
    "tr.to_csv('cc_train_fe.csv', index=False)\n",
    "tr.to_pickle('cc_train_fe.pkl')\n",
    "\n",
    "print('Train dataset saved successfully in CSV and PKL files ...')"
   ]
  },
  {
   "cell_type": "markdown",
   "id": "af924a39-1a37-4973-96a3-70f0d16bfc18",
   "metadata": {},
   "source": [
    "## 4 Validation Data FE"
   ]
  },
  {
   "cell_type": "markdown",
   "id": "8c7f4605-b217-4880-b9b2-2728af482fc8",
   "metadata": {},
   "source": [
    "### 4.1 Validation Dataset"
   ]
  },
  {
   "cell_type": "code",
   "execution_count": 26,
   "id": "004dca85-66b2-4067-a9b1-df852736d194",
   "metadata": {
    "tags": []
   },
   "outputs": [
    {
     "name": "stdout",
     "output_type": "stream",
     "text": [
      "Shape of the validation dataset : (100, 20)\n"
     ]
    },
    {
     "data": {
      "text/html": [
       "<div>\n",
       "<style scoped>\n",
       "    .dataframe tbody tr th:only-of-type {\n",
       "        vertical-align: middle;\n",
       "    }\n",
       "\n",
       "    .dataframe tbody tr th {\n",
       "        vertical-align: top;\n",
       "    }\n",
       "\n",
       "    .dataframe thead th {\n",
       "        text-align: right;\n",
       "    }\n",
       "</style>\n",
       "<table border=\"1\" class=\"dataframe\">\n",
       "  <thead>\n",
       "    <tr style=\"text-align: right;\">\n",
       "      <th></th>\n",
       "      <th>state</th>\n",
       "      <th>account_length</th>\n",
       "      <th>area_code</th>\n",
       "      <th>international_plan</th>\n",
       "      <th>voice_mail_plan</th>\n",
       "      <th>number_vmail_messages</th>\n",
       "      <th>total_day_minutes</th>\n",
       "      <th>total_day_calls</th>\n",
       "      <th>total_day_charge</th>\n",
       "      <th>total_eve_minutes</th>\n",
       "      <th>total_eve_calls</th>\n",
       "      <th>total_eve_charge</th>\n",
       "      <th>total_night_minutes</th>\n",
       "      <th>total_night_calls</th>\n",
       "      <th>total_night_charge</th>\n",
       "      <th>total_intl_minutes</th>\n",
       "      <th>total_intl_calls</th>\n",
       "      <th>total_intl_charge</th>\n",
       "      <th>number_customer_service_calls</th>\n",
       "      <th>churn</th>\n",
       "    </tr>\n",
       "  </thead>\n",
       "  <tbody>\n",
       "    <tr>\n",
       "      <th>2487</th>\n",
       "      <td>KY</td>\n",
       "      <td>96</td>\n",
       "      <td>area_code_415</td>\n",
       "      <td>no</td>\n",
       "      <td>yes</td>\n",
       "      <td>40</td>\n",
       "      <td>108.6</td>\n",
       "      <td>90</td>\n",
       "      <td>18.46</td>\n",
       "      <td>206.4</td>\n",
       "      <td>154</td>\n",
       "      <td>17.54</td>\n",
       "      <td>126.3</td>\n",
       "      <td>118</td>\n",
       "      <td>5.68</td>\n",
       "      <td>13.4</td>\n",
       "      <td>4</td>\n",
       "      <td>3.62</td>\n",
       "      <td>0</td>\n",
       "      <td>no</td>\n",
       "    </tr>\n",
       "    <tr>\n",
       "      <th>2711</th>\n",
       "      <td>WA</td>\n",
       "      <td>152</td>\n",
       "      <td>area_code_510</td>\n",
       "      <td>no</td>\n",
       "      <td>no</td>\n",
       "      <td>0</td>\n",
       "      <td>161.4</td>\n",
       "      <td>84</td>\n",
       "      <td>27.44</td>\n",
       "      <td>163.6</td>\n",
       "      <td>88</td>\n",
       "      <td>13.91</td>\n",
       "      <td>153.2</td>\n",
       "      <td>121</td>\n",
       "      <td>6.89</td>\n",
       "      <td>11.8</td>\n",
       "      <td>5</td>\n",
       "      <td>3.19</td>\n",
       "      <td>1</td>\n",
       "      <td>no</td>\n",
       "    </tr>\n",
       "    <tr>\n",
       "      <th>4237</th>\n",
       "      <td>TN</td>\n",
       "      <td>74</td>\n",
       "      <td>area_code_510</td>\n",
       "      <td>no</td>\n",
       "      <td>no</td>\n",
       "      <td>0</td>\n",
       "      <td>159.4</td>\n",
       "      <td>86</td>\n",
       "      <td>27.10</td>\n",
       "      <td>210.0</td>\n",
       "      <td>122</td>\n",
       "      <td>17.85</td>\n",
       "      <td>172.4</td>\n",
       "      <td>99</td>\n",
       "      <td>7.76</td>\n",
       "      <td>8.5</td>\n",
       "      <td>2</td>\n",
       "      <td>2.30</td>\n",
       "      <td>1</td>\n",
       "      <td>no</td>\n",
       "    </tr>\n",
       "    <tr>\n",
       "      <th>2673</th>\n",
       "      <td>AZ</td>\n",
       "      <td>94</td>\n",
       "      <td>area_code_415</td>\n",
       "      <td>no</td>\n",
       "      <td>no</td>\n",
       "      <td>0</td>\n",
       "      <td>220.8</td>\n",
       "      <td>111</td>\n",
       "      <td>37.54</td>\n",
       "      <td>156.2</td>\n",
       "      <td>67</td>\n",
       "      <td>13.28</td>\n",
       "      <td>187.9</td>\n",
       "      <td>89</td>\n",
       "      <td>8.46</td>\n",
       "      <td>10.5</td>\n",
       "      <td>4</td>\n",
       "      <td>2.84</td>\n",
       "      <td>2</td>\n",
       "      <td>no</td>\n",
       "    </tr>\n",
       "    <tr>\n",
       "      <th>1558</th>\n",
       "      <td>NH</td>\n",
       "      <td>120</td>\n",
       "      <td>area_code_510</td>\n",
       "      <td>no</td>\n",
       "      <td>yes</td>\n",
       "      <td>43</td>\n",
       "      <td>177.9</td>\n",
       "      <td>117</td>\n",
       "      <td>30.24</td>\n",
       "      <td>175.1</td>\n",
       "      <td>70</td>\n",
       "      <td>14.88</td>\n",
       "      <td>161.3</td>\n",
       "      <td>117</td>\n",
       "      <td>7.26</td>\n",
       "      <td>11.5</td>\n",
       "      <td>4</td>\n",
       "      <td>3.11</td>\n",
       "      <td>1</td>\n",
       "      <td>no</td>\n",
       "    </tr>\n",
       "  </tbody>\n",
       "</table>\n",
       "</div>"
      ],
      "text/plain": [
       "     state  account_length      area_code international_plan voice_mail_plan  \\\n",
       "2487    KY              96  area_code_415                 no             yes   \n",
       "2711    WA             152  area_code_510                 no              no   \n",
       "4237    TN              74  area_code_510                 no              no   \n",
       "2673    AZ              94  area_code_415                 no              no   \n",
       "1558    NH             120  area_code_510                 no             yes   \n",
       "\n",
       "      number_vmail_messages  total_day_minutes  total_day_calls  \\\n",
       "2487                     40              108.6               90   \n",
       "2711                      0              161.4               84   \n",
       "4237                      0              159.4               86   \n",
       "2673                      0              220.8              111   \n",
       "1558                     43              177.9              117   \n",
       "\n",
       "      total_day_charge  total_eve_minutes  total_eve_calls  total_eve_charge  \\\n",
       "2487             18.46              206.4              154             17.54   \n",
       "2711             27.44              163.6               88             13.91   \n",
       "4237             27.10              210.0              122             17.85   \n",
       "2673             37.54              156.2               67             13.28   \n",
       "1558             30.24              175.1               70             14.88   \n",
       "\n",
       "      total_night_minutes  total_night_calls  total_night_charge  \\\n",
       "2487                126.3                118                5.68   \n",
       "2711                153.2                121                6.89   \n",
       "4237                172.4                 99                7.76   \n",
       "2673                187.9                 89                8.46   \n",
       "1558                161.3                117                7.26   \n",
       "\n",
       "      total_intl_minutes  total_intl_calls  total_intl_charge  \\\n",
       "2487                13.4                 4               3.62   \n",
       "2711                11.8                 5               3.19   \n",
       "4237                 8.5                 2               2.30   \n",
       "2673                10.5                 4               2.84   \n",
       "1558                11.5                 4               3.11   \n",
       "\n",
       "      number_customer_service_calls churn  \n",
       "2487                              0    no  \n",
       "2711                              1    no  \n",
       "4237                              1    no  \n",
       "2673                              2    no  \n",
       "1558                              1    no  "
      ]
     },
     "execution_count": 26,
     "metadata": {},
     "output_type": "execute_result"
    }
   ],
   "source": [
    "val = pd.read_pickle('cc_valid_pp.pkl')\n",
    "\n",
    "print(f'Shape of the validation dataset : {val.shape}')\n",
    "val.head(5)"
   ]
  },
  {
   "cell_type": "code",
   "execution_count": 27,
   "id": "3103dbb2-0f70-40e1-9d92-c0b9a1f644bd",
   "metadata": {
    "tags": []
   },
   "outputs": [],
   "source": [
    "Xval = val.drop(columns='churn')\n",
    "yval = val['churn']"
   ]
  },
  {
   "cell_type": "markdown",
   "id": "2a31d36e-6a7e-4f8c-bcdd-4957378bb3a9",
   "metadata": {},
   "source": [
    "### 4.2 FE Steps"
   ]
  },
  {
   "cell_type": "code",
   "execution_count": 28,
   "id": "844a47bb-ab68-445e-af2e-7bb52883a41d",
   "metadata": {
    "tags": []
   },
   "outputs": [],
   "source": [
    "yval = prep_target(yval)"
   ]
  },
  {
   "cell_type": "code",
   "execution_count": 29,
   "id": "febd3a94-a7f9-4b2e-b734-1f01a1be7aa0",
   "metadata": {
    "tags": []
   },
   "outputs": [
    {
     "name": "stdout",
     "output_type": "stream",
     "text": [
      "\"pipe2\" Features Saved Successfully\n"
     ]
    }
   ],
   "source": [
    "steps2 = [('pp1',pipe1),\n",
    "     ('sb',skb)\n",
    "     ]\n",
    "\n",
    "pipe2 = Pipeline(steps2)\n",
    "\n",
    "dump(pipe2, open('cc_pipe2_val_te.pkl','wb'))\n",
    "print('\"pipe2\" Features Saved Successfully')"
   ]
  },
  {
   "cell_type": "code",
   "execution_count": 30,
   "id": "de4dc547-ef30-462b-8f10-f427a951d44c",
   "metadata": {
    "tags": []
   },
   "outputs": [
    {
     "data": {
      "text/plain": [
       "(100, 69)"
      ]
     },
     "execution_count": 30,
     "metadata": {},
     "output_type": "execute_result"
    }
   ],
   "source": [
    "Xval = pipe2.transform(Xval)\n",
    "Xval.shape"
   ]
  },
  {
   "cell_type": "code",
   "execution_count": 31,
   "id": "2ba4a07b-1113-4047-94fe-4321d5c54bf7",
   "metadata": {
    "tags": []
   },
   "outputs": [
    {
     "data": {
      "text/plain": [
       "array([[0, 0, 0, 0, 0, 0, 0, 0, 0, 0, 0, 0, 0, 0, 0, 0, 1, 0, 0, 0, 0, 0,\n",
       "        0, 0, 0, 0, 0, 0, 0, 0, 0, 0, 0, 0, 0, 0, 0, 0, 0, 0, 0, 0, 0, 0,\n",
       "        0, 0, 0, 0, 0, 0, 1, 0, 0, 1, -0.07908712743963611,\n",
       "        1.7149019358403352, -0.5023471426321819, 2.6981732302547425,\n",
       "        0.9058597295559861, 1.174946280105122, -0.012493308385580418,\n",
       "        1.1776873310794866, -1.5018581756320228, -1.3307018822315966,\n",
       "        -1.3309784937370601, 0.12500682750835182, 0.12401624975327542,\n",
       "        -1.493324161700367, -1.4948207486786635]], dtype=object)"
      ]
     },
     "execution_count": 31,
     "metadata": {},
     "output_type": "execute_result"
    }
   ],
   "source": [
    "Xval[:1]"
   ]
  },
  {
   "cell_type": "code",
   "execution_count": 32,
   "id": "801f2f9e-2c18-4a2d-ab17-b60c207cb861",
   "metadata": {
    "tags": []
   },
   "outputs": [],
   "source": [
    "Xval=Xval.astype('float')"
   ]
  },
  {
   "cell_type": "markdown",
   "id": "d968081c-4f99-4b24-8a59-4e71ce639d53",
   "metadata": {},
   "source": [
    "### 4.3 Save the validation FE data as CSV, PKL file"
   ]
  },
  {
   "cell_type": "code",
   "execution_count": 33,
   "id": "71a73868-a296-4e46-9cea-57bc26e2aa9e",
   "metadata": {
    "tags": []
   },
   "outputs": [
    {
     "data": {
      "text/plain": [
       "array([[0],\n",
       "       [0],\n",
       "       [0],\n",
       "       [0],\n",
       "       [0]], dtype=int64)"
      ]
     },
     "execution_count": 33,
     "metadata": {},
     "output_type": "execute_result"
    }
   ],
   "source": [
    "yval = yval.values\n",
    "yval = yval.reshape((100,1))\n",
    "yval[:5]"
   ]
  },
  {
   "cell_type": "code",
   "execution_count": 34,
   "id": "a0523e1d-30a4-49a5-87a0-12b2ee0840f5",
   "metadata": {
    "tags": []
   },
   "outputs": [],
   "source": [
    "val = np.concatenate([Xval,yval], axis=1)         "
   ]
  },
  {
   "cell_type": "code",
   "execution_count": 35,
   "id": "f0e7b5fa-a7a5-4179-b4db-22a2d236d03c",
   "metadata": {
    "tags": []
   },
   "outputs": [
    {
     "data": {
      "text/html": [
       "<div>\n",
       "<style scoped>\n",
       "    .dataframe tbody tr th:only-of-type {\n",
       "        vertical-align: middle;\n",
       "    }\n",
       "\n",
       "    .dataframe tbody tr th {\n",
       "        vertical-align: top;\n",
       "    }\n",
       "\n",
       "    .dataframe thead th {\n",
       "        text-align: right;\n",
       "    }\n",
       "</style>\n",
       "<table border=\"1\" class=\"dataframe\">\n",
       "  <thead>\n",
       "    <tr style=\"text-align: right;\">\n",
       "      <th></th>\n",
       "      <th>0</th>\n",
       "      <th>1</th>\n",
       "      <th>2</th>\n",
       "      <th>3</th>\n",
       "      <th>4</th>\n",
       "      <th>5</th>\n",
       "      <th>6</th>\n",
       "      <th>7</th>\n",
       "      <th>8</th>\n",
       "      <th>9</th>\n",
       "      <th>...</th>\n",
       "      <th>60</th>\n",
       "      <th>61</th>\n",
       "      <th>62</th>\n",
       "      <th>63</th>\n",
       "      <th>64</th>\n",
       "      <th>65</th>\n",
       "      <th>66</th>\n",
       "      <th>67</th>\n",
       "      <th>68</th>\n",
       "      <th>churn</th>\n",
       "    </tr>\n",
       "  </thead>\n",
       "  <tbody>\n",
       "    <tr>\n",
       "      <th>0</th>\n",
       "      <td>0.0</td>\n",
       "      <td>0.0</td>\n",
       "      <td>0.0</td>\n",
       "      <td>0.0</td>\n",
       "      <td>0.0</td>\n",
       "      <td>0.0</td>\n",
       "      <td>0.0</td>\n",
       "      <td>0.0</td>\n",
       "      <td>0.0</td>\n",
       "      <td>0.0</td>\n",
       "      <td>...</td>\n",
       "      <td>-0.0125</td>\n",
       "      <td>1.1777</td>\n",
       "      <td>-1.5019</td>\n",
       "      <td>-1.3307</td>\n",
       "      <td>-1.3310</td>\n",
       "      <td>0.1250</td>\n",
       "      <td>0.1240</td>\n",
       "      <td>-1.4933</td>\n",
       "      <td>-1.4948</td>\n",
       "      <td>0.0</td>\n",
       "    </tr>\n",
       "    <tr>\n",
       "      <th>1</th>\n",
       "      <td>0.0</td>\n",
       "      <td>0.0</td>\n",
       "      <td>0.0</td>\n",
       "      <td>0.0</td>\n",
       "      <td>0.0</td>\n",
       "      <td>0.0</td>\n",
       "      <td>0.0</td>\n",
       "      <td>0.0</td>\n",
       "      <td>0.0</td>\n",
       "      <td>0.0</td>\n",
       "      <td>...</td>\n",
       "      <td>0.4219</td>\n",
       "      <td>0.5662</td>\n",
       "      <td>-0.3034</td>\n",
       "      <td>-0.3513</td>\n",
       "      <td>-0.3511</td>\n",
       "      <td>-0.7333</td>\n",
       "      <td>-0.7324</td>\n",
       "      <td>-0.9526</td>\n",
       "      <td>-0.9544</td>\n",
       "      <td>0.0</td>\n",
       "    </tr>\n",
       "    <tr>\n",
       "      <th>2</th>\n",
       "      <td>0.0</td>\n",
       "      <td>0.0</td>\n",
       "      <td>0.0</td>\n",
       "      <td>0.0</td>\n",
       "      <td>0.0</td>\n",
       "      <td>0.0</td>\n",
       "      <td>0.0</td>\n",
       "      <td>0.0</td>\n",
       "      <td>0.0</td>\n",
       "      <td>0.0</td>\n",
       "      <td>...</td>\n",
       "      <td>-1.1349</td>\n",
       "      <td>-0.6725</td>\n",
       "      <td>-0.3034</td>\n",
       "      <td>-0.3884</td>\n",
       "      <td>-0.3882</td>\n",
       "      <td>0.1972</td>\n",
       "      <td>0.1972</td>\n",
       "      <td>-0.5666</td>\n",
       "      <td>-0.5658</td>\n",
       "      <td>0.0</td>\n",
       "    </tr>\n",
       "    <tr>\n",
       "      <th>3</th>\n",
       "      <td>0.0</td>\n",
       "      <td>0.0</td>\n",
       "      <td>1.0</td>\n",
       "      <td>0.0</td>\n",
       "      <td>0.0</td>\n",
       "      <td>0.0</td>\n",
       "      <td>0.0</td>\n",
       "      <td>0.0</td>\n",
       "      <td>0.0</td>\n",
       "      <td>0.0</td>\n",
       "      <td>...</td>\n",
       "      <td>-0.0125</td>\n",
       "      <td>0.0744</td>\n",
       "      <td>0.5730</td>\n",
       "      <td>0.7506</td>\n",
       "      <td>0.7510</td>\n",
       "      <td>-0.8817</td>\n",
       "      <td>-0.8811</td>\n",
       "      <td>-0.2551</td>\n",
       "      <td>-0.2531</td>\n",
       "      <td>0.0</td>\n",
       "    </tr>\n",
       "    <tr>\n",
       "      <th>4</th>\n",
       "      <td>0.0</td>\n",
       "      <td>0.0</td>\n",
       "      <td>0.0</td>\n",
       "      <td>0.0</td>\n",
       "      <td>0.0</td>\n",
       "      <td>0.0</td>\n",
       "      <td>0.0</td>\n",
       "      <td>0.0</td>\n",
       "      <td>0.0</td>\n",
       "      <td>0.0</td>\n",
       "      <td>...</td>\n",
       "      <td>-0.0125</td>\n",
       "      <td>0.4533</td>\n",
       "      <td>-0.3034</td>\n",
       "      <td>-0.0452</td>\n",
       "      <td>-0.0456</td>\n",
       "      <td>-0.5027</td>\n",
       "      <td>-0.5036</td>\n",
       "      <td>-0.7898</td>\n",
       "      <td>-0.7891</td>\n",
       "      <td>0.0</td>\n",
       "    </tr>\n",
       "  </tbody>\n",
       "</table>\n",
       "<p>5 rows × 70 columns</p>\n",
       "</div>"
      ],
      "text/plain": [
       "     0    1    2    3    4    5    6    7    8    9  ...      60      61  \\\n",
       "0  0.0  0.0  0.0  0.0  0.0  0.0  0.0  0.0  0.0  0.0  ... -0.0125  1.1777   \n",
       "1  0.0  0.0  0.0  0.0  0.0  0.0  0.0  0.0  0.0  0.0  ...  0.4219  0.5662   \n",
       "2  0.0  0.0  0.0  0.0  0.0  0.0  0.0  0.0  0.0  0.0  ... -1.1349 -0.6725   \n",
       "3  0.0  0.0  1.0  0.0  0.0  0.0  0.0  0.0  0.0  0.0  ... -0.0125  0.0744   \n",
       "4  0.0  0.0  0.0  0.0  0.0  0.0  0.0  0.0  0.0  0.0  ... -0.0125  0.4533   \n",
       "\n",
       "       62      63      64      65      66      67      68  churn  \n",
       "0 -1.5019 -1.3307 -1.3310  0.1250  0.1240 -1.4933 -1.4948    0.0  \n",
       "1 -0.3034 -0.3513 -0.3511 -0.7333 -0.7324 -0.9526 -0.9544    0.0  \n",
       "2 -0.3034 -0.3884 -0.3882  0.1972  0.1972 -0.5666 -0.5658    0.0  \n",
       "3  0.5730  0.7506  0.7510 -0.8817 -0.8811 -0.2551 -0.2531    0.0  \n",
       "4 -0.3034 -0.0452 -0.0456 -0.5027 -0.5036 -0.7898 -0.7891    0.0  \n",
       "\n",
       "[5 rows x 70 columns]"
      ]
     },
     "execution_count": 35,
     "metadata": {},
     "output_type": "execute_result"
    }
   ],
   "source": [
    "val = pd.DataFrame(val)   # array to df\n",
    "val.rename(columns={69:'churn'}, inplace=True)\n",
    "val.head()"
   ]
  },
  {
   "cell_type": "code",
   "execution_count": 36,
   "id": "f30cf527-8886-4d36-81da-7954f66e94e6",
   "metadata": {
    "tags": []
   },
   "outputs": [
    {
     "data": {
      "text/plain": [
       "(100, 70)"
      ]
     },
     "execution_count": 36,
     "metadata": {},
     "output_type": "execute_result"
    }
   ],
   "source": [
    "val.shape"
   ]
  },
  {
   "cell_type": "code",
   "execution_count": 37,
   "id": "ba7b7f6c-c288-48af-81b1-ea3ed45d3642",
   "metadata": {
    "tags": []
   },
   "outputs": [
    {
     "name": "stdout",
     "output_type": "stream",
     "text": [
      "Validation dataset saved successfully in CSV and PKL files ...\n"
     ]
    }
   ],
   "source": [
    "val.to_csv('cc_valid_fe.csv', index=False)\n",
    "val.to_pickle('cc_valid_fe.pkl')\n",
    "\n",
    "print('Validation dataset saved successfully in CSV and PKL files ...')"
   ]
  },
  {
   "cell_type": "markdown",
   "id": "323e63f5-1150-48cd-9d02-b2cb9c36bc8c",
   "metadata": {},
   "source": [
    "## 5. Test Dataset FE"
   ]
  },
  {
   "cell_type": "markdown",
   "id": "4ecaa486-f240-4bf4-895d-ebc354678438",
   "metadata": {},
   "source": [
    "### 5.1 Test Dataset"
   ]
  },
  {
   "cell_type": "code",
   "execution_count": 38,
   "id": "dd8f1bd7-1a9c-47f5-a142-27af694817d8",
   "metadata": {},
   "outputs": [
    {
     "name": "stdout",
     "output_type": "stream",
     "text": [
      "Shape of the test dataset : (100, 20)\n"
     ]
    },
    {
     "data": {
      "text/html": [
       "<div>\n",
       "<style scoped>\n",
       "    .dataframe tbody tr th:only-of-type {\n",
       "        vertical-align: middle;\n",
       "    }\n",
       "\n",
       "    .dataframe tbody tr th {\n",
       "        vertical-align: top;\n",
       "    }\n",
       "\n",
       "    .dataframe thead th {\n",
       "        text-align: right;\n",
       "    }\n",
       "</style>\n",
       "<table border=\"1\" class=\"dataframe\">\n",
       "  <thead>\n",
       "    <tr style=\"text-align: right;\">\n",
       "      <th></th>\n",
       "      <th>state</th>\n",
       "      <th>account_length</th>\n",
       "      <th>area_code</th>\n",
       "      <th>international_plan</th>\n",
       "      <th>voice_mail_plan</th>\n",
       "      <th>number_vmail_messages</th>\n",
       "      <th>total_day_minutes</th>\n",
       "      <th>total_day_calls</th>\n",
       "      <th>total_day_charge</th>\n",
       "      <th>total_eve_minutes</th>\n",
       "      <th>total_eve_calls</th>\n",
       "      <th>total_eve_charge</th>\n",
       "      <th>total_night_minutes</th>\n",
       "      <th>total_night_calls</th>\n",
       "      <th>total_night_charge</th>\n",
       "      <th>total_intl_minutes</th>\n",
       "      <th>total_intl_calls</th>\n",
       "      <th>total_intl_charge</th>\n",
       "      <th>number_customer_service_calls</th>\n",
       "      <th>churn</th>\n",
       "    </tr>\n",
       "  </thead>\n",
       "  <tbody>\n",
       "    <tr>\n",
       "      <th>4221</th>\n",
       "      <td>GA</td>\n",
       "      <td>122</td>\n",
       "      <td>area_code_408</td>\n",
       "      <td>no</td>\n",
       "      <td>no</td>\n",
       "      <td>0</td>\n",
       "      <td>93.3</td>\n",
       "      <td>109</td>\n",
       "      <td>15.86</td>\n",
       "      <td>214.4</td>\n",
       "      <td>104</td>\n",
       "      <td>18.22</td>\n",
       "      <td>176.7</td>\n",
       "      <td>104</td>\n",
       "      <td>7.95</td>\n",
       "      <td>12.1</td>\n",
       "      <td>2</td>\n",
       "      <td>3.27</td>\n",
       "      <td>0</td>\n",
       "      <td>no</td>\n",
       "    </tr>\n",
       "    <tr>\n",
       "      <th>1476</th>\n",
       "      <td>MO</td>\n",
       "      <td>80</td>\n",
       "      <td>area_code_408</td>\n",
       "      <td>yes</td>\n",
       "      <td>yes</td>\n",
       "      <td>15</td>\n",
       "      <td>159.3</td>\n",
       "      <td>110</td>\n",
       "      <td>27.08</td>\n",
       "      <td>170.6</td>\n",
       "      <td>120</td>\n",
       "      <td>14.50</td>\n",
       "      <td>141.2</td>\n",
       "      <td>82</td>\n",
       "      <td>6.35</td>\n",
       "      <td>11.9</td>\n",
       "      <td>5</td>\n",
       "      <td>3.21</td>\n",
       "      <td>1</td>\n",
       "      <td>no</td>\n",
       "    </tr>\n",
       "    <tr>\n",
       "      <th>904</th>\n",
       "      <td>NC</td>\n",
       "      <td>64</td>\n",
       "      <td>area_code_408</td>\n",
       "      <td>no</td>\n",
       "      <td>yes</td>\n",
       "      <td>19</td>\n",
       "      <td>291.1</td>\n",
       "      <td>150</td>\n",
       "      <td>49.49</td>\n",
       "      <td>226.7</td>\n",
       "      <td>123</td>\n",
       "      <td>19.27</td>\n",
       "      <td>219.1</td>\n",
       "      <td>67</td>\n",
       "      <td>9.86</td>\n",
       "      <td>7.5</td>\n",
       "      <td>2</td>\n",
       "      <td>2.03</td>\n",
       "      <td>1</td>\n",
       "      <td>no</td>\n",
       "    </tr>\n",
       "    <tr>\n",
       "      <th>3527</th>\n",
       "      <td>NY</td>\n",
       "      <td>119</td>\n",
       "      <td>area_code_408</td>\n",
       "      <td>no</td>\n",
       "      <td>no</td>\n",
       "      <td>0</td>\n",
       "      <td>153.2</td>\n",
       "      <td>131</td>\n",
       "      <td>26.04</td>\n",
       "      <td>116.6</td>\n",
       "      <td>85</td>\n",
       "      <td>9.91</td>\n",
       "      <td>218.5</td>\n",
       "      <td>74</td>\n",
       "      <td>9.83</td>\n",
       "      <td>10.1</td>\n",
       "      <td>5</td>\n",
       "      <td>2.73</td>\n",
       "      <td>1</td>\n",
       "      <td>no</td>\n",
       "    </tr>\n",
       "    <tr>\n",
       "      <th>3656</th>\n",
       "      <td>OH</td>\n",
       "      <td>82</td>\n",
       "      <td>area_code_415</td>\n",
       "      <td>no</td>\n",
       "      <td>no</td>\n",
       "      <td>0</td>\n",
       "      <td>207.2</td>\n",
       "      <td>114</td>\n",
       "      <td>35.22</td>\n",
       "      <td>163.7</td>\n",
       "      <td>97</td>\n",
       "      <td>13.91</td>\n",
       "      <td>192.8</td>\n",
       "      <td>79</td>\n",
       "      <td>8.68</td>\n",
       "      <td>9.3</td>\n",
       "      <td>4</td>\n",
       "      <td>2.51</td>\n",
       "      <td>7</td>\n",
       "      <td>no</td>\n",
       "    </tr>\n",
       "  </tbody>\n",
       "</table>\n",
       "</div>"
      ],
      "text/plain": [
       "     state  account_length      area_code international_plan voice_mail_plan  \\\n",
       "4221    GA             122  area_code_408                 no              no   \n",
       "1476    MO              80  area_code_408                yes             yes   \n",
       "904     NC              64  area_code_408                 no             yes   \n",
       "3527    NY             119  area_code_408                 no              no   \n",
       "3656    OH              82  area_code_415                 no              no   \n",
       "\n",
       "      number_vmail_messages  total_day_minutes  total_day_calls  \\\n",
       "4221                      0               93.3              109   \n",
       "1476                     15              159.3              110   \n",
       "904                      19              291.1              150   \n",
       "3527                      0              153.2              131   \n",
       "3656                      0              207.2              114   \n",
       "\n",
       "      total_day_charge  total_eve_minutes  total_eve_calls  total_eve_charge  \\\n",
       "4221             15.86              214.4              104             18.22   \n",
       "1476             27.08              170.6              120             14.50   \n",
       "904              49.49              226.7              123             19.27   \n",
       "3527             26.04              116.6               85              9.91   \n",
       "3656             35.22              163.7               97             13.91   \n",
       "\n",
       "      total_night_minutes  total_night_calls  total_night_charge  \\\n",
       "4221                176.7                104                7.95   \n",
       "1476                141.2                 82                6.35   \n",
       "904                 219.1                 67                9.86   \n",
       "3527                218.5                 74                9.83   \n",
       "3656                192.8                 79                8.68   \n",
       "\n",
       "      total_intl_minutes  total_intl_calls  total_intl_charge  \\\n",
       "4221                12.1                 2               3.27   \n",
       "1476                11.9                 5               3.21   \n",
       "904                  7.5                 2               2.03   \n",
       "3527                10.1                 5               2.73   \n",
       "3656                 9.3                 4               2.51   \n",
       "\n",
       "      number_customer_service_calls churn  \n",
       "4221                              0    no  \n",
       "1476                              1    no  \n",
       "904                               1    no  \n",
       "3527                              1    no  \n",
       "3656                              7    no  "
      ]
     },
     "execution_count": 38,
     "metadata": {},
     "output_type": "execute_result"
    }
   ],
   "source": [
    "te = pd.read_pickle('cc_test_pp.pkl')\n",
    "\n",
    "print(f'Shape of the test dataset : {te.shape}')\n",
    "te.head(5)"
   ]
  },
  {
   "cell_type": "code",
   "execution_count": 39,
   "id": "316143b6-c2d3-4eb1-90b9-abe03af842a4",
   "metadata": {},
   "outputs": [],
   "source": [
    "Xte = te.drop(columns='churn')\n",
    "yte = te['churn']"
   ]
  },
  {
   "cell_type": "markdown",
   "id": "023ca361-57d5-493b-b27f-85db8eabaf1f",
   "metadata": {},
   "source": [
    "### 5.2 FE Steps"
   ]
  },
  {
   "cell_type": "code",
   "execution_count": 40,
   "id": "816c7de0-e333-4975-aa76-60e43f9566d0",
   "metadata": {},
   "outputs": [],
   "source": [
    "yte = prep_target(yte)"
   ]
  },
  {
   "cell_type": "code",
   "execution_count": 41,
   "id": "d51c33b9-04e3-4be4-9972-c4a6b8837a3f",
   "metadata": {
    "tags": []
   },
   "outputs": [
    {
     "data": {
      "text/plain": [
       "(100, 69)"
      ]
     },
     "execution_count": 41,
     "metadata": {},
     "output_type": "execute_result"
    }
   ],
   "source": [
    "Xte = pipe2.transform(Xte)\n",
    "Xte.shape"
   ]
  },
  {
   "cell_type": "code",
   "execution_count": 42,
   "id": "25469fae-f48f-4ce6-82c7-93b1e906968e",
   "metadata": {
    "tags": []
   },
   "outputs": [
    {
     "data": {
      "text/plain": [
       "array([[0, 0, 0, 0, 0, 0, 0, 0, 0, 1, 0, 0, 0, 0, 0, 0, 0, 0, 0, 0, 0, 0,\n",
       "        0, 0, 0, 0, 0, 0, 0, 0, 0, 0, 0, 0, 0, 0, 0, 0, 0, 0, 0, 0, 0, 0,\n",
       "        0, 0, 0, 0, 0, 0, 0, 0, 0, 0, 0.5654108541600653,\n",
       "        -0.5926784100938677, 0.46591572738994985, 0.1984529532036502,\n",
       "        0.20979268030826703, 0.6760492984372589, -1.1348639665891906,\n",
       "        0.6793344892577267, -1.5018581756320228, -1.6145192264084471,\n",
       "        -1.6146862059414007, 0.28543195906049273, 0.28444999949311073,\n",
       "        -0.4802016291235067, -0.48088478608696056]], dtype=object)"
      ]
     },
     "execution_count": 42,
     "metadata": {},
     "output_type": "execute_result"
    }
   ],
   "source": [
    "Xte[:1]"
   ]
  },
  {
   "cell_type": "code",
   "execution_count": 43,
   "id": "9bb0511b-7bb7-493a-a99d-536cc19b7a84",
   "metadata": {},
   "outputs": [],
   "source": [
    "Xte=Xte.astype('float')"
   ]
  },
  {
   "cell_type": "markdown",
   "id": "1a5a634b-0365-4fa3-8f33-38eb6f468dd5",
   "metadata": {},
   "source": [
    "### 5.3 Save the test FE data as CSV, PKL file"
   ]
  },
  {
   "cell_type": "code",
   "execution_count": 44,
   "id": "720d12f7-7142-45f8-86f2-8914fbde8a9f",
   "metadata": {
    "tags": []
   },
   "outputs": [
    {
     "data": {
      "text/plain": [
       "array([[0],\n",
       "       [0],\n",
       "       [0],\n",
       "       [0],\n",
       "       [0]], dtype=int64)"
      ]
     },
     "execution_count": 44,
     "metadata": {},
     "output_type": "execute_result"
    }
   ],
   "source": [
    "yte = yte.values\n",
    "yte = yte.reshape((100,1))\n",
    "yte[:5]"
   ]
  },
  {
   "cell_type": "code",
   "execution_count": 45,
   "id": "8b6da0c6-4a47-4122-88f2-0d4f23dbad11",
   "metadata": {
    "tags": []
   },
   "outputs": [],
   "source": [
    "te = np.concatenate([Xte,yte], axis=1)   "
   ]
  },
  {
   "cell_type": "code",
   "execution_count": 46,
   "id": "0bd6b0d8-4aa9-4a09-914a-34bc20c906a0",
   "metadata": {
    "tags": []
   },
   "outputs": [
    {
     "data": {
      "text/html": [
       "<div>\n",
       "<style scoped>\n",
       "    .dataframe tbody tr th:only-of-type {\n",
       "        vertical-align: middle;\n",
       "    }\n",
       "\n",
       "    .dataframe tbody tr th {\n",
       "        vertical-align: top;\n",
       "    }\n",
       "\n",
       "    .dataframe thead th {\n",
       "        text-align: right;\n",
       "    }\n",
       "</style>\n",
       "<table border=\"1\" class=\"dataframe\">\n",
       "  <thead>\n",
       "    <tr style=\"text-align: right;\">\n",
       "      <th></th>\n",
       "      <th>0</th>\n",
       "      <th>1</th>\n",
       "      <th>2</th>\n",
       "      <th>3</th>\n",
       "      <th>4</th>\n",
       "      <th>5</th>\n",
       "      <th>6</th>\n",
       "      <th>7</th>\n",
       "      <th>8</th>\n",
       "      <th>9</th>\n",
       "      <th>...</th>\n",
       "      <th>60</th>\n",
       "      <th>61</th>\n",
       "      <th>62</th>\n",
       "      <th>63</th>\n",
       "      <th>64</th>\n",
       "      <th>65</th>\n",
       "      <th>66</th>\n",
       "      <th>67</th>\n",
       "      <th>68</th>\n",
       "      <th>churn</th>\n",
       "    </tr>\n",
       "  </thead>\n",
       "  <tbody>\n",
       "    <tr>\n",
       "      <th>0</th>\n",
       "      <td>0.0</td>\n",
       "      <td>0.0</td>\n",
       "      <td>0.0</td>\n",
       "      <td>0.0</td>\n",
       "      <td>0.0</td>\n",
       "      <td>0.0</td>\n",
       "      <td>0.0</td>\n",
       "      <td>0.0</td>\n",
       "      <td>0.0</td>\n",
       "      <td>1.0</td>\n",
       "      <td>...</td>\n",
       "      <td>-1.1349</td>\n",
       "      <td>0.6793</td>\n",
       "      <td>-1.5019</td>\n",
       "      <td>-1.6145</td>\n",
       "      <td>-1.6147</td>\n",
       "      <td>0.2854</td>\n",
       "      <td>0.2844</td>\n",
       "      <td>-0.4802</td>\n",
       "      <td>-0.4809</td>\n",
       "      <td>0.0</td>\n",
       "    </tr>\n",
       "    <tr>\n",
       "      <th>1</th>\n",
       "      <td>0.0</td>\n",
       "      <td>0.0</td>\n",
       "      <td>0.0</td>\n",
       "      <td>0.0</td>\n",
       "      <td>0.0</td>\n",
       "      <td>0.0</td>\n",
       "      <td>0.0</td>\n",
       "      <td>0.0</td>\n",
       "      <td>0.0</td>\n",
       "      <td>0.0</td>\n",
       "      <td>...</td>\n",
       "      <td>0.4219</td>\n",
       "      <td>0.5944</td>\n",
       "      <td>-0.3034</td>\n",
       "      <td>-0.3902</td>\n",
       "      <td>-0.3904</td>\n",
       "      <td>-0.5929</td>\n",
       "      <td>-0.5932</td>\n",
       "      <td>-1.1938</td>\n",
       "      <td>-1.1956</td>\n",
       "      <td>0.0</td>\n",
       "    </tr>\n",
       "    <tr>\n",
       "      <th>2</th>\n",
       "      <td>0.0</td>\n",
       "      <td>0.0</td>\n",
       "      <td>0.0</td>\n",
       "      <td>0.0</td>\n",
       "      <td>0.0</td>\n",
       "      <td>0.0</td>\n",
       "      <td>0.0</td>\n",
       "      <td>0.0</td>\n",
       "      <td>0.0</td>\n",
       "      <td>0.0</td>\n",
       "      <td>...</td>\n",
       "      <td>-1.1349</td>\n",
       "      <td>-1.0401</td>\n",
       "      <td>-0.3034</td>\n",
       "      <td>2.0547</td>\n",
       "      <td>2.0550</td>\n",
       "      <td>0.5321</td>\n",
       "      <td>0.5322</td>\n",
       "      <td>0.3721</td>\n",
       "      <td>0.3723</td>\n",
       "      <td>0.0</td>\n",
       "    </tr>\n",
       "    <tr>\n",
       "      <th>3</th>\n",
       "      <td>0.0</td>\n",
       "      <td>0.0</td>\n",
       "      <td>0.0</td>\n",
       "      <td>0.0</td>\n",
       "      <td>0.0</td>\n",
       "      <td>0.0</td>\n",
       "      <td>0.0</td>\n",
       "      <td>0.0</td>\n",
       "      <td>0.0</td>\n",
       "      <td>0.0</td>\n",
       "      <td>...</td>\n",
       "      <td>0.4219</td>\n",
       "      <td>-0.0789</td>\n",
       "      <td>-0.3034</td>\n",
       "      <td>-0.5034</td>\n",
       "      <td>-0.5039</td>\n",
       "      <td>-1.6758</td>\n",
       "      <td>-1.6761</td>\n",
       "      <td>0.3600</td>\n",
       "      <td>0.3589</td>\n",
       "      <td>0.0</td>\n",
       "    </tr>\n",
       "    <tr>\n",
       "      <th>4</th>\n",
       "      <td>0.0</td>\n",
       "      <td>0.0</td>\n",
       "      <td>0.0</td>\n",
       "      <td>0.0</td>\n",
       "      <td>0.0</td>\n",
       "      <td>0.0</td>\n",
       "      <td>0.0</td>\n",
       "      <td>0.0</td>\n",
       "      <td>0.0</td>\n",
       "      <td>0.0</td>\n",
       "      <td>...</td>\n",
       "      <td>-0.0125</td>\n",
       "      <td>-0.3838</td>\n",
       "      <td>3.4065</td>\n",
       "      <td>0.4983</td>\n",
       "      <td>0.4978</td>\n",
       "      <td>-0.7313</td>\n",
       "      <td>-0.7324</td>\n",
       "      <td>-0.1566</td>\n",
       "      <td>-0.1548</td>\n",
       "      <td>0.0</td>\n",
       "    </tr>\n",
       "  </tbody>\n",
       "</table>\n",
       "<p>5 rows × 70 columns</p>\n",
       "</div>"
      ],
      "text/plain": [
       "     0    1    2    3    4    5    6    7    8    9  ...      60      61  \\\n",
       "0  0.0  0.0  0.0  0.0  0.0  0.0  0.0  0.0  0.0  1.0  ... -1.1349  0.6793   \n",
       "1  0.0  0.0  0.0  0.0  0.0  0.0  0.0  0.0  0.0  0.0  ...  0.4219  0.5944   \n",
       "2  0.0  0.0  0.0  0.0  0.0  0.0  0.0  0.0  0.0  0.0  ... -1.1349 -1.0401   \n",
       "3  0.0  0.0  0.0  0.0  0.0  0.0  0.0  0.0  0.0  0.0  ...  0.4219 -0.0789   \n",
       "4  0.0  0.0  0.0  0.0  0.0  0.0  0.0  0.0  0.0  0.0  ... -0.0125 -0.3838   \n",
       "\n",
       "       62      63      64      65      66      67      68  churn  \n",
       "0 -1.5019 -1.6145 -1.6147  0.2854  0.2844 -0.4802 -0.4809    0.0  \n",
       "1 -0.3034 -0.3902 -0.3904 -0.5929 -0.5932 -1.1938 -1.1956    0.0  \n",
       "2 -0.3034  2.0547  2.0550  0.5321  0.5322  0.3721  0.3723    0.0  \n",
       "3 -0.3034 -0.5034 -0.5039 -1.6758 -1.6761  0.3600  0.3589    0.0  \n",
       "4  3.4065  0.4983  0.4978 -0.7313 -0.7324 -0.1566 -0.1548    0.0  \n",
       "\n",
       "[5 rows x 70 columns]"
      ]
     },
     "execution_count": 46,
     "metadata": {},
     "output_type": "execute_result"
    }
   ],
   "source": [
    "te = pd.DataFrame(te)   # array to df\n",
    "te.rename(columns={69:'churn'}, inplace=True)\n",
    "te.head()"
   ]
  },
  {
   "cell_type": "code",
   "execution_count": 47,
   "id": "f2b0762b-d712-4821-8401-24383569a380",
   "metadata": {
    "tags": []
   },
   "outputs": [
    {
     "data": {
      "text/plain": [
       "(100, 70)"
      ]
     },
     "execution_count": 47,
     "metadata": {},
     "output_type": "execute_result"
    }
   ],
   "source": [
    "te.shape"
   ]
  },
  {
   "cell_type": "code",
   "execution_count": 48,
   "id": "46fae041-45f2-470d-9839-06bcec7cb021",
   "metadata": {
    "tags": []
   },
   "outputs": [
    {
     "name": "stdout",
     "output_type": "stream",
     "text": [
      "Test dataset saved successfully in CSV and PKL files ...\n"
     ]
    }
   ],
   "source": [
    "te.to_csv('cc_test_fe.csv', index=False)\n",
    "te.to_pickle('cc_test_fe.pkl')\n",
    "\n",
    "print('Test dataset saved successfully in CSV and PKL files ...')"
   ]
  },
  {
   "cell_type": "code",
   "execution_count": null,
   "id": "1315a121-1521-4abf-a9d2-d833aad0240a",
   "metadata": {},
   "outputs": [],
   "source": []
  }
 ],
 "metadata": {
  "kernelspec": {
   "display_name": "Python 3 (ipykernel)",
   "language": "python",
   "name": "python3"
  },
  "language_info": {
   "codemirror_mode": {
    "name": "ipython",
    "version": 3
   },
   "file_extension": ".py",
   "mimetype": "text/x-python",
   "name": "python",
   "nbconvert_exporter": "python",
   "pygments_lexer": "ipython3",
   "version": "3.10.10"
  }
 },
 "nbformat": 4,
 "nbformat_minor": 5
}
