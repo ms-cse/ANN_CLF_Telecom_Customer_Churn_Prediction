{
 "cells": [
  {
   "cell_type": "markdown",
   "id": "38a4ff0d-93a7-4d10-8806-11e6eae345c2",
   "metadata": {
    "toc-hr-collapsed": true
   },
   "source": [
    "# DATA ASSESSMENT PROCESS and PRE-PROCESSING - {\"CUSTOMER CHURN\" DATASET}"
   ]
  },
  {
   "cell_type": "markdown",
   "id": "2e3dfa24-0c75-41ac-8134-3bce0a334e74",
   "metadata": {
    "toc-hr-collapsed": true
   },
   "source": [
    "# A. DATA ASSESSMENT PROCESS"
   ]
  },
  {
   "cell_type": "markdown",
   "id": "29afbdee-2c91-4cca-8485-6159b9a0fad8",
   "metadata": {
    "tags": [],
    "toc-hr-collapsed": true
   },
   "source": [
    "## 1. DATASET SUMMARY\n",
    "### - It is a 'Customer Churn' dataset that provides the information about various features to predict the churn of customer.\n",
    "### - There are 4250 observations and 20 features in the dataset.\n",
    "### - Total 'float' type features are 8, 'integer' type features are 7, and 'object' type features are 5.\n",
    "#### - float type : ['total_day_minutes', 'total_day_charge', 'total_eve_minutes', 'total_eve_charge', 'total_night_minutes', 'total_night_charge', 'total_intl_minutes', 'total_intl_charge']\n",
    "#### - int type : ['account_length', 'number_vmail_messages', 'total_day_calls', 'total_eve_calls', 'total_night_calls', 'total_intl_calls', 'number_customer_service_calls']\n",
    "#### - object type : ['state', 'area_code', 'international_plan', 'voice_mail_plan', 'churn']\n",
    "### - For machine learning applications 'churn' feature is the target variable (dependent) and the other 19 features are input (independent)."
   ]
  },
  {
   "cell_type": "markdown",
   "id": "059625a8-dc64-4f4f-a4e4-5f2272bef643",
   "metadata": {
    "tags": [],
    "toc-hr-collapsed": true
   },
   "source": [
    "## 2. FEATURE DESCRIPTIONS\n",
    "### Table - 'cc' using 'cc_train.csv'\n",
    "### * Independent Features\n",
    "#### - **'state'** {object} : ***2-letter code of the US state of customer residence.***\n",
    "#### - **'account_length'** {integer} : ***Number of months the customer has been with the current telco provider.***\n",
    "#### - **'area_code'** {object} : ***\"area_code_AAA\" where AAA = 3 digit area code.***\n",
    "#### - **'international_plan'** {object} : ***The customer has international plan.***\n",
    "#### - **'voice_mail_plan'** {object} : ***The customer has voice mail plan.***\n",
    "#### - **'number_vmail_messages'** {integer} : ***Number of voice-mail messages.***\n",
    "#### - **'total_day_minutes'** {float} : ***Total minutes of day calls.***\n",
    "#### - **'total_day_calls'** {integer} : ***Total number of day calls.***\n",
    "#### - **'total_day_charge'** {float} : ***Total charge of day calls.***\n",
    "#### - **'total_eve_minutes'** {float} : ***Total minutes of evening calls.***\n",
    "#### - **'total_eve_calls'** {integer} : ***Total number of evening calls.***\n",
    "#### - **'total_eve_charge'** {float} : ***Total charge of evening calls.***\n",
    "#### - **'total_night_minutes'** {float} : ***Total minutes of night calls.***\n",
    "#### - **'total_night_calls'** {integer} : ***Total number of night calls.***\n",
    "#### - **'total_night_charge'** {float} : ***Total charge of night calls.***\n",
    "#### - **'total_intl_minutes'** {float} : ***Total minutes of international calls.***\n",
    "#### - **'total_intl_calls'** {integer} : ***Total number of international calls.***\n",
    "#### - **'total_intl_charge'** {float} : ***Total charge of international calls.***\n",
    "#### - **'number_customer_service_calls'** {integer} : ***Number of calls to customer service.***\n",
    "\n",
    "### * Dependent Feature\n",
    "#### - **'churn'** {object} : ***Customer churn.***\n",
    "##### This feature is the target variable for Machine Learning Based Classification Type Problems."
   ]
  },
  {
   "cell_type": "markdown",
   "id": "bd4b9e42-dbc6-434b-8aba-aa6a74be9a04",
   "metadata": {
    "toc-hr-collapsed": true
   },
   "source": [
    "## 3. DATA ISSUES\n",
    "### Table - cc\n",
    "#### 1. * Dirty Data (Low quality)\n",
    "##### A. Completeness\n",
    "##### - No incompleteness issue\n",
    "##### B. Validity\n",
    "##### - No validity issue.\n",
    "##### C. Accuracy\n",
    "##### - No inaccuracy issue\n",
    "##### D. Consistency\n",
    "##### - No inconsistency issue\n",
    "\n",
    "#### 2. * Messy Data (Untidy / Structural)\n",
    "##### - No messy data issue"
   ]
  },
  {
   "cell_type": "markdown",
   "id": "b7b20375-f267-4c85-9709-8df1799b58a7",
   "metadata": {
    "tags": [],
    "toc-hr-collapsed": true
   },
   "source": [
    "# B. PRE-PROCESSING / DATA CLEANING"
   ]
  },
  {
   "cell_type": "markdown",
   "id": "2c516c8d-7826-4705-89a4-7468b0147f16",
   "metadata": {
    "toc-hr-collapsed": true
   },
   "source": [
    "## 1. BASIC DATA PRE-PROCESSING APPLIED\n",
    "### - Splitting the pre-processed dataframe into Train, Validation, and Test datasets.\n",
    "### - Finally saving the Train, Validation, and Test datasets into CSV and PKL files for further analysis."
   ]
  },
  {
   "cell_type": "markdown",
   "id": "5b06435c-1d98-4680-8f84-2fa744877ada",
   "metadata": {},
   "source": [
    "## 2. SAVING RESULTS TO CSV AND PKL FILES \n",
    "### - Splitting the pre-processed dataframe into Train, Validation, and Test datasets, ***successful***.\n",
    "### - Pre-Processed Train, Validation, and Test datasets stored in CSV and PKL files, ***successful***.\n",
    "#### . Train ('cc_train_pp.csv','cc_train_pp.pkl')\n",
    "#### . Validation ('cc_valid_pp.csv','cc_valid_pp.pkl')\n",
    "#### . Test ('cc_test_pp.csv','cc_test_pp.pkl')"
   ]
  },
  {
   "cell_type": "code",
   "execution_count": null,
   "id": "b76f842a-9890-43b4-994c-4c1d51eb05a7",
   "metadata": {},
   "outputs": [],
   "source": []
  }
 ],
 "metadata": {
  "kernelspec": {
   "display_name": "Python 3 (ipykernel)",
   "language": "python",
   "name": "python3"
  },
  "language_info": {
   "codemirror_mode": {
    "name": "ipython",
    "version": 3
   },
   "file_extension": ".py",
   "mimetype": "text/x-python",
   "name": "python",
   "nbconvert_exporter": "python",
   "pygments_lexer": "ipython3",
   "version": "3.12.8"
  }
 },
 "nbformat": 4,
 "nbformat_minor": 5
}
