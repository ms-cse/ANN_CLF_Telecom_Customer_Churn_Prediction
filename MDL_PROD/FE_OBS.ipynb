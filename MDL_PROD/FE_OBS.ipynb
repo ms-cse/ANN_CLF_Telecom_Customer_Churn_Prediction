{
 "cells": [
  {
   "cell_type": "markdown",
   "id": "38a4ff0d-93a7-4d10-8806-11e6eae345c2",
   "metadata": {},
   "source": [
    "# FEATURE ENGINEERING OBSERVATIONS - {\"CUSTOMER CHURN\" DATASET}"
   ]
  },
  {
   "cell_type": "markdown",
   "id": "4356391f-028f-4d8a-b496-c4a7dd812f17",
   "metadata": {},
   "source": [
    "## A. Observations"
   ]
  },
  {
   "cell_type": "markdown",
   "id": "cd90a69e-7c3d-4fa9-ab66-c9e787535f9e",
   "metadata": {},
   "source": [
    "#### 1. Target feature \"churn\" should be remapped as 0 for (NO) and 1 for (Yes) labels.\n",
    "#### 2. Handle outliers in numerical data features, which ranges (0-8)%.\n",
    "#### 3. Perform feature transformation to reduce the skew and make data normal (or Gaussian) like.\n",
    "#### 4. Apply feature scaling techniques to bring the data in the suitable ranges.\n",
    "#### 5. Treat categorical data with appropriate encoding schemes.\n",
    "#### 6. Apply data balancing techniques to make data balanced.\n",
    "#### 7. Perform feature selection to get the best features for model performance. "
   ]
  },
  {
   "cell_type": "markdown",
   "id": "b4ed16b9-9a24-4f5f-9034-9247e89eb97a",
   "metadata": {},
   "source": [
    "## B. Steps of Feature Engineering"
   ]
  },
  {
   "cell_type": "markdown",
   "id": "16a37b60-3be6-4f43-abb0-c49cd8aab0c1",
   "metadata": {},
   "source": [
    "#### 1. Labelling of target feature 'No' as 0 and 'Yes' as 1, for Train and Test dataset.\n",
    "#### 2. Handling outliers in train dataset numerical features using \"capping\" technique.\n",
    "#### 3. Out of various feature transformation techniques, \"Yeo-Johnson\" power transformation technique is applied to the numerical features to make them Gaussian like.\n",
    "#### 4. \"StandardScaler\" feature scaling technique is applied to the numerical features.\n",
    "#### 5. Applying \"OneHotEncoder\" technique to treat the nominal data of the categorical features.\n",
    "#### 6. For balancing the dataset, \"SMOTE\" technique is applied to the train dataset only.\n",
    "#### 7. Feature selection is applied using \"mutaul_info_classif\" with \"SelectKbest\" to get the best features for model building and performance."
   ]
  },
  {
   "cell_type": "markdown",
   "id": "5a8b3eed-cc95-4224-a772-5705478bbb74",
   "metadata": {},
   "source": [
    "#### - FE Steps on Train dataset : ***all steps.***\n",
    "#### - FE Steps on Test dataset : ***all steps, except 2nd and 5th steps.***"
   ]
  },
  {
   "cell_type": "markdown",
   "id": "3d938dff-c558-49f8-af0c-9ba544f66505",
   "metadata": {},
   "source": [
    "## C. Saving the feature engineered train and test datasets into CSV and PKL files\n",
    "#### - Train ('cc_train_fe.csv','cc_train_fe_pkl')\n",
    "#### - Test ('cc_test_fe.csv','cc_test_fe_pkl')"
   ]
  },
  {
   "cell_type": "code",
   "execution_count": null,
   "id": "b57f9751-2038-455a-adb3-2eec062888b1",
   "metadata": {},
   "outputs": [],
   "source": []
  }
 ],
 "metadata": {
  "kernelspec": {
   "display_name": "Python 3 (ipykernel)",
   "language": "python",
   "name": "python3"
  },
  "language_info": {
   "codemirror_mode": {
    "name": "ipython",
    "version": 3
   },
   "file_extension": ".py",
   "mimetype": "text/x-python",
   "name": "python",
   "nbconvert_exporter": "python",
   "pygments_lexer": "ipython3",
   "version": "3.10.10"
  }
 },
 "nbformat": 4,
 "nbformat_minor": 5
}
