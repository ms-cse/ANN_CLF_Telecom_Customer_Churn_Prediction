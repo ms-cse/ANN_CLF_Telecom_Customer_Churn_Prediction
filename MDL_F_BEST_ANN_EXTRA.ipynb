{
 "cells": [
  {
   "cell_type": "markdown",
   "id": "f6079c98-4e48-499e-894f-c50109507c87",
   "metadata": {},
   "source": [
    "# ANN CLASSIFICATION - {\"CUSTOMER CHURN\" DATASET}"
   ]
  },
  {
   "cell_type": "markdown",
   "id": "a6709c06-804a-47d1-b0df-5aee8b18f5a3",
   "metadata": {},
   "source": [
    "## 1. Importing Modules and Setting Configurations"
   ]
  },
  {
   "cell_type": "code",
   "execution_count": 1,
   "id": "f618bbd8-512b-4523-aeea-c1e6132fe931",
   "metadata": {
    "tags": []
   },
   "outputs": [],
   "source": [
    "import numpy as np\n",
    "import tensorflow as tf\n",
    "import random as rn"
   ]
  },
  {
   "cell_type": "code",
   "execution_count": 2,
   "id": "5cc36f2d-4006-4926-b9ee-482c3b4b935b",
   "metadata": {
    "tags": []
   },
   "outputs": [
    {
     "name": "stdout",
     "output_type": "stream",
     "text": [
      "WARNING:tensorflow:From C:\\Users\\MANISHARMA\\AppData\\Local\\Temp\\ipykernel_9772\\1520644383.py:15: The name tf.keras.backend.set_session is deprecated. Please use tf.compat.v1.keras.backend.set_session instead.\n",
      "\n"
     ]
    }
   ],
   "source": [
    "import os\n",
    "os.environ['PYTHONHASHSEED'] = '0'\n",
    "rn.seed(1254)\n",
    "np.random.seed(37)\n",
    "tf.random.set_seed(89)\n",
    "\n",
    "# from keras import backend as K\n",
    "# session_conf = tf.ConfigProto(intra_op_parallelism_threads=1, inter_op_parallelism_threads=1)\n",
    "# sess = tf.Session(graph = tf.get_default_graph(), config=session_conf)\n",
    "# K.set_session(sess)\n",
    "\n",
    "tf.compat.v1.set_random_seed(12)\n",
    "session_conf = tf.compat.v1.ConfigProto(intra_op_parallelism_threads=1, inter_op_parallelism_threads=1)\n",
    "sess = tf.compat.v1.Session(graph=tf.compat.v1.get_default_graph(), config=session_conf)\n",
    "tf.compat.v1.keras.backend.set_session(sess)\n",
    "\n",
    "# tf.keras.utils.set_random_seed(1)\n",
    "# tf.config.experimental.enable_op_determinism()"
   ]
  },
  {
   "cell_type": "code",
   "execution_count": 3,
   "id": "36db63e5-2d56-407a-b8c0-22812c099423",
   "metadata": {
    "tags": []
   },
   "outputs": [],
   "source": [
    "import pandas as pd\n",
    "\n",
    "import matplotlib.pyplot as plt\n",
    "import seaborn as sb\n",
    "\n",
    "import tensorflow\n",
    "from tensorflow import keras\n",
    "from tensorflow.keras import Sequential\n",
    "from keras.layers import Dense, Dropout\n",
    "\n",
    "import keras_tuner as kt\n",
    "from sklearn.metrics import accuracy_score, classification_report, confusion_matrix\n",
    "\n",
    "from pickle import dump, load\n",
    "\n",
    "import warnings\n",
    "warnings.filterwarnings('ignore')\n",
    "\n",
    "from sklearn import set_config\n",
    "set_config(display='diagram')"
   ]
  },
  {
   "cell_type": "code",
   "execution_count": 4,
   "id": "4b8cd288-5945-4063-9e00-9fbaeafdef8e",
   "metadata": {
    "tags": []
   },
   "outputs": [],
   "source": [
    "# PD Options\n",
    "\n",
    "pd.set_option('display.min_rows', 5)\n",
    "pd.set_option('display.max_rows', 25)\n",
    "pd.set_option('display.precision', 4)"
   ]
  },
  {
   "cell_type": "code",
   "execution_count": 5,
   "id": "858f3ead-7968-409b-8b3e-f62c9658ccd6",
   "metadata": {
    "tags": []
   },
   "outputs": [],
   "source": [
    "# SB Options\n",
    "\n",
    "sb.set_theme(context='notebook', style='whitegrid', palette='pastel', font='times new roman', font_scale=1.25)"
   ]
  },
  {
   "cell_type": "markdown",
   "id": "5b60c742-f76a-4463-aff4-81be0075736f",
   "metadata": {},
   "source": [
    "## 2. Importing Dataset"
   ]
  },
  {
   "cell_type": "markdown",
   "id": "8ee88fa6-6c43-4cf4-8606-c720aa6d03fe",
   "metadata": {},
   "source": [
    "### 2.1 Train Dataset"
   ]
  },
  {
   "cell_type": "code",
   "execution_count": 6,
   "id": "7477acaa-833f-45c3-beeb-7a05904d1459",
   "metadata": {
    "tags": []
   },
   "outputs": [
    {
     "name": "stdout",
     "output_type": "stream",
     "text": [
      "Shape of the train dataset : (6960, 70)\n"
     ]
    },
    {
     "data": {
      "text/html": [
       "<div>\n",
       "<style scoped>\n",
       "    .dataframe tbody tr th:only-of-type {\n",
       "        vertical-align: middle;\n",
       "    }\n",
       "\n",
       "    .dataframe tbody tr th {\n",
       "        vertical-align: top;\n",
       "    }\n",
       "\n",
       "    .dataframe thead th {\n",
       "        text-align: right;\n",
       "    }\n",
       "</style>\n",
       "<table border=\"1\" class=\"dataframe\">\n",
       "  <thead>\n",
       "    <tr style=\"text-align: right;\">\n",
       "      <th></th>\n",
       "      <th>0</th>\n",
       "      <th>1</th>\n",
       "      <th>2</th>\n",
       "      <th>3</th>\n",
       "      <th>4</th>\n",
       "      <th>5</th>\n",
       "      <th>6</th>\n",
       "      <th>7</th>\n",
       "      <th>8</th>\n",
       "      <th>9</th>\n",
       "      <th>...</th>\n",
       "      <th>60</th>\n",
       "      <th>61</th>\n",
       "      <th>62</th>\n",
       "      <th>63</th>\n",
       "      <th>64</th>\n",
       "      <th>65</th>\n",
       "      <th>66</th>\n",
       "      <th>67</th>\n",
       "      <th>68</th>\n",
       "      <th>churn</th>\n",
       "    </tr>\n",
       "  </thead>\n",
       "  <tbody>\n",
       "    <tr>\n",
       "      <th>0</th>\n",
       "      <td>0.0</td>\n",
       "      <td>0.0</td>\n",
       "      <td>0.0</td>\n",
       "      <td>0.0</td>\n",
       "      <td>0.0</td>\n",
       "      <td>0.0</td>\n",
       "      <td>0.0</td>\n",
       "      <td>0.0</td>\n",
       "      <td>0.0</td>\n",
       "      <td>0.0</td>\n",
       "      <td>...</td>\n",
       "      <td>1.1465</td>\n",
       "      <td>0.1024</td>\n",
       "      <td>-0.3034</td>\n",
       "      <td>-0.0452</td>\n",
       "      <td>-0.0456</td>\n",
       "      <td>-0.9278</td>\n",
       "      <td>-0.9282</td>\n",
       "      <td>1.0174</td>\n",
       "      <td>1.0155</td>\n",
       "      <td>0</td>\n",
       "    </tr>\n",
       "    <tr>\n",
       "      <th>1</th>\n",
       "      <td>0.0</td>\n",
       "      <td>0.0</td>\n",
       "      <td>0.0</td>\n",
       "      <td>0.0</td>\n",
       "      <td>0.0</td>\n",
       "      <td>0.0</td>\n",
       "      <td>0.0</td>\n",
       "      <td>0.0</td>\n",
       "      <td>0.0</td>\n",
       "      <td>0.0</td>\n",
       "      <td>...</td>\n",
       "      <td>-1.1349</td>\n",
       "      <td>1.2493</td>\n",
       "      <td>-1.5019</td>\n",
       "      <td>0.7618</td>\n",
       "      <td>0.7619</td>\n",
       "      <td>0.9893</td>\n",
       "      <td>0.9899</td>\n",
       "      <td>-0.1726</td>\n",
       "      <td>-0.1727</td>\n",
       "      <td>0</td>\n",
       "    </tr>\n",
       "    <tr>\n",
       "      <th>2</th>\n",
       "      <td>0.0</td>\n",
       "      <td>0.0</td>\n",
       "      <td>0.0</td>\n",
       "      <td>0.0</td>\n",
       "      <td>0.0</td>\n",
       "      <td>0.0</td>\n",
       "      <td>0.0</td>\n",
       "      <td>0.0</td>\n",
       "      <td>0.0</td>\n",
       "      <td>0.0</td>\n",
       "      <td>...</td>\n",
       "      <td>-0.5194</td>\n",
       "      <td>-1.4436</td>\n",
       "      <td>-0.3034</td>\n",
       "      <td>-1.1638</td>\n",
       "      <td>-1.1640</td>\n",
       "      <td>-0.0775</td>\n",
       "      <td>-0.0765</td>\n",
       "      <td>-0.8682</td>\n",
       "      <td>-0.8695</td>\n",
       "      <td>0</td>\n",
       "    </tr>\n",
       "    <tr>\n",
       "      <th>3</th>\n",
       "      <td>0.0</td>\n",
       "      <td>0.0</td>\n",
       "      <td>0.0</td>\n",
       "      <td>0.0</td>\n",
       "      <td>0.0</td>\n",
       "      <td>0.0</td>\n",
       "      <td>0.0</td>\n",
       "      <td>1.0</td>\n",
       "      <td>0.0</td>\n",
       "      <td>0.0</td>\n",
       "      <td>...</td>\n",
       "      <td>0.4219</td>\n",
       "      <td>-0.9316</td>\n",
       "      <td>-0.3034</td>\n",
       "      <td>1.3034</td>\n",
       "      <td>1.3031</td>\n",
       "      <td>-0.2460</td>\n",
       "      <td>-0.2464</td>\n",
       "      <td>-1.6139</td>\n",
       "      <td>-1.6154</td>\n",
       "      <td>0</td>\n",
       "    </tr>\n",
       "    <tr>\n",
       "      <th>4</th>\n",
       "      <td>0.0</td>\n",
       "      <td>0.0</td>\n",
       "      <td>0.0</td>\n",
       "      <td>0.0</td>\n",
       "      <td>0.0</td>\n",
       "      <td>0.0</td>\n",
       "      <td>0.0</td>\n",
       "      <td>0.0</td>\n",
       "      <td>0.0</td>\n",
       "      <td>0.0</td>\n",
       "      <td>...</td>\n",
       "      <td>-0.5194</td>\n",
       "      <td>1.3354</td>\n",
       "      <td>-0.3034</td>\n",
       "      <td>0.8415</td>\n",
       "      <td>0.8416</td>\n",
       "      <td>0.1350</td>\n",
       "      <td>0.1358</td>\n",
       "      <td>-0.6571</td>\n",
       "      <td>-0.6551</td>\n",
       "      <td>0</td>\n",
       "    </tr>\n",
       "  </tbody>\n",
       "</table>\n",
       "<p>5 rows × 70 columns</p>\n",
       "</div>"
      ],
      "text/plain": [
       "     0    1    2    3    4    5    6    7    8    9  ...      60      61  \\\n",
       "0  0.0  0.0  0.0  0.0  0.0  0.0  0.0  0.0  0.0  0.0  ...  1.1465  0.1024   \n",
       "1  0.0  0.0  0.0  0.0  0.0  0.0  0.0  0.0  0.0  0.0  ... -1.1349  1.2493   \n",
       "2  0.0  0.0  0.0  0.0  0.0  0.0  0.0  0.0  0.0  0.0  ... -0.5194 -1.4436   \n",
       "3  0.0  0.0  0.0  0.0  0.0  0.0  0.0  1.0  0.0  0.0  ...  0.4219 -0.9316   \n",
       "4  0.0  0.0  0.0  0.0  0.0  0.0  0.0  0.0  0.0  0.0  ... -0.5194  1.3354   \n",
       "\n",
       "       62      63      64      65      66      67      68  churn  \n",
       "0 -0.3034 -0.0452 -0.0456 -0.9278 -0.9282  1.0174  1.0155      0  \n",
       "1 -1.5019  0.7618  0.7619  0.9893  0.9899 -0.1726 -0.1727      0  \n",
       "2 -0.3034 -1.1638 -1.1640 -0.0775 -0.0765 -0.8682 -0.8695      0  \n",
       "3 -0.3034  1.3034  1.3031 -0.2460 -0.2464 -1.6139 -1.6154      0  \n",
       "4 -0.3034  0.8415  0.8416  0.1350  0.1358 -0.6571 -0.6551      0  \n",
       "\n",
       "[5 rows x 70 columns]"
      ]
     },
     "execution_count": 6,
     "metadata": {},
     "output_type": "execute_result"
    }
   ],
   "source": [
    "tr = pd.read_pickle('cc_train_fe.pkl')\n",
    "\n",
    "\n",
    "print(f'Shape of the train dataset : {tr.shape}')\n",
    "tr.head(5)"
   ]
  },
  {
   "cell_type": "code",
   "execution_count": 7,
   "id": "351be28c-936c-4c64-9461-e3c0da5e77c7",
   "metadata": {
    "tags": []
   },
   "outputs": [],
   "source": [
    "Xtr = tr.drop(columns='churn')\n",
    "ytr = tr['churn']"
   ]
  },
  {
   "cell_type": "code",
   "execution_count": 8,
   "id": "4b5a9856-f949-4790-a769-97d979ef0f40",
   "metadata": {
    "tags": []
   },
   "outputs": [],
   "source": [
    "#Xtr = tensorflow.convert_to_tensor(Xtr, dtype = tensorflow.float32)"
   ]
  },
  {
   "cell_type": "code",
   "execution_count": 9,
   "id": "00a33ccf-a0c7-4948-82a3-d660032ecb7d",
   "metadata": {
    "tags": []
   },
   "outputs": [
    {
     "data": {
      "text/html": [
       "<div>\n",
       "<style scoped>\n",
       "    .dataframe tbody tr th:only-of-type {\n",
       "        vertical-align: middle;\n",
       "    }\n",
       "\n",
       "    .dataframe tbody tr th {\n",
       "        vertical-align: top;\n",
       "    }\n",
       "\n",
       "    .dataframe thead th {\n",
       "        text-align: right;\n",
       "    }\n",
       "</style>\n",
       "<table border=\"1\" class=\"dataframe\">\n",
       "  <thead>\n",
       "    <tr style=\"text-align: right;\">\n",
       "      <th></th>\n",
       "      <th>0</th>\n",
       "      <th>1</th>\n",
       "      <th>2</th>\n",
       "      <th>3</th>\n",
       "      <th>4</th>\n",
       "      <th>5</th>\n",
       "      <th>6</th>\n",
       "      <th>7</th>\n",
       "      <th>8</th>\n",
       "      <th>9</th>\n",
       "      <th>...</th>\n",
       "      <th>59</th>\n",
       "      <th>60</th>\n",
       "      <th>61</th>\n",
       "      <th>62</th>\n",
       "      <th>63</th>\n",
       "      <th>64</th>\n",
       "      <th>65</th>\n",
       "      <th>66</th>\n",
       "      <th>67</th>\n",
       "      <th>68</th>\n",
       "    </tr>\n",
       "  </thead>\n",
       "  <tbody>\n",
       "    <tr>\n",
       "      <th>0</th>\n",
       "      <td>0.0</td>\n",
       "      <td>0.0</td>\n",
       "      <td>0.0</td>\n",
       "      <td>0.0</td>\n",
       "      <td>0.0</td>\n",
       "      <td>0.0</td>\n",
       "      <td>0.0</td>\n",
       "      <td>0.0</td>\n",
       "      <td>0.0</td>\n",
       "      <td>0.0</td>\n",
       "      <td>...</td>\n",
       "      <td>0.1066</td>\n",
       "      <td>1.1465</td>\n",
       "      <td>0.1024</td>\n",
       "      <td>-0.3034</td>\n",
       "      <td>-0.0452</td>\n",
       "      <td>-0.0456</td>\n",
       "      <td>-0.9278</td>\n",
       "      <td>-0.9282</td>\n",
       "      <td>1.0174</td>\n",
       "      <td>1.0155</td>\n",
       "    </tr>\n",
       "    <tr>\n",
       "      <th>1</th>\n",
       "      <td>0.0</td>\n",
       "      <td>0.0</td>\n",
       "      <td>0.0</td>\n",
       "      <td>0.0</td>\n",
       "      <td>0.0</td>\n",
       "      <td>0.0</td>\n",
       "      <td>0.0</td>\n",
       "      <td>0.0</td>\n",
       "      <td>0.0</td>\n",
       "      <td>0.0</td>\n",
       "      <td>...</td>\n",
       "      <td>1.2521</td>\n",
       "      <td>-1.1349</td>\n",
       "      <td>1.2493</td>\n",
       "      <td>-1.5019</td>\n",
       "      <td>0.7618</td>\n",
       "      <td>0.7619</td>\n",
       "      <td>0.9893</td>\n",
       "      <td>0.9899</td>\n",
       "      <td>-0.1726</td>\n",
       "      <td>-0.1727</td>\n",
       "    </tr>\n",
       "    <tr>\n",
       "      <th>...</th>\n",
       "      <td>...</td>\n",
       "      <td>...</td>\n",
       "      <td>...</td>\n",
       "      <td>...</td>\n",
       "      <td>...</td>\n",
       "      <td>...</td>\n",
       "      <td>...</td>\n",
       "      <td>...</td>\n",
       "      <td>...</td>\n",
       "      <td>...</td>\n",
       "      <td>...</td>\n",
       "      <td>...</td>\n",
       "      <td>...</td>\n",
       "      <td>...</td>\n",
       "      <td>...</td>\n",
       "      <td>...</td>\n",
       "      <td>...</td>\n",
       "      <td>...</td>\n",
       "      <td>...</td>\n",
       "      <td>...</td>\n",
       "      <td>...</td>\n",
       "    </tr>\n",
       "    <tr>\n",
       "      <th>6958</th>\n",
       "      <td>0.0</td>\n",
       "      <td>0.0</td>\n",
       "      <td>0.0</td>\n",
       "      <td>0.0</td>\n",
       "      <td>0.0</td>\n",
       "      <td>0.0</td>\n",
       "      <td>0.0</td>\n",
       "      <td>0.0</td>\n",
       "      <td>0.0</td>\n",
       "      <td>0.0</td>\n",
       "      <td>...</td>\n",
       "      <td>-0.0506</td>\n",
       "      <td>0.2410</td>\n",
       "      <td>-0.0559</td>\n",
       "      <td>-0.3034</td>\n",
       "      <td>-0.7597</td>\n",
       "      <td>-0.7597</td>\n",
       "      <td>2.0010</td>\n",
       "      <td>2.0006</td>\n",
       "      <td>0.0896</td>\n",
       "      <td>0.0912</td>\n",
       "    </tr>\n",
       "    <tr>\n",
       "      <th>6959</th>\n",
       "      <td>0.0</td>\n",
       "      <td>0.0</td>\n",
       "      <td>0.0</td>\n",
       "      <td>0.0</td>\n",
       "      <td>0.0</td>\n",
       "      <td>0.0</td>\n",
       "      <td>0.0</td>\n",
       "      <td>0.0</td>\n",
       "      <td>0.0</td>\n",
       "      <td>0.0</td>\n",
       "      <td>...</td>\n",
       "      <td>1.1839</td>\n",
       "      <td>1.6305</td>\n",
       "      <td>1.1904</td>\n",
       "      <td>-0.3034</td>\n",
       "      <td>0.2472</td>\n",
       "      <td>0.2476</td>\n",
       "      <td>-0.5089</td>\n",
       "      <td>-0.5081</td>\n",
       "      <td>0.0599</td>\n",
       "      <td>0.0599</td>\n",
       "    </tr>\n",
       "  </tbody>\n",
       "</table>\n",
       "<p>6960 rows × 69 columns</p>\n",
       "</div>"
      ],
      "text/plain": [
       "       0    1    2    3    4    5    6    7    8    9   ...      59      60  \\\n",
       "0     0.0  0.0  0.0  0.0  0.0  0.0  0.0  0.0  0.0  0.0  ...  0.1066  1.1465   \n",
       "1     0.0  0.0  0.0  0.0  0.0  0.0  0.0  0.0  0.0  0.0  ...  1.2521 -1.1349   \n",
       "...   ...  ...  ...  ...  ...  ...  ...  ...  ...  ...  ...     ...     ...   \n",
       "6958  0.0  0.0  0.0  0.0  0.0  0.0  0.0  0.0  0.0  0.0  ... -0.0506  0.2410   \n",
       "6959  0.0  0.0  0.0  0.0  0.0  0.0  0.0  0.0  0.0  0.0  ...  1.1839  1.6305   \n",
       "\n",
       "          61      62      63      64      65      66      67      68  \n",
       "0     0.1024 -0.3034 -0.0452 -0.0456 -0.9278 -0.9282  1.0174  1.0155  \n",
       "1     1.2493 -1.5019  0.7618  0.7619  0.9893  0.9899 -0.1726 -0.1727  \n",
       "...      ...     ...     ...     ...     ...     ...     ...     ...  \n",
       "6958 -0.0559 -0.3034 -0.7597 -0.7597  2.0010  2.0006  0.0896  0.0912  \n",
       "6959  1.1904 -0.3034  0.2472  0.2476 -0.5089 -0.5081  0.0599  0.0599  \n",
       "\n",
       "[6960 rows x 69 columns]"
      ]
     },
     "execution_count": 9,
     "metadata": {},
     "output_type": "execute_result"
    }
   ],
   "source": [
    "Xtr"
   ]
  },
  {
   "cell_type": "markdown",
   "id": "469a826a-8457-4967-ba18-72a8b765d887",
   "metadata": {},
   "source": [
    "### 2.2 Validation Dataset"
   ]
  },
  {
   "cell_type": "code",
   "execution_count": 10,
   "id": "9494bb0a-634d-4786-826f-d2bda125df96",
   "metadata": {
    "tags": []
   },
   "outputs": [
    {
     "name": "stdout",
     "output_type": "stream",
     "text": [
      "Shape of the train dataset : (100, 70)\n"
     ]
    },
    {
     "data": {
      "text/html": [
       "<div>\n",
       "<style scoped>\n",
       "    .dataframe tbody tr th:only-of-type {\n",
       "        vertical-align: middle;\n",
       "    }\n",
       "\n",
       "    .dataframe tbody tr th {\n",
       "        vertical-align: top;\n",
       "    }\n",
       "\n",
       "    .dataframe thead th {\n",
       "        text-align: right;\n",
       "    }\n",
       "</style>\n",
       "<table border=\"1\" class=\"dataframe\">\n",
       "  <thead>\n",
       "    <tr style=\"text-align: right;\">\n",
       "      <th></th>\n",
       "      <th>0</th>\n",
       "      <th>1</th>\n",
       "      <th>2</th>\n",
       "      <th>3</th>\n",
       "      <th>4</th>\n",
       "      <th>5</th>\n",
       "      <th>6</th>\n",
       "      <th>7</th>\n",
       "      <th>8</th>\n",
       "      <th>9</th>\n",
       "      <th>...</th>\n",
       "      <th>60</th>\n",
       "      <th>61</th>\n",
       "      <th>62</th>\n",
       "      <th>63</th>\n",
       "      <th>64</th>\n",
       "      <th>65</th>\n",
       "      <th>66</th>\n",
       "      <th>67</th>\n",
       "      <th>68</th>\n",
       "      <th>churn</th>\n",
       "    </tr>\n",
       "  </thead>\n",
       "  <tbody>\n",
       "    <tr>\n",
       "      <th>0</th>\n",
       "      <td>0.0</td>\n",
       "      <td>0.0</td>\n",
       "      <td>0.0</td>\n",
       "      <td>0.0</td>\n",
       "      <td>0.0</td>\n",
       "      <td>0.0</td>\n",
       "      <td>0.0</td>\n",
       "      <td>0.0</td>\n",
       "      <td>0.0</td>\n",
       "      <td>0.0</td>\n",
       "      <td>...</td>\n",
       "      <td>-0.0125</td>\n",
       "      <td>1.1777</td>\n",
       "      <td>-1.5019</td>\n",
       "      <td>-1.3307</td>\n",
       "      <td>-1.3310</td>\n",
       "      <td>0.1250</td>\n",
       "      <td>0.1240</td>\n",
       "      <td>-1.4933</td>\n",
       "      <td>-1.4948</td>\n",
       "      <td>0.0</td>\n",
       "    </tr>\n",
       "    <tr>\n",
       "      <th>1</th>\n",
       "      <td>0.0</td>\n",
       "      <td>0.0</td>\n",
       "      <td>0.0</td>\n",
       "      <td>0.0</td>\n",
       "      <td>0.0</td>\n",
       "      <td>0.0</td>\n",
       "      <td>0.0</td>\n",
       "      <td>0.0</td>\n",
       "      <td>0.0</td>\n",
       "      <td>0.0</td>\n",
       "      <td>...</td>\n",
       "      <td>0.4219</td>\n",
       "      <td>0.5662</td>\n",
       "      <td>-0.3034</td>\n",
       "      <td>-0.3513</td>\n",
       "      <td>-0.3511</td>\n",
       "      <td>-0.7333</td>\n",
       "      <td>-0.7324</td>\n",
       "      <td>-0.9526</td>\n",
       "      <td>-0.9544</td>\n",
       "      <td>0.0</td>\n",
       "    </tr>\n",
       "    <tr>\n",
       "      <th>2</th>\n",
       "      <td>0.0</td>\n",
       "      <td>0.0</td>\n",
       "      <td>0.0</td>\n",
       "      <td>0.0</td>\n",
       "      <td>0.0</td>\n",
       "      <td>0.0</td>\n",
       "      <td>0.0</td>\n",
       "      <td>0.0</td>\n",
       "      <td>0.0</td>\n",
       "      <td>0.0</td>\n",
       "      <td>...</td>\n",
       "      <td>-1.1349</td>\n",
       "      <td>-0.6725</td>\n",
       "      <td>-0.3034</td>\n",
       "      <td>-0.3884</td>\n",
       "      <td>-0.3882</td>\n",
       "      <td>0.1972</td>\n",
       "      <td>0.1972</td>\n",
       "      <td>-0.5666</td>\n",
       "      <td>-0.5658</td>\n",
       "      <td>0.0</td>\n",
       "    </tr>\n",
       "    <tr>\n",
       "      <th>3</th>\n",
       "      <td>0.0</td>\n",
       "      <td>0.0</td>\n",
       "      <td>1.0</td>\n",
       "      <td>0.0</td>\n",
       "      <td>0.0</td>\n",
       "      <td>0.0</td>\n",
       "      <td>0.0</td>\n",
       "      <td>0.0</td>\n",
       "      <td>0.0</td>\n",
       "      <td>0.0</td>\n",
       "      <td>...</td>\n",
       "      <td>-0.0125</td>\n",
       "      <td>0.0744</td>\n",
       "      <td>0.5730</td>\n",
       "      <td>0.7506</td>\n",
       "      <td>0.7510</td>\n",
       "      <td>-0.8817</td>\n",
       "      <td>-0.8811</td>\n",
       "      <td>-0.2551</td>\n",
       "      <td>-0.2531</td>\n",
       "      <td>0.0</td>\n",
       "    </tr>\n",
       "    <tr>\n",
       "      <th>4</th>\n",
       "      <td>0.0</td>\n",
       "      <td>0.0</td>\n",
       "      <td>0.0</td>\n",
       "      <td>0.0</td>\n",
       "      <td>0.0</td>\n",
       "      <td>0.0</td>\n",
       "      <td>0.0</td>\n",
       "      <td>0.0</td>\n",
       "      <td>0.0</td>\n",
       "      <td>0.0</td>\n",
       "      <td>...</td>\n",
       "      <td>-0.0125</td>\n",
       "      <td>0.4533</td>\n",
       "      <td>-0.3034</td>\n",
       "      <td>-0.0452</td>\n",
       "      <td>-0.0456</td>\n",
       "      <td>-0.5027</td>\n",
       "      <td>-0.5036</td>\n",
       "      <td>-0.7898</td>\n",
       "      <td>-0.7891</td>\n",
       "      <td>0.0</td>\n",
       "    </tr>\n",
       "  </tbody>\n",
       "</table>\n",
       "<p>5 rows × 70 columns</p>\n",
       "</div>"
      ],
      "text/plain": [
       "     0    1    2    3    4    5    6    7    8    9  ...      60      61  \\\n",
       "0  0.0  0.0  0.0  0.0  0.0  0.0  0.0  0.0  0.0  0.0  ... -0.0125  1.1777   \n",
       "1  0.0  0.0  0.0  0.0  0.0  0.0  0.0  0.0  0.0  0.0  ...  0.4219  0.5662   \n",
       "2  0.0  0.0  0.0  0.0  0.0  0.0  0.0  0.0  0.0  0.0  ... -1.1349 -0.6725   \n",
       "3  0.0  0.0  1.0  0.0  0.0  0.0  0.0  0.0  0.0  0.0  ... -0.0125  0.0744   \n",
       "4  0.0  0.0  0.0  0.0  0.0  0.0  0.0  0.0  0.0  0.0  ... -0.0125  0.4533   \n",
       "\n",
       "       62      63      64      65      66      67      68  churn  \n",
       "0 -1.5019 -1.3307 -1.3310  0.1250  0.1240 -1.4933 -1.4948    0.0  \n",
       "1 -0.3034 -0.3513 -0.3511 -0.7333 -0.7324 -0.9526 -0.9544    0.0  \n",
       "2 -0.3034 -0.3884 -0.3882  0.1972  0.1972 -0.5666 -0.5658    0.0  \n",
       "3  0.5730  0.7506  0.7510 -0.8817 -0.8811 -0.2551 -0.2531    0.0  \n",
       "4 -0.3034 -0.0452 -0.0456 -0.5027 -0.5036 -0.7898 -0.7891    0.0  \n",
       "\n",
       "[5 rows x 70 columns]"
      ]
     },
     "execution_count": 10,
     "metadata": {},
     "output_type": "execute_result"
    }
   ],
   "source": [
    "val = pd.read_pickle('cc_valid_fe.pkl')\n",
    "\n",
    "print(f'Shape of the train dataset : {val.shape}')\n",
    "val.head(5)"
   ]
  },
  {
   "cell_type": "code",
   "execution_count": 11,
   "id": "1ce91ae9-63cb-48a8-ad86-94c558549b98",
   "metadata": {
    "tags": []
   },
   "outputs": [],
   "source": [
    "Xval = val.drop(columns='churn')\n",
    "yval = val['churn']"
   ]
  },
  {
   "cell_type": "code",
   "execution_count": 12,
   "id": "1a98c4da-c25e-4a1d-9cb0-25897825fd33",
   "metadata": {
    "tags": []
   },
   "outputs": [],
   "source": [
    "#Xval = tensorflow.convert_to_tensor(Xval, dtype = tensorflow.float32)"
   ]
  },
  {
   "cell_type": "code",
   "execution_count": 13,
   "id": "419e0148-6f9b-481f-bb85-dd68093f18a4",
   "metadata": {
    "tags": []
   },
   "outputs": [
    {
     "data": {
      "text/html": [
       "<div>\n",
       "<style scoped>\n",
       "    .dataframe tbody tr th:only-of-type {\n",
       "        vertical-align: middle;\n",
       "    }\n",
       "\n",
       "    .dataframe tbody tr th {\n",
       "        vertical-align: top;\n",
       "    }\n",
       "\n",
       "    .dataframe thead th {\n",
       "        text-align: right;\n",
       "    }\n",
       "</style>\n",
       "<table border=\"1\" class=\"dataframe\">\n",
       "  <thead>\n",
       "    <tr style=\"text-align: right;\">\n",
       "      <th></th>\n",
       "      <th>0</th>\n",
       "      <th>1</th>\n",
       "      <th>2</th>\n",
       "      <th>3</th>\n",
       "      <th>4</th>\n",
       "      <th>5</th>\n",
       "      <th>6</th>\n",
       "      <th>7</th>\n",
       "      <th>8</th>\n",
       "      <th>9</th>\n",
       "      <th>...</th>\n",
       "      <th>59</th>\n",
       "      <th>60</th>\n",
       "      <th>61</th>\n",
       "      <th>62</th>\n",
       "      <th>63</th>\n",
       "      <th>64</th>\n",
       "      <th>65</th>\n",
       "      <th>66</th>\n",
       "      <th>67</th>\n",
       "      <th>68</th>\n",
       "    </tr>\n",
       "  </thead>\n",
       "  <tbody>\n",
       "    <tr>\n",
       "      <th>0</th>\n",
       "      <td>0.0</td>\n",
       "      <td>0.0</td>\n",
       "      <td>0.0</td>\n",
       "      <td>0.0</td>\n",
       "      <td>0.0</td>\n",
       "      <td>0.0</td>\n",
       "      <td>0.0</td>\n",
       "      <td>0.0</td>\n",
       "      <td>0.0</td>\n",
       "      <td>0.0</td>\n",
       "      <td>...</td>\n",
       "      <td>1.1749</td>\n",
       "      <td>-0.0125</td>\n",
       "      <td>1.1777</td>\n",
       "      <td>-1.5019</td>\n",
       "      <td>-1.3307</td>\n",
       "      <td>-1.3310</td>\n",
       "      <td>0.1250</td>\n",
       "      <td>0.1240</td>\n",
       "      <td>-1.4933</td>\n",
       "      <td>-1.4948</td>\n",
       "    </tr>\n",
       "    <tr>\n",
       "      <th>1</th>\n",
       "      <td>0.0</td>\n",
       "      <td>0.0</td>\n",
       "      <td>0.0</td>\n",
       "      <td>0.0</td>\n",
       "      <td>0.0</td>\n",
       "      <td>0.0</td>\n",
       "      <td>0.0</td>\n",
       "      <td>0.0</td>\n",
       "      <td>0.0</td>\n",
       "      <td>0.0</td>\n",
       "      <td>...</td>\n",
       "      <td>0.5616</td>\n",
       "      <td>0.4219</td>\n",
       "      <td>0.5662</td>\n",
       "      <td>-0.3034</td>\n",
       "      <td>-0.3513</td>\n",
       "      <td>-0.3511</td>\n",
       "      <td>-0.7333</td>\n",
       "      <td>-0.7324</td>\n",
       "      <td>-0.9526</td>\n",
       "      <td>-0.9544</td>\n",
       "    </tr>\n",
       "    <tr>\n",
       "      <th>...</th>\n",
       "      <td>...</td>\n",
       "      <td>...</td>\n",
       "      <td>...</td>\n",
       "      <td>...</td>\n",
       "      <td>...</td>\n",
       "      <td>...</td>\n",
       "      <td>...</td>\n",
       "      <td>...</td>\n",
       "      <td>...</td>\n",
       "      <td>...</td>\n",
       "      <td>...</td>\n",
       "      <td>...</td>\n",
       "      <td>...</td>\n",
       "      <td>...</td>\n",
       "      <td>...</td>\n",
       "      <td>...</td>\n",
       "      <td>...</td>\n",
       "      <td>...</td>\n",
       "      <td>...</td>\n",
       "      <td>...</td>\n",
       "      <td>...</td>\n",
       "    </tr>\n",
       "    <tr>\n",
       "      <th>98</th>\n",
       "      <td>0.0</td>\n",
       "      <td>0.0</td>\n",
       "      <td>0.0</td>\n",
       "      <td>0.0</td>\n",
       "      <td>0.0</td>\n",
       "      <td>0.0</td>\n",
       "      <td>0.0</td>\n",
       "      <td>0.0</td>\n",
       "      <td>0.0</td>\n",
       "      <td>0.0</td>\n",
       "      <td>...</td>\n",
       "      <td>-1.0826</td>\n",
       "      <td>-1.1349</td>\n",
       "      <td>-1.0807</td>\n",
       "      <td>-0.3034</td>\n",
       "      <td>0.5392</td>\n",
       "      <td>0.5393</td>\n",
       "      <td>2.9505</td>\n",
       "      <td>2.9505</td>\n",
       "      <td>0.9128</td>\n",
       "      <td>0.9127</td>\n",
       "    </tr>\n",
       "    <tr>\n",
       "      <th>99</th>\n",
       "      <td>0.0</td>\n",
       "      <td>0.0</td>\n",
       "      <td>0.0</td>\n",
       "      <td>0.0</td>\n",
       "      <td>0.0</td>\n",
       "      <td>0.0</td>\n",
       "      <td>0.0</td>\n",
       "      <td>0.0</td>\n",
       "      <td>1.0</td>\n",
       "      <td>0.0</td>\n",
       "      <td>...</td>\n",
       "      <td>-0.1568</td>\n",
       "      <td>0.8041</td>\n",
       "      <td>-0.1623</td>\n",
       "      <td>-1.5019</td>\n",
       "      <td>1.0103</td>\n",
       "      <td>1.0107</td>\n",
       "      <td>-1.8723</td>\n",
       "      <td>-1.8720</td>\n",
       "      <td>-0.4440</td>\n",
       "      <td>-0.4452</td>\n",
       "    </tr>\n",
       "  </tbody>\n",
       "</table>\n",
       "<p>100 rows × 69 columns</p>\n",
       "</div>"
      ],
      "text/plain": [
       "     0    1    2    3    4    5    6    7    8    9   ...      59      60  \\\n",
       "0   0.0  0.0  0.0  0.0  0.0  0.0  0.0  0.0  0.0  0.0  ...  1.1749 -0.0125   \n",
       "1   0.0  0.0  0.0  0.0  0.0  0.0  0.0  0.0  0.0  0.0  ...  0.5616  0.4219   \n",
       "..  ...  ...  ...  ...  ...  ...  ...  ...  ...  ...  ...     ...     ...   \n",
       "98  0.0  0.0  0.0  0.0  0.0  0.0  0.0  0.0  0.0  0.0  ... -1.0826 -1.1349   \n",
       "99  0.0  0.0  0.0  0.0  0.0  0.0  0.0  0.0  1.0  0.0  ... -0.1568  0.8041   \n",
       "\n",
       "        61      62      63      64      65      66      67      68  \n",
       "0   1.1777 -1.5019 -1.3307 -1.3310  0.1250  0.1240 -1.4933 -1.4948  \n",
       "1   0.5662 -0.3034 -0.3513 -0.3511 -0.7333 -0.7324 -0.9526 -0.9544  \n",
       "..     ...     ...     ...     ...     ...     ...     ...     ...  \n",
       "98 -1.0807 -0.3034  0.5392  0.5393  2.9505  2.9505  0.9128  0.9127  \n",
       "99 -0.1623 -1.5019  1.0103  1.0107 -1.8723 -1.8720 -0.4440 -0.4452  \n",
       "\n",
       "[100 rows x 69 columns]"
      ]
     },
     "execution_count": 13,
     "metadata": {},
     "output_type": "execute_result"
    }
   ],
   "source": [
    "Xval"
   ]
  },
  {
   "cell_type": "markdown",
   "id": "77eb62e8-3900-492f-b41d-4d0f3172c3ff",
   "metadata": {},
   "source": [
    "## 3. Model Comparison"
   ]
  },
  {
   "cell_type": "markdown",
   "id": "36436ddf-ced2-4037-b504-f76271ab991a",
   "metadata": {},
   "source": [
    "### 3.1 Models"
   ]
  },
  {
   "cell_type": "code",
   "execution_count": 14,
   "id": "b958366b-318d-4464-9202-3197ca41d24e",
   "metadata": {
    "tags": []
   },
   "outputs": [],
   "source": [
    "# model:1 \n",
    "def model21():\n",
    "    model = Sequential()\n",
    "    model.add(Dense(40, activation='relu', input_dim=69))\n",
    "    model.add(Dropout(0.1))\n",
    "    model.add(Dense(1, activation='sigmoid'))\n",
    "    model.compile(loss='binary_crossentropy', optimizer='nadam', metrics=['accuracy'])\n",
    "    \n",
    "    return model\n",
    "\n",
    "mdl21 = model21()\n",
    "\n",
    "# model:2\n",
    "def model22():\n",
    "    model = Sequential()\n",
    "    model.add(Dense(32, activation='relu', input_dim=69))\n",
    "    model.add(Dropout(0.5))\n",
    "    model.add(Dense(1, activation='sigmoid'))\n",
    "    model.compile(loss='binary_crossentropy', optimizer='nadam', metrics=['accuracy'])\n",
    "    \n",
    "    return model\n",
    "\n",
    "mdl22 = model22()\n",
    "\n",
    "# model:3\n",
    "def model23():\n",
    "    model = Sequential()\n",
    "    model.add(Dense(48, activation='tanh', input_dim=69))\n",
    "    model.add(Dropout(0.3))\n",
    "    model.add(Dense(1, activation='sigmoid'))\n",
    "    model.compile(loss='binary_crossentropy', optimizer='nadam', metrics=['accuracy'])\n",
    "    \n",
    "    return model\n",
    "\n",
    "mdl23 = model23()"
   ]
  },
  {
   "cell_type": "code",
   "execution_count": 15,
   "id": "836669a9-49d6-4297-9177-951cd16d3849",
   "metadata": {
    "tags": []
   },
   "outputs": [],
   "source": [
    "# model:4 \n",
    "def model31():\n",
    "    model = Sequential()\n",
    "    model.add(Dense(40, activation='linear', input_dim=69))\n",
    "    model.add(Dropout(0.4))\n",
    "    model.add(Dense(48, activation='relu'))\n",
    "    model.add(Dropout(0.3))\n",
    "    model.add(Dense(1, activation='sigmoid'))\n",
    "    model.compile(loss='binary_crossentropy', optimizer='adam', metrics=['accuracy'])\n",
    "    \n",
    "    return model\n",
    "\n",
    "mdl31 = model31()\n",
    "\n",
    "# model:5 \n",
    "def model32():\n",
    "    model = Sequential()\n",
    "    model.add(Dense(56, activation='relu', input_dim=69))\n",
    "    model.add(Dropout(0.3))\n",
    "    model.add(Dense(56, activation='tanh'))\n",
    "    model.add(Dropout(0.2))\n",
    "    model.add(Dense(1, activation='sigmoid'))\n",
    "    model.compile(loss='binary_crossentropy', optimizer='rmsprop', metrics=['accuracy'])\n",
    "    \n",
    "    return model\n",
    "\n",
    "mdl32 = model32()\n",
    "\n",
    "# model:6 \n",
    "def model33():\n",
    "    model = Sequential()\n",
    "    model.add(Dense(40, activation='relu', input_dim=69))\n",
    "    model.add(Dropout(0.3))\n",
    "    model.add(Dense(32, activation='tanh'))\n",
    "    model.add(Dropout(0.2))\n",
    "    model.add(Dense(1, activation='sigmoid'))\n",
    "    model.compile(loss='binary_crossentropy', optimizer='adam', metrics=['accuracy'])\n",
    "    \n",
    "    return model\n",
    "\n",
    "mdl33 = model33()"
   ]
  },
  {
   "cell_type": "code",
   "execution_count": 16,
   "id": "ab53cb7e-bc83-43a7-8c43-6b11866623e2",
   "metadata": {
    "tags": []
   },
   "outputs": [],
   "source": [
    "# model:7 \n",
    "def model41():\n",
    "    model = Sequential()\n",
    "    model.add(Dense(64, activation='relu', input_dim=69))\n",
    "    model.add(Dropout(0.4))\n",
    "    model.add(Dense(64, activation='linear'))\n",
    "    model.add(Dropout(0.5))\n",
    "    model.add(Dense(24, activation='linear'))\n",
    "    model.add(Dropout(0.2))\n",
    "    model.add(Dense(1, activation='sigmoid'))\n",
    "    model.compile(loss='binary_crossentropy', optimizer='rmsprop', metrics=['accuracy'])\n",
    "    \n",
    "    return model\n",
    "\n",
    "mdl41 = model41()\n",
    "\n",
    "# model:7 \n",
    "def model42():\n",
    "    model = Sequential()\n",
    "    model.add(Dense(32, activation='relu', input_dim=69))\n",
    "    model.add(Dropout(0.1))\n",
    "    model.add(Dense(40, activation='linear'))\n",
    "    model.add(Dropout(0.1))\n",
    "    model.add(Dense(24, activation='linear'))\n",
    "    model.add(Dropout(0.1))\n",
    "    model.add(Dense(1, activation='sigmoid'))\n",
    "    model.compile(loss='binary_crossentropy', optimizer='rmsprop', metrics=['accuracy'])\n",
    "    \n",
    "    return model\n",
    "\n",
    "mdl42 = model42()"
   ]
  },
  {
   "cell_type": "code",
   "execution_count": 17,
   "id": "3ff3acaa-6286-415f-a4a8-9a196f570af8",
   "metadata": {
    "tags": []
   },
   "outputs": [],
   "source": [
    "models = {\n",
    "    'mdl21':mdl21,\n",
    "    'mdl22':mdl22,\n",
    "    'mdl23':mdl23,\n",
    "    'mdl31':mdl31,\n",
    "    'mdl32':mdl32,\n",
    "    'mdl33':mdl33,\n",
    "    'mdl41':mdl41,\n",
    "    'mdl42':mdl42\n",
    "} "
   ]
  },
  {
   "cell_type": "markdown",
   "id": "9e5690d5-2c33-49f2-9806-f8a8c4f8a892",
   "metadata": {
    "tags": []
   },
   "source": [
    "### Models Evaluation"
   ]
  },
  {
   "cell_type": "code",
   "execution_count": 18,
   "id": "1d31622b-2b56-4d75-98b1-d2db2bd12cf1",
   "metadata": {
    "tags": []
   },
   "outputs": [],
   "source": [
    "def eval_models(models, Xtr, ytr, Xval, yval):\n",
    "    mdl_list = []\n",
    "    tr_list = []\n",
    "    val_list = []\n",
    "    \n",
    "    for name in models.keys():\n",
    "        \n",
    "        mdl_name = name\n",
    "        mdl_nn = models[name]\n",
    "        \n",
    "        print(mdl_name, mdl_nn)\n",
    "\n",
    "        print(f'Model Name : {mdl_name} ____________________________________________________________________________________ \\n')\n",
    "        #mdl_nn.summary()\n",
    "\n",
    "        mdl_nn.fit(Xtr, ytr, epochs=10, verbose=0, validation_data=(Xval,yval)) \n",
    "\n",
    "        # Train and Validation Dataset Accuracy\n",
    "        yhat_tr = mdl_nn.predict(Xtr, verbose=0)\n",
    "        yhat_val = mdl_nn.predict(Xval, verbose=0)\n",
    "        yhat_tr = np.where(yhat_tr > 0.5,1,0)\n",
    "        yhat_val = np.where(yhat_val > 0.5,1,0)\n",
    "\n",
    "        tr_acc = round(accuracy_score(ytr,yhat_tr)*100,4)\n",
    "        pred_val = [yhat_val[x][0] for x in range(yhat_val.shape[0])]\n",
    "        val_acc = round(accuracy_score(yval.tolist(),pred_val)*100,4)\n",
    "        \n",
    "        mdl_list.append(mdl_name)\n",
    "        tr_list.append(tr_acc)\n",
    "        val_list.append(val_acc)\n",
    "    \n",
    "    return mdl_list, tr_list, val_list"
   ]
  },
  {
   "cell_type": "code",
   "execution_count": 19,
   "id": "89200b98-bcc1-402c-bbb8-32ff1bd368b9",
   "metadata": {
    "tags": []
   },
   "outputs": [
    {
     "name": "stdout",
     "output_type": "stream",
     "text": [
      "mdl21 <keras.engine.sequential.Sequential object at 0x000001CE73F4ABC0>\n",
      "Model Name : mdl21 ____________________________________________________________________________________ \n",
      "\n",
      "mdl22 <keras.engine.sequential.Sequential object at 0x000001CE73F4AC80>\n",
      "Model Name : mdl22 ____________________________________________________________________________________ \n",
      "\n",
      "mdl23 <keras.engine.sequential.Sequential object at 0x000001CE74376500>\n",
      "Model Name : mdl23 ____________________________________________________________________________________ \n",
      "\n",
      "mdl31 <keras.engine.sequential.Sequential object at 0x000001CE74851780>\n",
      "Model Name : mdl31 ____________________________________________________________________________________ \n",
      "\n",
      "mdl32 <keras.engine.sequential.Sequential object at 0x000001CE74850250>\n",
      "Model Name : mdl32 ____________________________________________________________________________________ \n",
      "\n",
      "mdl33 <keras.engine.sequential.Sequential object at 0x000001CE748B9150>\n",
      "Model Name : mdl33 ____________________________________________________________________________________ \n",
      "\n",
      "mdl41 <keras.engine.sequential.Sequential object at 0x000001CE748517E0>\n",
      "Model Name : mdl41 ____________________________________________________________________________________ \n",
      "\n",
      "mdl42 <keras.engine.sequential.Sequential object at 0x000001CE743756F0>\n",
      "Model Name : mdl42 ____________________________________________________________________________________ \n",
      "\n"
     ]
    }
   ],
   "source": [
    "m,t,v = eval_models(models, Xtr, ytr, Xval, yval)"
   ]
  },
  {
   "cell_type": "markdown",
   "id": "9a1eeda1-ade8-4e74-97fc-a9992fc5fda1",
   "metadata": {},
   "source": [
    "### 3.3 Comparison Results"
   ]
  },
  {
   "cell_type": "code",
   "execution_count": 20,
   "id": "55aeb77b-649f-4722-9fb2-1667761a0c5d",
   "metadata": {
    "tags": []
   },
   "outputs": [
    {
     "data": {
      "text/html": [
       "<div>\n",
       "<style scoped>\n",
       "    .dataframe tbody tr th:only-of-type {\n",
       "        vertical-align: middle;\n",
       "    }\n",
       "\n",
       "    .dataframe tbody tr th {\n",
       "        vertical-align: top;\n",
       "    }\n",
       "\n",
       "    .dataframe thead th {\n",
       "        text-align: right;\n",
       "    }\n",
       "</style>\n",
       "<table border=\"1\" class=\"dataframe\">\n",
       "  <thead>\n",
       "    <tr style=\"text-align: right;\">\n",
       "      <th></th>\n",
       "      <th>ANN_Model</th>\n",
       "      <th>Train_Acc</th>\n",
       "      <th>Val_Acc</th>\n",
       "      <th>Diff_Acc</th>\n",
       "    </tr>\n",
       "  </thead>\n",
       "  <tbody>\n",
       "    <tr>\n",
       "      <th>4</th>\n",
       "      <td>mdl32</td>\n",
       "      <td>92.7443</td>\n",
       "      <td>94.0</td>\n",
       "      <td>-1.2557</td>\n",
       "    </tr>\n",
       "    <tr>\n",
       "      <th>0</th>\n",
       "      <td>mdl21</td>\n",
       "      <td>90.6466</td>\n",
       "      <td>93.0</td>\n",
       "      <td>-2.3534</td>\n",
       "    </tr>\n",
       "    <tr>\n",
       "      <th>1</th>\n",
       "      <td>mdl22</td>\n",
       "      <td>88.2902</td>\n",
       "      <td>92.0</td>\n",
       "      <td>-3.7098</td>\n",
       "    </tr>\n",
       "    <tr>\n",
       "      <th>2</th>\n",
       "      <td>mdl23</td>\n",
       "      <td>86.0920</td>\n",
       "      <td>92.0</td>\n",
       "      <td>-5.9080</td>\n",
       "    </tr>\n",
       "    <tr>\n",
       "      <th>5</th>\n",
       "      <td>mdl33</td>\n",
       "      <td>92.4569</td>\n",
       "      <td>92.0</td>\n",
       "      <td>0.4569</td>\n",
       "    </tr>\n",
       "    <tr>\n",
       "      <th>6</th>\n",
       "      <td>mdl41</td>\n",
       "      <td>91.2644</td>\n",
       "      <td>92.0</td>\n",
       "      <td>-0.7356</td>\n",
       "    </tr>\n",
       "    <tr>\n",
       "      <th>7</th>\n",
       "      <td>mdl42</td>\n",
       "      <td>92.3420</td>\n",
       "      <td>92.0</td>\n",
       "      <td>0.3420</td>\n",
       "    </tr>\n",
       "    <tr>\n",
       "      <th>3</th>\n",
       "      <td>mdl31</td>\n",
       "      <td>87.7011</td>\n",
       "      <td>87.0</td>\n",
       "      <td>0.7011</td>\n",
       "    </tr>\n",
       "  </tbody>\n",
       "</table>\n",
       "</div>"
      ],
      "text/plain": [
       "  ANN_Model  Train_Acc  Val_Acc  Diff_Acc\n",
       "4     mdl32    92.7443     94.0   -1.2557\n",
       "0     mdl21    90.6466     93.0   -2.3534\n",
       "1     mdl22    88.2902     92.0   -3.7098\n",
       "2     mdl23    86.0920     92.0   -5.9080\n",
       "5     mdl33    92.4569     92.0    0.4569\n",
       "6     mdl41    91.2644     92.0   -0.7356\n",
       "7     mdl42    92.3420     92.0    0.3420\n",
       "3     mdl31    87.7011     87.0    0.7011"
      ]
     },
     "execution_count": 20,
     "metadata": {},
     "output_type": "execute_result"
    }
   ],
   "source": [
    "mdl_perf = pd.DataFrame(data={'ANN_Model':m, 'Train_Acc':t, 'Val_Acc':v}).sort_values(['Val_Acc'], ascending=False)\n",
    "mdl_perf['Diff_Acc'] = (mdl_perf['Train_Acc']-mdl_perf['Val_Acc'])\n",
    "mdl_perf"
   ]
  },
  {
   "cell_type": "markdown",
   "id": "83fe51c0-fa5b-4a75-a41c-e6792228c862",
   "metadata": {
    "tags": []
   },
   "source": [
    "### 3.4 Selecting Model where Train and Validation Accuracy Difference is less than 1%."
   ]
  },
  {
   "cell_type": "code",
   "execution_count": 21,
   "id": "10c669af-7692-4c25-b05b-1dfd65296dfd",
   "metadata": {
    "tags": []
   },
   "outputs": [
    {
     "data": {
      "text/html": [
       "<div>\n",
       "<style scoped>\n",
       "    .dataframe tbody tr th:only-of-type {\n",
       "        vertical-align: middle;\n",
       "    }\n",
       "\n",
       "    .dataframe tbody tr th {\n",
       "        vertical-align: top;\n",
       "    }\n",
       "\n",
       "    .dataframe thead th {\n",
       "        text-align: right;\n",
       "    }\n",
       "</style>\n",
       "<table border=\"1\" class=\"dataframe\">\n",
       "  <thead>\n",
       "    <tr style=\"text-align: right;\">\n",
       "      <th></th>\n",
       "      <th>ANN_Model</th>\n",
       "      <th>Train_Acc</th>\n",
       "      <th>Val_Acc</th>\n",
       "      <th>Diff_Acc</th>\n",
       "    </tr>\n",
       "  </thead>\n",
       "  <tbody>\n",
       "    <tr>\n",
       "      <th>7</th>\n",
       "      <td>mdl42</td>\n",
       "      <td>92.3420</td>\n",
       "      <td>92.0</td>\n",
       "      <td>0.3420</td>\n",
       "    </tr>\n",
       "    <tr>\n",
       "      <th>5</th>\n",
       "      <td>mdl33</td>\n",
       "      <td>92.4569</td>\n",
       "      <td>92.0</td>\n",
       "      <td>0.4569</td>\n",
       "    </tr>\n",
       "    <tr>\n",
       "      <th>3</th>\n",
       "      <td>mdl31</td>\n",
       "      <td>87.7011</td>\n",
       "      <td>87.0</td>\n",
       "      <td>0.7011</td>\n",
       "    </tr>\n",
       "  </tbody>\n",
       "</table>\n",
       "</div>"
      ],
      "text/plain": [
       "  ANN_Model  Train_Acc  Val_Acc  Diff_Acc\n",
       "7     mdl42    92.3420     92.0    0.3420\n",
       "5     mdl33    92.4569     92.0    0.4569\n",
       "3     mdl31    87.7011     87.0    0.7011"
      ]
     },
     "execution_count": 21,
     "metadata": {},
     "output_type": "execute_result"
    }
   ],
   "source": [
    "filt = ((mdl_perf['Diff_Acc'] >= 0) & (mdl_perf['Diff_Acc'] <= 1.0))\n",
    "mdl_df = mdl_perf.loc[filt].sort_values(['Diff_Acc'])\n",
    "mdl_df"
   ]
  },
  {
   "cell_type": "markdown",
   "id": "5628989b-7103-4b03-90c3-accec5172bbf",
   "metadata": {},
   "source": [
    "## 4. Best Model Training and Evaluation on Train/Validation Data"
   ]
  },
  {
   "cell_type": "markdown",
   "id": "b72f9a02-a577-48af-972a-7805d03a5efb",
   "metadata": {},
   "source": [
    "### 4.1 Best Model"
   ]
  },
  {
   "cell_type": "code",
   "execution_count": 22,
   "id": "05330e9b-8194-4e10-b328-876a1d90fcfc",
   "metadata": {
    "tags": []
   },
   "outputs": [],
   "source": [
    "# idx = mdl_df['Diff_Acc'].argmin()\n",
    "# #idx = mdl_perf['Val_Acc'].argmax()\n",
    "\n",
    "# best_mdl_name = mdl_df.iloc[idx,0]\n",
    "# #best_mdl_name = mdl_perf.iloc[idx,0]\n",
    "\n",
    "# print(f'Best Model : {best_mdl_name} \\n')\n",
    "\n",
    "# best_mdl = models[best_mdl_name]\n",
    "# best_mdl.summary()"
   ]
  },
  {
   "cell_type": "code",
   "execution_count": 23,
   "id": "db59b4e1-6911-4011-b777-cce28074c0b3",
   "metadata": {},
   "outputs": [
    {
     "name": "stdout",
     "output_type": "stream",
     "text": [
      "Model: \"sequential_8\"\n",
      "_________________________________________________________________\n",
      " Layer (type)                Output Shape              Param #   \n",
      "=================================================================\n",
      " dense_23 (Dense)            (None, 40)                2800      \n",
      "                                                                 \n",
      " dropout_15 (Dropout)        (None, 40)                0         \n",
      "                                                                 \n",
      " dense_24 (Dense)            (None, 32)                1312      \n",
      "                                                                 \n",
      " dropout_16 (Dropout)        (None, 32)                0         \n",
      "                                                                 \n",
      " dense_25 (Dense)            (None, 1)                 33        \n",
      "                                                                 \n",
      "=================================================================\n",
      "Total params: 4,145\n",
      "Trainable params: 4,145\n",
      "Non-trainable params: 0\n",
      "_________________________________________________________________\n"
     ]
    }
   ],
   "source": [
    "def model33():\n",
    "    model = Sequential()\n",
    "    model.add(Dense(40, activation='relu', input_dim=69))\n",
    "    model.add(Dropout(0.3))\n",
    "    model.add(Dense(32, activation='tanh'))\n",
    "    model.add(Dropout(0.2))\n",
    "    model.add(Dense(1, activation='sigmoid'))\n",
    "    model.compile(loss='binary_crossentropy', optimizer='adam', metrics=['accuracy'])\n",
    "    \n",
    "    return model\n",
    "\n",
    "best_mdl = model33()\n",
    "best_mdl.summary()"
   ]
  },
  {
   "cell_type": "markdown",
   "id": "b5ae4c54-4ed5-4467-b72b-248400c2ccb3",
   "metadata": {},
   "source": [
    "### 4.2 Model Training"
   ]
  },
  {
   "cell_type": "code",
   "execution_count": 24,
   "id": "295ecb2d-b2ef-461e-80a4-ac5f3cbc7c19",
   "metadata": {
    "tags": []
   },
   "outputs": [],
   "source": [
    "hst = best_mdl.fit(Xtr, ytr, epochs=10, verbose=0, validation_data=(Xval,yval))"
   ]
  },
  {
   "cell_type": "markdown",
   "id": "c36d25c3-4ae8-417f-a57b-75ea17e4bd7a",
   "metadata": {},
   "source": [
    "### 4.3 Model Training History"
   ]
  },
  {
   "cell_type": "code",
   "execution_count": 25,
   "id": "30ddf237-0b6f-4b6e-b139-b5baef217eae",
   "metadata": {
    "tags": []
   },
   "outputs": [
    {
     "data": {
      "text/plain": [
       "<matplotlib.legend.Legend at 0x1ce79d57fa0>"
      ]
     },
     "execution_count": 25,
     "metadata": {},
     "output_type": "execute_result"
    },
    {
     "data": {
      "image/png": "[encoded data removed]",
      "text/plain": [
       "<Figure size 1000x400 with 1 Axes>"
      ]
     },
     "metadata": {},
     "output_type": "display_data"
    }
   ],
   "source": [
    "plt.figure(figsize=(10,4))\n",
    "\n",
    "plt.plot(hst.history['loss'])\n",
    "plt.plot(hst.history['val_loss'])\n",
    "\n",
    "plt.title('Loss By Epochs',fontsize=12)\n",
    "plt.ylabel('Loss',fontsize=10)\n",
    "plt.xlabel('Epochs',fontsize=10)\n",
    "plt.legend(['Train Loss','Val Loss'])"
   ]
  },
  {
   "cell_type": "code",
   "execution_count": 26,
   "id": "a5f418e7-8e94-4f5e-93d0-150fa76fbbd7",
   "metadata": {
    "tags": []
   },
   "outputs": [
    {
     "data": {
      "text/plain": [
       "<matplotlib.legend.Legend at 0x1ce79e371c0>"
      ]
     },
     "execution_count": 26,
     "metadata": {},
     "output_type": "execute_result"
    },
    {
     "data": {
      "image/png": "[encoded data removed]",
      "text/plain": [
       "<Figure size 1000x400 with 1 Axes>"
      ]
     },
     "metadata": {},
     "output_type": "display_data"
    }
   ],
   "source": [
    "plt.figure(figsize=(10,4))\n",
    "\n",
    "plt.plot(hst.history['accuracy'])\n",
    "plt.plot(hst.history['val_accuracy'])\n",
    "\n",
    "plt.title('Accuracy By Epochs',fontsize=15)\n",
    "plt.ylabel('Accuracy',fontsize=12)\n",
    "plt.xlabel('Epochs',fontsize=12)\n",
    "plt.legend(['Train Accuracy','Val Accuracy'])"
   ]
  },
  {
   "cell_type": "markdown",
   "id": "d384cf9b-e7f5-4b19-b47c-1ca40ade9c75",
   "metadata": {},
   "source": [
    "### 4.4 Model Evaluation on Training and Validation Dataset"
   ]
  },
  {
   "cell_type": "code",
   "execution_count": 27,
   "id": "5e560621-8cfb-4ba7-84b4-14db175d6a8b",
   "metadata": {
    "tags": []
   },
   "outputs": [
    {
     "name": "stdout",
     "output_type": "stream",
     "text": [
      "218/218 [==============================] - 1s 2ms/step\n",
      "4/4 [==============================] - 0s 3ms/step\n",
      "\n",
      "\n",
      "Train Dataset Accuracy : 93.0891 %\n",
      "Validation Dataset Accuracy : 93.0 %\n"
     ]
    }
   ],
   "source": [
    "yhat_tr = best_mdl.predict(Xtr)\n",
    "yhat_val = best_mdl.predict(Xval)\n",
    "\n",
    "yhat_tr = np.where(yhat_tr > 0.5,1,0)\n",
    "yhat_val = np.where(yhat_val > 0.5,1,0)\n",
    "\n",
    "print('\\n')\n",
    "print(f'Train Dataset Accuracy : {round(accuracy_score(ytr,yhat_tr)*100,4)} %')\n",
    "\n",
    "pred_val = [yhat_val[x][0] for x in range(yhat_val.shape[0])]\n",
    "print(f'Validation Dataset Accuracy : {round(accuracy_score(yval.tolist(),pred_val)*100,4)} %')"
   ]
  },
  {
   "cell_type": "code",
   "execution_count": 28,
   "id": "24b11220-7826-4670-970c-703e5ab9dc72",
   "metadata": {
    "tags": []
   },
   "outputs": [
    {
     "name": "stdout",
     "output_type": "stream",
     "text": [
      "Model: \"sequential_8\"\n",
      "_________________________________________________________________\n",
      " Layer (type)                Output Shape              Param #   \n",
      "=================================================================\n",
      " dense_23 (Dense)            (None, 40)                2800      \n",
      "                                                                 \n",
      " dropout_15 (Dropout)        (None, 40)                0         \n",
      "                                                                 \n",
      " dense_24 (Dense)            (None, 32)                1312      \n",
      "                                                                 \n",
      " dropout_16 (Dropout)        (None, 32)                0         \n",
      "                                                                 \n",
      " dense_25 (Dense)            (None, 1)                 33        \n",
      "                                                                 \n",
      "=================================================================\n",
      "Total params: 4,145\n",
      "Trainable params: 4,145\n",
      "Non-trainable params: 0\n",
      "_________________________________________________________________\n"
     ]
    }
   ],
   "source": [
    "best_mdl.summary()"
   ]
  },
  {
   "cell_type": "code",
   "execution_count": 29,
   "id": "8e872e6d-c7d1-4da7-94aa-76906f50bbec",
   "metadata": {
    "tags": []
   },
   "outputs": [
    {
     "name": "stdout",
     "output_type": "stream",
     "text": [
      "              precision    recall  f1-score   support\n",
      "\n",
      "         0.0       0.95      0.97      0.96        86\n",
      "         1.0       0.77      0.71      0.74        14\n",
      "\n",
      "    accuracy                           0.93       100\n",
      "   macro avg       0.86      0.84      0.85       100\n",
      "weighted avg       0.93      0.93      0.93       100\n",
      "\n"
     ]
    }
   ],
   "source": [
    "print(classification_report(yval.tolist(),pred_val))"
   ]
  },
  {
   "cell_type": "code",
   "execution_count": 30,
   "id": "135210d5-ed44-419c-ab73-0e20cc40d87c",
   "metadata": {
    "tags": []
   },
   "outputs": [
    {
     "data": {
      "image/png": "[encoded data removed]",
      "text/plain": [
       "<Figure size 640x480 with 2 Axes>"
      ]
     },
     "metadata": {},
     "output_type": "display_data"
    }
   ],
   "source": [
    "labels = yval.unique().tolist()\n",
    "labels.sort()\n",
    "#print(labels)\n",
    "\n",
    "cm = confusion_matrix(yval.tolist(),pred_val)\n",
    "#print(cm)\n",
    "\n",
    "ax = sb.heatmap(cm, annot=True, fmt='g', xticklabels=labels, yticklabels=labels, linewidth=0.5)\n",
    "ax.xaxis.tick_bottom()\n",
    "\n",
    "plt.ylabel('Prediction',fontsize=12)\n",
    "plt.xlabel('Actual',fontsize=12)\n",
    "plt.title('Confusion Matrix',fontsize=15)\n",
    "plt.show()"
   ]
  },
  {
   "cell_type": "code",
   "execution_count": 31,
   "id": "50e44be0-d3eb-4f9f-97b4-7bba156850a9",
   "metadata": {
    "tags": []
   },
   "outputs": [],
   "source": [
    "#lst = [yhat_val[x][0] for x in range(0,100)]"
   ]
  },
  {
   "cell_type": "markdown",
   "id": "cd4fad69-8542-4bc4-aa44-7fc5a3dae385",
   "metadata": {},
   "source": [
    "## 5. Model Save/Export"
   ]
  },
  {
   "cell_type": "code",
   "execution_count": 32,
   "id": "d1f5356e-d911-482d-aeb2-1ff6c02b5ea3",
   "metadata": {},
   "outputs": [],
   "source": [
    "# Save the entire model as a `.keras` zip archive.\n",
    "best_mdl.save('mdl_best.keras')"
   ]
  },
  {
   "cell_type": "code",
   "execution_count": 33,
   "id": "1af12120-999a-45a7-838e-edaa5396d8c7",
   "metadata": {
    "tags": []
   },
   "outputs": [
    {
     "name": "stdout",
     "output_type": "stream",
     "text": [
      "Model: \"sequential_8\"\n",
      "_________________________________________________________________\n",
      " Layer (type)                Output Shape              Param #   \n",
      "=================================================================\n",
      " dense_23 (Dense)            (None, 40)                2800      \n",
      "                                                                 \n",
      " dropout_15 (Dropout)        (None, 40)                0         \n",
      "                                                                 \n",
      " dense_24 (Dense)            (None, 32)                1312      \n",
      "                                                                 \n",
      " dropout_16 (Dropout)        (None, 32)                0         \n",
      "                                                                 \n",
      " dense_25 (Dense)            (None, 1)                 33        \n",
      "                                                                 \n",
      "=================================================================\n",
      "Total params: 4,145\n",
      "Trainable params: 4,145\n",
      "Non-trainable params: 0\n",
      "_________________________________________________________________\n"
     ]
    }
   ],
   "source": [
    "pred_mdl = tensorflow.keras.models.load_model('mdl_best.keras')\n",
    "\n",
    "pred_mdl.summary()"
   ]
  },
  {
   "cell_type": "markdown",
   "id": "492b6300-c0b1-41fa-9c6d-c457298475dd",
   "metadata": {},
   "source": [
    "## 6. Simple Prediction System"
   ]
  },
  {
   "cell_type": "markdown",
   "id": "92fb0ca4-848e-4128-b2d5-be46f93b8fa8",
   "metadata": {},
   "source": [
    "### 6.1 PreProcessed Validation Dataset (not FE)"
   ]
  },
  {
   "cell_type": "code",
   "execution_count": 34,
   "id": "16ab35fb-ca49-4b1e-a284-2fc3c434226e",
   "metadata": {
    "tags": []
   },
   "outputs": [
    {
     "name": "stdout",
     "output_type": "stream",
     "text": [
      "Shape of the validation dataset : (100, 20)\n"
     ]
    },
    {
     "data": {
      "text/html": [
       "<div>\n",
       "<style scoped>\n",
       "    .dataframe tbody tr th:only-of-type {\n",
       "        vertical-align: middle;\n",
       "    }\n",
       "\n",
       "    .dataframe tbody tr th {\n",
       "        vertical-align: top;\n",
       "    }\n",
       "\n",
       "    .dataframe thead th {\n",
       "        text-align: right;\n",
       "    }\n",
       "</style>\n",
       "<table border=\"1\" class=\"dataframe\">\n",
       "  <thead>\n",
       "    <tr style=\"text-align: right;\">\n",
       "      <th></th>\n",
       "      <th>state</th>\n",
       "      <th>account_length</th>\n",
       "      <th>area_code</th>\n",
       "      <th>international_plan</th>\n",
       "      <th>voice_mail_plan</th>\n",
       "      <th>number_vmail_messages</th>\n",
       "      <th>total_day_minutes</th>\n",
       "      <th>total_day_calls</th>\n",
       "      <th>total_day_charge</th>\n",
       "      <th>total_eve_minutes</th>\n",
       "      <th>total_eve_calls</th>\n",
       "      <th>total_eve_charge</th>\n",
       "      <th>total_night_minutes</th>\n",
       "      <th>total_night_calls</th>\n",
       "      <th>total_night_charge</th>\n",
       "      <th>total_intl_minutes</th>\n",
       "      <th>total_intl_calls</th>\n",
       "      <th>total_intl_charge</th>\n",
       "      <th>number_customer_service_calls</th>\n",
       "      <th>churn</th>\n",
       "    </tr>\n",
       "  </thead>\n",
       "  <tbody>\n",
       "    <tr>\n",
       "      <th>4013</th>\n",
       "      <td>AZ</td>\n",
       "      <td>116</td>\n",
       "      <td>area_code_415</td>\n",
       "      <td>yes</td>\n",
       "      <td>no</td>\n",
       "      <td>0</td>\n",
       "      <td>191.7</td>\n",
       "      <td>97</td>\n",
       "      <td>32.59</td>\n",
       "      <td>176.2</td>\n",
       "      <td>127</td>\n",
       "      <td>14.98</td>\n",
       "      <td>103.9</td>\n",
       "      <td>96</td>\n",
       "      <td>4.68</td>\n",
       "      <td>4.9</td>\n",
       "      <td>4</td>\n",
       "      <td>1.32</td>\n",
       "      <td>2</td>\n",
       "      <td>no</td>\n",
       "    </tr>\n",
       "    <tr>\n",
       "      <th>2639</th>\n",
       "      <td>WV</td>\n",
       "      <td>102</td>\n",
       "      <td>area_code_408</td>\n",
       "      <td>no</td>\n",
       "      <td>no</td>\n",
       "      <td>0</td>\n",
       "      <td>234.8</td>\n",
       "      <td>125</td>\n",
       "      <td>39.92</td>\n",
       "      <td>199.2</td>\n",
       "      <td>99</td>\n",
       "      <td>16.93</td>\n",
       "      <td>163.2</td>\n",
       "      <td>88</td>\n",
       "      <td>7.34</td>\n",
       "      <td>10.0</td>\n",
       "      <td>1</td>\n",
       "      <td>2.70</td>\n",
       "      <td>4</td>\n",
       "      <td>no</td>\n",
       "    </tr>\n",
       "    <tr>\n",
       "      <th>622</th>\n",
       "      <td>MI</td>\n",
       "      <td>120</td>\n",
       "      <td>area_code_415</td>\n",
       "      <td>no</td>\n",
       "      <td>no</td>\n",
       "      <td>0</td>\n",
       "      <td>150.6</td>\n",
       "      <td>85</td>\n",
       "      <td>25.60</td>\n",
       "      <td>119.0</td>\n",
       "      <td>128</td>\n",
       "      <td>10.12</td>\n",
       "      <td>232.9</td>\n",
       "      <td>123</td>\n",
       "      <td>10.48</td>\n",
       "      <td>6.4</td>\n",
       "      <td>2</td>\n",
       "      <td>1.73</td>\n",
       "      <td>1</td>\n",
       "      <td>no</td>\n",
       "    </tr>\n",
       "    <tr>\n",
       "      <th>1217</th>\n",
       "      <td>ND</td>\n",
       "      <td>60</td>\n",
       "      <td>area_code_510</td>\n",
       "      <td>no</td>\n",
       "      <td>no</td>\n",
       "      <td>0</td>\n",
       "      <td>203.2</td>\n",
       "      <td>99</td>\n",
       "      <td>34.54</td>\n",
       "      <td>235.8</td>\n",
       "      <td>131</td>\n",
       "      <td>20.04</td>\n",
       "      <td>224.9</td>\n",
       "      <td>112</td>\n",
       "      <td>10.12</td>\n",
       "      <td>15.1</td>\n",
       "      <td>6</td>\n",
       "      <td>4.08</td>\n",
       "      <td>2</td>\n",
       "      <td>no</td>\n",
       "    </tr>\n",
       "    <tr>\n",
       "      <th>394</th>\n",
       "      <td>GA</td>\n",
       "      <td>141</td>\n",
       "      <td>area_code_510</td>\n",
       "      <td>no</td>\n",
       "      <td>yes</td>\n",
       "      <td>23</td>\n",
       "      <td>149.7</td>\n",
       "      <td>112</td>\n",
       "      <td>25.45</td>\n",
       "      <td>162.5</td>\n",
       "      <td>118</td>\n",
       "      <td>13.81</td>\n",
       "      <td>220.3</td>\n",
       "      <td>115</td>\n",
       "      <td>9.91</td>\n",
       "      <td>7.6</td>\n",
       "      <td>2</td>\n",
       "      <td>2.05</td>\n",
       "      <td>3</td>\n",
       "      <td>no</td>\n",
       "    </tr>\n",
       "    <tr>\n",
       "      <th>3014</th>\n",
       "      <td>RI</td>\n",
       "      <td>127</td>\n",
       "      <td>area_code_510</td>\n",
       "      <td>no</td>\n",
       "      <td>no</td>\n",
       "      <td>0</td>\n",
       "      <td>211.1</td>\n",
       "      <td>62</td>\n",
       "      <td>35.89</td>\n",
       "      <td>235.2</td>\n",
       "      <td>143</td>\n",
       "      <td>19.99</td>\n",
       "      <td>227.5</td>\n",
       "      <td>66</td>\n",
       "      <td>10.24</td>\n",
       "      <td>15.6</td>\n",
       "      <td>3</td>\n",
       "      <td>4.21</td>\n",
       "      <td>2</td>\n",
       "      <td>no</td>\n",
       "    </tr>\n",
       "    <tr>\n",
       "      <th>1882</th>\n",
       "      <td>TX</td>\n",
       "      <td>98</td>\n",
       "      <td>area_code_415</td>\n",
       "      <td>no</td>\n",
       "      <td>no</td>\n",
       "      <td>0</td>\n",
       "      <td>217.2</td>\n",
       "      <td>121</td>\n",
       "      <td>36.92</td>\n",
       "      <td>303.4</td>\n",
       "      <td>73</td>\n",
       "      <td>25.79</td>\n",
       "      <td>197.1</td>\n",
       "      <td>71</td>\n",
       "      <td>8.87</td>\n",
       "      <td>12.4</td>\n",
       "      <td>2</td>\n",
       "      <td>3.35</td>\n",
       "      <td>0</td>\n",
       "      <td>yes</td>\n",
       "    </tr>\n",
       "    <tr>\n",
       "      <th>743</th>\n",
       "      <td>IA</td>\n",
       "      <td>128</td>\n",
       "      <td>area_code_408</td>\n",
       "      <td>no</td>\n",
       "      <td>no</td>\n",
       "      <td>0</td>\n",
       "      <td>158.8</td>\n",
       "      <td>75</td>\n",
       "      <td>27.00</td>\n",
       "      <td>264.8</td>\n",
       "      <td>91</td>\n",
       "      <td>22.51</td>\n",
       "      <td>270.0</td>\n",
       "      <td>77</td>\n",
       "      <td>12.15</td>\n",
       "      <td>7.6</td>\n",
       "      <td>7</td>\n",
       "      <td>2.05</td>\n",
       "      <td>1</td>\n",
       "      <td>no</td>\n",
       "    </tr>\n",
       "    <tr>\n",
       "      <th>832</th>\n",
       "      <td>MI</td>\n",
       "      <td>45</td>\n",
       "      <td>area_code_510</td>\n",
       "      <td>no</td>\n",
       "      <td>yes</td>\n",
       "      <td>26</td>\n",
       "      <td>91.7</td>\n",
       "      <td>104</td>\n",
       "      <td>15.59</td>\n",
       "      <td>150.6</td>\n",
       "      <td>119</td>\n",
       "      <td>12.80</td>\n",
       "      <td>63.3</td>\n",
       "      <td>103</td>\n",
       "      <td>2.85</td>\n",
       "      <td>7.7</td>\n",
       "      <td>5</td>\n",
       "      <td>2.08</td>\n",
       "      <td>1</td>\n",
       "      <td>no</td>\n",
       "    </tr>\n",
       "    <tr>\n",
       "      <th>1626</th>\n",
       "      <td>DE</td>\n",
       "      <td>136</td>\n",
       "      <td>area_code_415</td>\n",
       "      <td>no</td>\n",
       "      <td>no</td>\n",
       "      <td>0</td>\n",
       "      <td>101.7</td>\n",
       "      <td>105</td>\n",
       "      <td>17.29</td>\n",
       "      <td>202.8</td>\n",
       "      <td>99</td>\n",
       "      <td>17.24</td>\n",
       "      <td>136.2</td>\n",
       "      <td>119</td>\n",
       "      <td>6.13</td>\n",
       "      <td>9.4</td>\n",
       "      <td>6</td>\n",
       "      <td>2.54</td>\n",
       "      <td>3</td>\n",
       "      <td>no</td>\n",
       "    </tr>\n",
       "  </tbody>\n",
       "</table>\n",
       "</div>"
      ],
      "text/plain": [
       "     state  account_length      area_code international_plan voice_mail_plan  \\\n",
       "4013    AZ             116  area_code_415                yes              no   \n",
       "2639    WV             102  area_code_408                 no              no   \n",
       "622     MI             120  area_code_415                 no              no   \n",
       "1217    ND              60  area_code_510                 no              no   \n",
       "394     GA             141  area_code_510                 no             yes   \n",
       "3014    RI             127  area_code_510                 no              no   \n",
       "1882    TX              98  area_code_415                 no              no   \n",
       "743     IA             128  area_code_408                 no              no   \n",
       "832     MI              45  area_code_510                 no             yes   \n",
       "1626    DE             136  area_code_415                 no              no   \n",
       "\n",
       "      number_vmail_messages  total_day_minutes  total_day_calls  \\\n",
       "4013                      0              191.7               97   \n",
       "2639                      0              234.8              125   \n",
       "622                       0              150.6               85   \n",
       "1217                      0              203.2               99   \n",
       "394                      23              149.7              112   \n",
       "3014                      0              211.1               62   \n",
       "1882                      0              217.2              121   \n",
       "743                       0              158.8               75   \n",
       "832                      26               91.7              104   \n",
       "1626                      0              101.7              105   \n",
       "\n",
       "      total_day_charge  total_eve_minutes  total_eve_calls  total_eve_charge  \\\n",
       "4013             32.59              176.2              127             14.98   \n",
       "2639             39.92              199.2               99             16.93   \n",
       "622              25.60              119.0              128             10.12   \n",
       "1217             34.54              235.8              131             20.04   \n",
       "394              25.45              162.5              118             13.81   \n",
       "3014             35.89              235.2              143             19.99   \n",
       "1882             36.92              303.4               73             25.79   \n",
       "743              27.00              264.8               91             22.51   \n",
       "832              15.59              150.6              119             12.80   \n",
       "1626             17.29              202.8               99             17.24   \n",
       "\n",
       "      total_night_minutes  total_night_calls  total_night_charge  \\\n",
       "4013                103.9                 96                4.68   \n",
       "2639                163.2                 88                7.34   \n",
       "622                 232.9                123               10.48   \n",
       "1217                224.9                112               10.12   \n",
       "394                 220.3                115                9.91   \n",
       "3014                227.5                 66               10.24   \n",
       "1882                197.1                 71                8.87   \n",
       "743                 270.0                 77               12.15   \n",
       "832                  63.3                103                2.85   \n",
       "1626                136.2                119                6.13   \n",
       "\n",
       "      total_intl_minutes  total_intl_calls  total_intl_charge  \\\n",
       "4013                 4.9                 4               1.32   \n",
       "2639                10.0                 1               2.70   \n",
       "622                  6.4                 2               1.73   \n",
       "1217                15.1                 6               4.08   \n",
       "394                  7.6                 2               2.05   \n",
       "3014                15.6                 3               4.21   \n",
       "1882                12.4                 2               3.35   \n",
       "743                  7.6                 7               2.05   \n",
       "832                  7.7                 5               2.08   \n",
       "1626                 9.4                 6               2.54   \n",
       "\n",
       "      number_customer_service_calls churn  \n",
       "4013                              2    no  \n",
       "2639                              4    no  \n",
       "622                               1    no  \n",
       "1217                              2    no  \n",
       "394                               3    no  \n",
       "3014                              2    no  \n",
       "1882                              0   yes  \n",
       "743                               1    no  \n",
       "832                               1    no  \n",
       "1626                              3    no  "
      ]
     },
     "execution_count": 34,
     "metadata": {},
     "output_type": "execute_result"
    }
   ],
   "source": [
    "val_pred = pd.read_pickle('cc_valid_pp.pkl')\n",
    "\n",
    "\n",
    "print(f'Shape of the validation dataset : {val_pred.shape}')\n",
    "val_pred = val_pred.sample(10)\n",
    "val_pred"
   ]
  },
  {
   "cell_type": "markdown",
   "id": "1b2e60a1-8d7a-44bf-aaf0-9fb0501a28a0",
   "metadata": {},
   "source": [
    "### 6.2 Selected Validation Data"
   ]
  },
  {
   "cell_type": "code",
   "execution_count": 35,
   "id": "6f97be8a-3331-4205-bd58-8e9af2f2ff0b",
   "metadata": {
    "tags": []
   },
   "outputs": [
    {
     "name": "stdout",
     "output_type": "stream",
     "text": [
      "Validation Data with Index : 622 is Selected for Prediction: \n",
      "\n",
      "\"state\" --:-- MI\n",
      "\"account_length\" --:-- 120\n",
      "\"area_code\" --:-- area_code_415\n",
      "\"international_plan\" --:-- no\n",
      "\"voice_mail_plan\" --:-- no\n",
      "\"number_vmail_messages\" --:-- 0\n",
      "\"total_day_minutes\" --:-- 150.6\n",
      "\"total_day_calls\" --:-- 85\n",
      "\"total_day_charge\" --:-- 25.6\n",
      "\"total_eve_minutes\" --:-- 119.0\n",
      "\"total_eve_calls\" --:-- 128\n",
      "\"total_eve_charge\" --:-- 10.12\n",
      "\"total_night_minutes\" --:-- 232.9\n",
      "\"total_night_calls\" --:-- 123\n",
      "\"total_night_charge\" --:-- 10.48\n",
      "\"total_intl_minutes\" --:-- 6.4\n",
      "\"total_intl_calls\" --:-- 2\n",
      "\"total_intl_charge\" --:-- 1.73\n",
      "\"number_customer_service_calls\" --:-- 1\n"
     ]
    }
   ],
   "source": [
    "#inp_data = (13.7,0.415,0.68,2.9,0.085,17.0,43.0,1.0014,3.06,0.80,10.0)\n",
    "#inp_data = np.array(inp_data).reshape(1,-1)\n",
    "\n",
    "idx = val_pred.sample().index.values\n",
    "inp = val_pred.loc[idx]\n",
    "\n",
    "Xval = inp.drop(columns='churn')\n",
    "yval = inp['churn']\n",
    "\n",
    "if yval.values[0]=='yes':\n",
    "    yval = 1\n",
    "else:\n",
    "    yval = 0\n",
    "\n",
    "print(f'Validation Data with Index : {idx[0]} is Selected for Prediction: \\n')\n",
    "for fea, val in zip(Xval.columns.tolist(),Xval.values[0]):\n",
    "    print(f'\"{fea}\" --:-- {val}')"
   ]
  },
  {
   "cell_type": "markdown",
   "id": "e470dbd6-d203-49b5-9c66-ab4992f70d6a",
   "metadata": {},
   "source": [
    "### 6.3 PreProcessing Selected Data"
   ]
  },
  {
   "cell_type": "code",
   "execution_count": 36,
   "id": "66859572-cc4d-417d-b064-c1c6ba23ed65",
   "metadata": {
    "tags": []
   },
   "outputs": [],
   "source": [
    "pipe2 = load(open('cc_pipe2_val_te.pkl','rb'))"
   ]
  },
  {
   "cell_type": "code",
   "execution_count": 37,
   "id": "2e66c593-3fc5-4c93-b1b4-2a78f0c688bc",
   "metadata": {
    "tags": []
   },
   "outputs": [
    {
     "data": {
      "text/plain": [
       "(1, 69)"
      ]
     },
     "execution_count": 37,
     "metadata": {},
     "output_type": "execute_result"
    }
   ],
   "source": [
    "inp_data = pipe2.transform(Xval)\n",
    "inp_data.shape"
   ]
  },
  {
   "cell_type": "markdown",
   "id": "95a2754a-f57f-40b3-9355-847141722bfb",
   "metadata": {},
   "source": [
    "### 6.4 Predction on Selected Data"
   ]
  },
  {
   "cell_type": "code",
   "execution_count": 38,
   "id": "7b1da7d6-4b4d-4dd9-84d5-614c66e62f24",
   "metadata": {
    "tags": []
   },
   "outputs": [
    {
     "name": "stdout",
     "output_type": "stream",
     "text": [
      "------------- Prediction for Validation Data with Index : 622 --------------------\n",
      "\n",
      "Actual \"Churn\" status for the Selected Data : 0 \n",
      "\n",
      "Predicted Churn Status : 0 (Customer will NOT churn ...)\n"
     ]
    }
   ],
   "source": [
    "print(f'------------- Prediction for Validation Data with Index : {idx[0]} --------------------\\n')\n",
    "\n",
    "print(f'Actual \"Churn\" status for the Selected Data : {yval} \\n')\n",
    "\n",
    "inp_data = tensorflow.convert_to_tensor(inp_data, dtype = tensorflow.float32)\n",
    "pred = pred_mdl.predict(inp_data, verbose=0)\n",
    "\n",
    "pred = np.where(pred[0][0] >= 0.5,1,0)              ## extracting probability from ndarray\n",
    "\n",
    "if (pred == 1):\n",
    "    print(f'Predicted Churn Status : {pred} (Customer will Churn ...)')\n",
    "else:\n",
    "    print(f'Predicted Churn Status : {pred} (Customer will NOT churn ...)')"
   ]
  },
  {
   "cell_type": "markdown",
   "id": "d385f3d0-5ce4-4755-ac90-b4f973588bbe",
   "metadata": {
    "tags": []
   },
   "source": [
    "### 6.5 All Predictions for the Sample of 10 Observations"
   ]
  },
  {
   "cell_type": "code",
   "execution_count": 39,
   "id": "df081a3d-d379-420e-9dba-400d45d30110",
   "metadata": {
    "tags": []
   },
   "outputs": [],
   "source": [
    "Xvall = val_pred.drop(columns='churn')\n",
    "yvall = val_pred['churn']\n",
    "ind = Xvall.index.values.tolist()"
   ]
  },
  {
   "cell_type": "code",
   "execution_count": 40,
   "id": "dc36d051-5117-4efb-b753-e46aeb3e1b62",
   "metadata": {
    "tags": []
   },
   "outputs": [],
   "source": [
    "yvall = yvall.apply(lambda x: 1 if x=='yes' else 0)"
   ]
  },
  {
   "cell_type": "code",
   "execution_count": 41,
   "id": "83c3aaee-21e9-40be-9953-e74c6ab52a15",
   "metadata": {
    "tags": []
   },
   "outputs": [],
   "source": [
    "Xvall = pipe2.transform(Xvall)\n",
    "Xvall = tensorflow.convert_to_tensor(Xvall, dtype = tensorflow.float32)"
   ]
  },
  {
   "cell_type": "code",
   "execution_count": 42,
   "id": "5c2f5807-93a4-4e75-a1fa-289048a300bc",
   "metadata": {
    "tags": []
   },
   "outputs": [],
   "source": [
    "preds = pred_mdl.predict(Xvall, verbose=0)\n",
    "preds = np.where(preds > 0.5,1,0)"
   ]
  },
  {
   "cell_type": "code",
   "execution_count": 43,
   "id": "423a993e-b43f-4952-a489-358be13ce1fe",
   "metadata": {
    "tags": []
   },
   "outputs": [
    {
     "name": "stdout",
     "output_type": "stream",
     "text": [
      "Index: 4013 --> Actual: 0 --> Predicted: 0\n",
      "Index: 2639 --> Actual: 0 --> Predicted: 0\n",
      "Index: 622 --> Actual: 0 --> Predicted: 0\n",
      "Index: 1217 --> Actual: 0 --> Predicted: 0\n",
      "Index: 394 --> Actual: 0 --> Predicted: 0\n",
      "Index: 3014 --> Actual: 0 --> Predicted: 0\n",
      "Index: 1882 --> Actual: 1 --> Predicted: 0\n",
      "Index: 743 --> Actual: 0 --> Predicted: 0\n",
      "Index: 832 --> Actual: 0 --> Predicted: 0\n",
      "Index: 1626 --> Actual: 0 --> Predicted: 1\n"
     ]
    }
   ],
   "source": [
    "for a,b,c in zip(ind, yvall, preds):\n",
    "    print(f'Index: {a} --> Actual: {b} --> Predicted: {c[0]}')"
   ]
  },
  {
   "cell_type": "code",
   "execution_count": null,
   "id": "36f54121-3223-4143-aa4e-9043707a77ca",
   "metadata": {},
   "outputs": [],
   "source": []
  }
 ],
 "metadata": {
  "kernelspec": {
   "display_name": "Python 3 (ipykernel)",
   "language": "python",
   "name": "python3"
  },
  "language_info": {
   "codemirror_mode": {
    "name": "ipython",
    "version": 3
   },
   "file_extension": ".py",
   "mimetype": "text/x-python",
   "name": "python",
   "nbconvert_exporter": "python",
   "pygments_lexer": "ipython3",
   "version": "3.12.8"
  }
 },
 "nbformat": 4,
 "nbformat_minor": 5
}
