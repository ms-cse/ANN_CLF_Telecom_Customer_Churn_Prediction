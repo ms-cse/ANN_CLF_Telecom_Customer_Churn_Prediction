{
 "cells": [
  {
   "cell_type": "markdown",
   "id": "f6079c98-4e48-499e-894f-c50109507c87",
   "metadata": {},
   "source": [
    "# ANN CLASSIFICATION - {\"CUSTOMER CHURN\" DATASET}"
   ]
  },
  {
   "cell_type": "markdown",
   "id": "a6709c06-804a-47d1-b0df-5aee8b18f5a3",
   "metadata": {},
   "source": [
    "## 1. Importing Modules and Setting Configurations"
   ]
  },
  {
   "cell_type": "code",
   "execution_count": 1,
   "id": "f618bbd8-512b-4523-aeea-c1e6132fe931",
   "metadata": {
    "tags": []
   },
   "outputs": [],
   "source": [
    "import numpy as np\n",
    "import tensorflow as tf\n",
    "import random as rn"
   ]
  },
  {
   "cell_type": "code",
   "execution_count": 2,
   "id": "5cc36f2d-4006-4926-b9ee-482c3b4b935b",
   "metadata": {
    "tags": []
   },
   "outputs": [
    {
     "name": "stdout",
     "output_type": "stream",
     "text": [
      "WARNING:tensorflow:From C:\\Users\\MANISHARMA\\AppData\\Local\\Temp\\ipykernel_11396\\1520644383.py:15: The name tf.keras.backend.set_session is deprecated. Please use tf.compat.v1.keras.backend.set_session instead.\n",
      "\n"
     ]
    }
   ],
   "source": [
    "import os\n",
    "os.environ['PYTHONHASHSEED'] = '0'\n",
    "rn.seed(1254)\n",
    "np.random.seed(37)\n",
    "tf.random.set_seed(89)\n",
    "\n",
    "# from keras import backend as K\n",
    "# session_conf = tf.ConfigProto(intra_op_parallelism_threads=1, inter_op_parallelism_threads=1)\n",
    "# sess = tf.Session(graph = tf.get_default_graph(), config=session_conf)\n",
    "# K.set_session(sess)\n",
    "\n",
    "tf.compat.v1.set_random_seed(12)\n",
    "session_conf = tf.compat.v1.ConfigProto(intra_op_parallelism_threads=1, inter_op_parallelism_threads=1)\n",
    "sess = tf.compat.v1.Session(graph=tf.compat.v1.get_default_graph(), config=session_conf)\n",
    "tf.compat.v1.keras.backend.set_session(sess)\n",
    "\n",
    "# tf.keras.utils.set_random_seed(1)\n",
    "# tf.config.experimental.enable_op_determinism()"
   ]
  },
  {
   "cell_type": "code",
   "execution_count": 3,
   "id": "36db63e5-2d56-407a-b8c0-22812c099423",
   "metadata": {
    "tags": []
   },
   "outputs": [],
   "source": [
    "import pandas as pd\n",
    "\n",
    "import matplotlib.pyplot as plt\n",
    "import seaborn as sb\n",
    "\n",
    "import tensorflow\n",
    "from tensorflow import keras\n",
    "from tensorflow.keras import Sequential\n",
    "from keras.layers import Dense, Dropout\n",
    "\n",
    "import keras_tuner as kt\n",
    "from sklearn.metrics import accuracy_score, classification_report, confusion_matrix\n",
    "\n",
    "from pickle import dump, load\n",
    "\n",
    "import warnings\n",
    "warnings.filterwarnings('ignore')\n",
    "\n",
    "from sklearn import set_config\n",
    "set_config(display='diagram')"
   ]
  },
  {
   "cell_type": "code",
   "execution_count": 4,
   "id": "4b8cd288-5945-4063-9e00-9fbaeafdef8e",
   "metadata": {
    "tags": []
   },
   "outputs": [],
   "source": [
    "# PD Options\n",
    "\n",
    "pd.set_option('display.min_rows', 5)\n",
    "pd.set_option('display.max_rows', 25)\n",
    "pd.set_option('display.precision', 4)"
   ]
  },
  {
   "cell_type": "code",
   "execution_count": 5,
   "id": "858f3ead-7968-409b-8b3e-f62c9658ccd6",
   "metadata": {
    "tags": []
   },
   "outputs": [],
   "source": [
    "# SB Options\n",
    "\n",
    "sb.set_theme(context='notebook', style='whitegrid', palette='pastel', font='times new roman', font_scale=1.25)"
   ]
  },
  {
   "cell_type": "markdown",
   "id": "5b60c742-f76a-4463-aff4-81be0075736f",
   "metadata": {},
   "source": [
    "## 2. Importing Dataset"
   ]
  },
  {
   "cell_type": "markdown",
   "id": "8ee88fa6-6c43-4cf4-8606-c720aa6d03fe",
   "metadata": {},
   "source": [
    "### 2.1 Train Dataset"
   ]
  },
  {
   "cell_type": "code",
   "execution_count": 6,
   "id": "7477acaa-833f-45c3-beeb-7a05904d1459",
   "metadata": {
    "tags": []
   },
   "outputs": [
    {
     "name": "stdout",
     "output_type": "stream",
     "text": [
      "Shape of the train dataset : (6960, 70)\n"
     ]
    },
    {
     "data": {
      "text/html": [
       "<div>\n",
       "<style scoped>\n",
       "    .dataframe tbody tr th:only-of-type {\n",
       "        vertical-align: middle;\n",
       "    }\n",
       "\n",
       "    .dataframe tbody tr th {\n",
       "        vertical-align: top;\n",
       "    }\n",
       "\n",
       "    .dataframe thead th {\n",
       "        text-align: right;\n",
       "    }\n",
       "</style>\n",
       "<table border=\"1\" class=\"dataframe\">\n",
       "  <thead>\n",
       "    <tr style=\"text-align: right;\">\n",
       "      <th></th>\n",
       "      <th>0</th>\n",
       "      <th>1</th>\n",
       "      <th>2</th>\n",
       "      <th>3</th>\n",
       "      <th>4</th>\n",
       "      <th>5</th>\n",
       "      <th>6</th>\n",
       "      <th>7</th>\n",
       "      <th>8</th>\n",
       "      <th>9</th>\n",
       "      <th>...</th>\n",
       "      <th>60</th>\n",
       "      <th>61</th>\n",
       "      <th>62</th>\n",
       "      <th>63</th>\n",
       "      <th>64</th>\n",
       "      <th>65</th>\n",
       "      <th>66</th>\n",
       "      <th>67</th>\n",
       "      <th>68</th>\n",
       "      <th>churn</th>\n",
       "    </tr>\n",
       "  </thead>\n",
       "  <tbody>\n",
       "    <tr>\n",
       "      <th>0</th>\n",
       "      <td>0.0</td>\n",
       "      <td>0.0</td>\n",
       "      <td>0.0</td>\n",
       "      <td>0.0</td>\n",
       "      <td>0.0</td>\n",
       "      <td>0.0</td>\n",
       "      <td>0.0</td>\n",
       "      <td>0.0</td>\n",
       "      <td>0.0</td>\n",
       "      <td>0.0</td>\n",
       "      <td>...</td>\n",
       "      <td>1.1465</td>\n",
       "      <td>0.1024</td>\n",
       "      <td>-0.3034</td>\n",
       "      <td>-0.0452</td>\n",
       "      <td>-0.0456</td>\n",
       "      <td>-0.9278</td>\n",
       "      <td>-0.9282</td>\n",
       "      <td>1.0174</td>\n",
       "      <td>1.0155</td>\n",
       "      <td>0</td>\n",
       "    </tr>\n",
       "    <tr>\n",
       "      <th>1</th>\n",
       "      <td>0.0</td>\n",
       "      <td>0.0</td>\n",
       "      <td>0.0</td>\n",
       "      <td>0.0</td>\n",
       "      <td>0.0</td>\n",
       "      <td>0.0</td>\n",
       "      <td>0.0</td>\n",
       "      <td>0.0</td>\n",
       "      <td>0.0</td>\n",
       "      <td>0.0</td>\n",
       "      <td>...</td>\n",
       "      <td>-1.1349</td>\n",
       "      <td>1.2493</td>\n",
       "      <td>-1.5019</td>\n",
       "      <td>0.7618</td>\n",
       "      <td>0.7619</td>\n",
       "      <td>0.9893</td>\n",
       "      <td>0.9899</td>\n",
       "      <td>-0.1726</td>\n",
       "      <td>-0.1727</td>\n",
       "      <td>0</td>\n",
       "    </tr>\n",
       "    <tr>\n",
       "      <th>2</th>\n",
       "      <td>0.0</td>\n",
       "      <td>0.0</td>\n",
       "      <td>0.0</td>\n",
       "      <td>0.0</td>\n",
       "      <td>0.0</td>\n",
       "      <td>0.0</td>\n",
       "      <td>0.0</td>\n",
       "      <td>0.0</td>\n",
       "      <td>0.0</td>\n",
       "      <td>0.0</td>\n",
       "      <td>...</td>\n",
       "      <td>-0.5194</td>\n",
       "      <td>-1.4436</td>\n",
       "      <td>-0.3034</td>\n",
       "      <td>-1.1638</td>\n",
       "      <td>-1.1640</td>\n",
       "      <td>-0.0775</td>\n",
       "      <td>-0.0765</td>\n",
       "      <td>-0.8682</td>\n",
       "      <td>-0.8695</td>\n",
       "      <td>0</td>\n",
       "    </tr>\n",
       "    <tr>\n",
       "      <th>3</th>\n",
       "      <td>0.0</td>\n",
       "      <td>0.0</td>\n",
       "      <td>0.0</td>\n",
       "      <td>0.0</td>\n",
       "      <td>0.0</td>\n",
       "      <td>0.0</td>\n",
       "      <td>0.0</td>\n",
       "      <td>1.0</td>\n",
       "      <td>0.0</td>\n",
       "      <td>0.0</td>\n",
       "      <td>...</td>\n",
       "      <td>0.4219</td>\n",
       "      <td>-0.9316</td>\n",
       "      <td>-0.3034</td>\n",
       "      <td>1.3034</td>\n",
       "      <td>1.3031</td>\n",
       "      <td>-0.2460</td>\n",
       "      <td>-0.2464</td>\n",
       "      <td>-1.6139</td>\n",
       "      <td>-1.6154</td>\n",
       "      <td>0</td>\n",
       "    </tr>\n",
       "    <tr>\n",
       "      <th>4</th>\n",
       "      <td>0.0</td>\n",
       "      <td>0.0</td>\n",
       "      <td>0.0</td>\n",
       "      <td>0.0</td>\n",
       "      <td>0.0</td>\n",
       "      <td>0.0</td>\n",
       "      <td>0.0</td>\n",
       "      <td>0.0</td>\n",
       "      <td>0.0</td>\n",
       "      <td>0.0</td>\n",
       "      <td>...</td>\n",
       "      <td>-0.5194</td>\n",
       "      <td>1.3354</td>\n",
       "      <td>-0.3034</td>\n",
       "      <td>0.8415</td>\n",
       "      <td>0.8416</td>\n",
       "      <td>0.1350</td>\n",
       "      <td>0.1358</td>\n",
       "      <td>-0.6571</td>\n",
       "      <td>-0.6551</td>\n",
       "      <td>0</td>\n",
       "    </tr>\n",
       "  </tbody>\n",
       "</table>\n",
       "<p>5 rows × 70 columns</p>\n",
       "</div>"
      ],
      "text/plain": [
       "     0    1    2    3    4    5    6    7    8    9  ...      60      61  \\\n",
       "0  0.0  0.0  0.0  0.0  0.0  0.0  0.0  0.0  0.0  0.0  ...  1.1465  0.1024   \n",
       "1  0.0  0.0  0.0  0.0  0.0  0.0  0.0  0.0  0.0  0.0  ... -1.1349  1.2493   \n",
       "2  0.0  0.0  0.0  0.0  0.0  0.0  0.0  0.0  0.0  0.0  ... -0.5194 -1.4436   \n",
       "3  0.0  0.0  0.0  0.0  0.0  0.0  0.0  1.0  0.0  0.0  ...  0.4219 -0.9316   \n",
       "4  0.0  0.0  0.0  0.0  0.0  0.0  0.0  0.0  0.0  0.0  ... -0.5194  1.3354   \n",
       "\n",
       "       62      63      64      65      66      67      68  churn  \n",
       "0 -0.3034 -0.0452 -0.0456 -0.9278 -0.9282  1.0174  1.0155      0  \n",
       "1 -1.5019  0.7618  0.7619  0.9893  0.9899 -0.1726 -0.1727      0  \n",
       "2 -0.3034 -1.1638 -1.1640 -0.0775 -0.0765 -0.8682 -0.8695      0  \n",
       "3 -0.3034  1.3034  1.3031 -0.2460 -0.2464 -1.6139 -1.6154      0  \n",
       "4 -0.3034  0.8415  0.8416  0.1350  0.1358 -0.6571 -0.6551      0  \n",
       "\n",
       "[5 rows x 70 columns]"
      ]
     },
     "execution_count": 6,
     "metadata": {},
     "output_type": "execute_result"
    }
   ],
   "source": [
    "tr = pd.read_pickle('cc_train_fe.pkl')\n",
    "\n",
    "\n",
    "print(f'Shape of the train dataset : {tr.shape}')\n",
    "tr.head(5)"
   ]
  },
  {
   "cell_type": "code",
   "execution_count": 7,
   "id": "351be28c-936c-4c64-9461-e3c0da5e77c7",
   "metadata": {
    "tags": []
   },
   "outputs": [],
   "source": [
    "Xtr = tr.drop(columns='churn')\n",
    "ytr = tr['churn']"
   ]
  },
  {
   "cell_type": "code",
   "execution_count": 8,
   "id": "4b5a9856-f949-4790-a769-97d979ef0f40",
   "metadata": {
    "tags": []
   },
   "outputs": [],
   "source": [
    "Xtr = tensorflow.convert_to_tensor(Xtr, dtype = tensorflow.float32)"
   ]
  },
  {
   "cell_type": "code",
   "execution_count": 9,
   "id": "00a33ccf-a0c7-4948-82a3-d660032ecb7d",
   "metadata": {
    "tags": []
   },
   "outputs": [
    {
     "data": {
      "text/plain": [
       "<tf.Tensor: shape=(6960, 69), dtype=float32, numpy=\n",
       "array([[ 0.        ,  0.        ,  0.        , ..., -0.9282404 ,\n",
       "         1.0173703 ,  1.0154524 ],\n",
       "       [ 0.        ,  0.        ,  0.        , ...,  0.98988664,\n",
       "        -0.17264657, -0.17268398],\n",
       "       [ 0.        ,  0.        ,  0.        , ..., -0.07652593,\n",
       "        -0.8681632 , -0.8694858 ],\n",
       "       ...,\n",
       "       [ 0.5253647 ,  0.        ,  0.        , ...,  0.7367721 ,\n",
       "         0.7039608 ,  0.7060876 ],\n",
       "       [ 0.        ,  0.        ,  0.        , ...,  2.0005934 ,\n",
       "         0.08957304,  0.09115531],\n",
       "       [ 0.        ,  0.        ,  0.        , ..., -0.5081341 ,\n",
       "         0.0599156 ,  0.05990292]], dtype=float32)>"
      ]
     },
     "execution_count": 9,
     "metadata": {},
     "output_type": "execute_result"
    }
   ],
   "source": [
    "Xtr"
   ]
  },
  {
   "cell_type": "markdown",
   "id": "469a826a-8457-4967-ba18-72a8b765d887",
   "metadata": {},
   "source": [
    "### 2.2 Validation Dataset"
   ]
  },
  {
   "cell_type": "code",
   "execution_count": 10,
   "id": "9494bb0a-634d-4786-826f-d2bda125df96",
   "metadata": {
    "tags": []
   },
   "outputs": [
    {
     "name": "stdout",
     "output_type": "stream",
     "text": [
      "Shape of the train dataset : (100, 70)\n"
     ]
    },
    {
     "data": {
      "text/html": [
       "<div>\n",
       "<style scoped>\n",
       "    .dataframe tbody tr th:only-of-type {\n",
       "        vertical-align: middle;\n",
       "    }\n",
       "\n",
       "    .dataframe tbody tr th {\n",
       "        vertical-align: top;\n",
       "    }\n",
       "\n",
       "    .dataframe thead th {\n",
       "        text-align: right;\n",
       "    }\n",
       "</style>\n",
       "<table border=\"1\" class=\"dataframe\">\n",
       "  <thead>\n",
       "    <tr style=\"text-align: right;\">\n",
       "      <th></th>\n",
       "      <th>0</th>\n",
       "      <th>1</th>\n",
       "      <th>2</th>\n",
       "      <th>3</th>\n",
       "      <th>4</th>\n",
       "      <th>5</th>\n",
       "      <th>6</th>\n",
       "      <th>7</th>\n",
       "      <th>8</th>\n",
       "      <th>9</th>\n",
       "      <th>...</th>\n",
       "      <th>60</th>\n",
       "      <th>61</th>\n",
       "      <th>62</th>\n",
       "      <th>63</th>\n",
       "      <th>64</th>\n",
       "      <th>65</th>\n",
       "      <th>66</th>\n",
       "      <th>67</th>\n",
       "      <th>68</th>\n",
       "      <th>churn</th>\n",
       "    </tr>\n",
       "  </thead>\n",
       "  <tbody>\n",
       "    <tr>\n",
       "      <th>0</th>\n",
       "      <td>0</td>\n",
       "      <td>0</td>\n",
       "      <td>0</td>\n",
       "      <td>0</td>\n",
       "      <td>0</td>\n",
       "      <td>0</td>\n",
       "      <td>0</td>\n",
       "      <td>0</td>\n",
       "      <td>0</td>\n",
       "      <td>0</td>\n",
       "      <td>...</td>\n",
       "      <td>-0.0125</td>\n",
       "      <td>1.1777</td>\n",
       "      <td>-1.5019</td>\n",
       "      <td>-1.3307</td>\n",
       "      <td>-1.331</td>\n",
       "      <td>0.125</td>\n",
       "      <td>0.124</td>\n",
       "      <td>-1.4933</td>\n",
       "      <td>-1.4948</td>\n",
       "      <td>0</td>\n",
       "    </tr>\n",
       "    <tr>\n",
       "      <th>1</th>\n",
       "      <td>0</td>\n",
       "      <td>0</td>\n",
       "      <td>0</td>\n",
       "      <td>0</td>\n",
       "      <td>0</td>\n",
       "      <td>0</td>\n",
       "      <td>0</td>\n",
       "      <td>0</td>\n",
       "      <td>0</td>\n",
       "      <td>0</td>\n",
       "      <td>...</td>\n",
       "      <td>0.4219</td>\n",
       "      <td>0.5662</td>\n",
       "      <td>-0.3034</td>\n",
       "      <td>-0.3513</td>\n",
       "      <td>-0.3511</td>\n",
       "      <td>-0.7333</td>\n",
       "      <td>-0.7324</td>\n",
       "      <td>-0.9526</td>\n",
       "      <td>-0.9544</td>\n",
       "      <td>0</td>\n",
       "    </tr>\n",
       "    <tr>\n",
       "      <th>2</th>\n",
       "      <td>0</td>\n",
       "      <td>0</td>\n",
       "      <td>0</td>\n",
       "      <td>0</td>\n",
       "      <td>0</td>\n",
       "      <td>0</td>\n",
       "      <td>0</td>\n",
       "      <td>0</td>\n",
       "      <td>0</td>\n",
       "      <td>0</td>\n",
       "      <td>...</td>\n",
       "      <td>-1.1349</td>\n",
       "      <td>-0.6725</td>\n",
       "      <td>-0.3034</td>\n",
       "      <td>-0.3884</td>\n",
       "      <td>-0.3882</td>\n",
       "      <td>0.1972</td>\n",
       "      <td>0.1972</td>\n",
       "      <td>-0.5666</td>\n",
       "      <td>-0.5658</td>\n",
       "      <td>0</td>\n",
       "    </tr>\n",
       "    <tr>\n",
       "      <th>3</th>\n",
       "      <td>0</td>\n",
       "      <td>0</td>\n",
       "      <td>1</td>\n",
       "      <td>0</td>\n",
       "      <td>0</td>\n",
       "      <td>0</td>\n",
       "      <td>0</td>\n",
       "      <td>0</td>\n",
       "      <td>0</td>\n",
       "      <td>0</td>\n",
       "      <td>...</td>\n",
       "      <td>-0.0125</td>\n",
       "      <td>0.0744</td>\n",
       "      <td>0.573</td>\n",
       "      <td>0.7506</td>\n",
       "      <td>0.751</td>\n",
       "      <td>-0.8817</td>\n",
       "      <td>-0.8811</td>\n",
       "      <td>-0.2551</td>\n",
       "      <td>-0.2531</td>\n",
       "      <td>0</td>\n",
       "    </tr>\n",
       "    <tr>\n",
       "      <th>4</th>\n",
       "      <td>0</td>\n",
       "      <td>0</td>\n",
       "      <td>0</td>\n",
       "      <td>0</td>\n",
       "      <td>0</td>\n",
       "      <td>0</td>\n",
       "      <td>0</td>\n",
       "      <td>0</td>\n",
       "      <td>0</td>\n",
       "      <td>0</td>\n",
       "      <td>...</td>\n",
       "      <td>-0.0125</td>\n",
       "      <td>0.4533</td>\n",
       "      <td>-0.3034</td>\n",
       "      <td>-0.0452</td>\n",
       "      <td>-0.0456</td>\n",
       "      <td>-0.5027</td>\n",
       "      <td>-0.5036</td>\n",
       "      <td>-0.7898</td>\n",
       "      <td>-0.7891</td>\n",
       "      <td>0</td>\n",
       "    </tr>\n",
       "  </tbody>\n",
       "</table>\n",
       "<p>5 rows × 70 columns</p>\n",
       "</div>"
      ],
      "text/plain": [
       "   0  1  2  3  4  5  6  7  8  9  ...      60      61      62      63      64  \\\n",
       "0  0  0  0  0  0  0  0  0  0  0  ... -0.0125  1.1777 -1.5019 -1.3307  -1.331   \n",
       "1  0  0  0  0  0  0  0  0  0  0  ...  0.4219  0.5662 -0.3034 -0.3513 -0.3511   \n",
       "2  0  0  0  0  0  0  0  0  0  0  ... -1.1349 -0.6725 -0.3034 -0.3884 -0.3882   \n",
       "3  0  0  1  0  0  0  0  0  0  0  ... -0.0125  0.0744   0.573  0.7506   0.751   \n",
       "4  0  0  0  0  0  0  0  0  0  0  ... -0.0125  0.4533 -0.3034 -0.0452 -0.0456   \n",
       "\n",
       "       65      66      67      68 churn  \n",
       "0   0.125   0.124 -1.4933 -1.4948     0  \n",
       "1 -0.7333 -0.7324 -0.9526 -0.9544     0  \n",
       "2  0.1972  0.1972 -0.5666 -0.5658     0  \n",
       "3 -0.8817 -0.8811 -0.2551 -0.2531     0  \n",
       "4 -0.5027 -0.5036 -0.7898 -0.7891     0  \n",
       "\n",
       "[5 rows x 70 columns]"
      ]
     },
     "execution_count": 10,
     "metadata": {},
     "output_type": "execute_result"
    }
   ],
   "source": [
    "val = pd.read_pickle('cc_valid_fe.pkl')\n",
    "\n",
    "print(f'Shape of the train dataset : {val.shape}')\n",
    "val.head(5)"
   ]
  },
  {
   "cell_type": "code",
   "execution_count": 11,
   "id": "1ce91ae9-63cb-48a8-ad86-94c558549b98",
   "metadata": {
    "tags": []
   },
   "outputs": [],
   "source": [
    "Xval = val.drop(columns='churn')\n",
    "yval = val['churn']"
   ]
  },
  {
   "cell_type": "code",
   "execution_count": 12,
   "id": "1a98c4da-c25e-4a1d-9cb0-25897825fd33",
   "metadata": {
    "tags": []
   },
   "outputs": [],
   "source": [
    "Xval = tensorflow.convert_to_tensor(Xval, dtype = tensorflow.float32)"
   ]
  },
  {
   "cell_type": "code",
   "execution_count": 13,
   "id": "419e0148-6f9b-481f-bb85-dd68093f18a4",
   "metadata": {
    "tags": []
   },
   "outputs": [
    {
     "data": {
      "text/plain": [
       "<tf.Tensor: shape=(100, 69), dtype=float32, numpy=\n",
       "array([[ 0.        ,  0.        ,  0.        , ...,  0.12401625,\n",
       "        -1.4933242 , -1.4948207 ],\n",
       "       [ 0.        ,  0.        ,  0.        , ..., -0.73241687,\n",
       "        -0.9525901 , -0.9543527 ],\n",
       "       [ 0.        ,  0.        ,  0.        , ...,  0.19715516,\n",
       "        -0.56663865, -0.5657517 ],\n",
       "       ...,\n",
       "       [ 0.        ,  0.        ,  0.        , ...,  0.24670088,\n",
       "         0.2836606 ,  0.2829172 ],\n",
       "       [ 0.        ,  0.        ,  0.        , ...,  2.9504814 ,\n",
       "         0.91284186,  0.91271883],\n",
       "       [ 0.        ,  0.        ,  0.        , ..., -1.8719684 ,\n",
       "        -0.4440187 , -0.44515136]], dtype=float32)>"
      ]
     },
     "execution_count": 13,
     "metadata": {},
     "output_type": "execute_result"
    }
   ],
   "source": [
    "Xval"
   ]
  },
  {
   "cell_type": "markdown",
   "id": "77eb62e8-3900-492f-b41d-4d0f3172c3ff",
   "metadata": {},
   "source": [
    "## 3. Hyper-Parameter Tuning for Best Model"
   ]
  },
  {
   "cell_type": "markdown",
   "id": "36436ddf-ced2-4037-b504-f76271ab991a",
   "metadata": {},
   "source": [
    "### 3.1 Model"
   ]
  },
  {
   "cell_type": "code",
   "execution_count": 14,
   "id": "8dea54d5-bf01-4196-8db8-85510b0939ef",
   "metadata": {
    "tags": []
   },
   "outputs": [],
   "source": [
    "def build_model(hp):\n",
    "    \n",
    "    model = Sequential()\n",
    "    cntr = 0\n",
    "    \n",
    "    for i in range(hp.Int('num_layers', min_value=1, max_value=2)):\n",
    "        if cntr == 0:\n",
    "            model.add(Dense(units=hp.Int('num_nodes '+str(i), min_value=8, max_value=70, step=8), \n",
    "                            activation=hp.Choice('act_func '+str(i), values=['relu','tanh','linear']),\n",
    "                            input_dim=69))\n",
    "            model.add(Dropout(hp.Choice('dropout '+str(i), values=[0.1,0.2,0.3,0.4,0.5])))\n",
    "        else:\n",
    "            model.add(Dense(units=hp.Int('num_nodes '+str(i), min_value=8, max_value=70, step=8), \n",
    "                            activation=hp.Choice('act_func '+str(i), values=['relu','tanh','linear'])))\n",
    "            model.add(Dropout(hp.Choice('dropout '+str(i), values=[0.1,0.2,0.3,0.4,0.5])))\n",
    "            \n",
    "        cntr=cntr+1\n",
    "    \n",
    "    model.add(Dense(1, activation='sigmoid'))\n",
    "    \n",
    "    optimizer = hp.Choice('optimizer', values=['adam','rmsprop','nadam','adamax','sgd'])\n",
    "    model.compile(loss='binary_crossentropy', optimizer=optimizer, metrics=['accuracy'])\n",
    "    #hp_learning_rate = hp.Choice('learning_rate', values=[0.001, 0.005, 0.01, 0.05, 0.1])\n",
    "    #model.compile(loss='binary_crossentropy', optimizer=keras.optimizers.Adam(learning_rate=hp_learning_rate), metrics=['accuracy'])\n",
    "    \n",
    "    return model"
   ]
  },
  {
   "cell_type": "code",
   "execution_count": 15,
   "id": "859386e8-5f67-4088-8068-d68deba705d7",
   "metadata": {
    "tags": []
   },
   "outputs": [],
   "source": [
    "tnr = kt.RandomSearch(build_model, max_trials=10, objective='val_accuracy',\n",
    "                     overwrite=True, directory=\"my_dir\", project_name=\"ccp_ANN\",)"
   ]
  },
  {
   "cell_type": "code",
   "execution_count": 16,
   "id": "cd897b58-8f9f-407b-bb7e-cba44eb654bb",
   "metadata": {
    "tags": []
   },
   "outputs": [],
   "source": [
    "stop_early = tf.keras.callbacks.EarlyStopping(monitor='val_accuracy', patience=3)"
   ]
  },
  {
   "cell_type": "code",
   "execution_count": 17,
   "id": "02572b81-5ef9-4e77-982f-e06f808e6e6f",
   "metadata": {
    "tags": []
   },
   "outputs": [
    {
     "name": "stdout",
     "output_type": "stream",
     "text": [
      "Trial 10 Complete [00h 00m 12s]\n",
      "val_accuracy: 0.7715517282485962\n",
      "\n",
      "Best val_accuracy So Far: 0.9008620977401733\n",
      "Total elapsed time: 00h 02m 18s\n"
     ]
    }
   ],
   "source": [
    "tnr.search(Xtr,ytr, epochs=10, validation_split=0.1)\n",
    "#tnr.search(Xtr,ytr, epochs=10, validation_split=0.1, callbacks=[stop_early])"
   ]
  },
  {
   "cell_type": "markdown",
   "id": "6cbf444e-d7a0-498e-a5f7-54a8baeeaf65",
   "metadata": {},
   "source": [
    "### 3.2 Best Params"
   ]
  },
  {
   "cell_type": "code",
   "execution_count": 18,
   "id": "a0ca4fa0-a2fc-43c6-b9b9-9f7f79bcd0f0",
   "metadata": {
    "tags": []
   },
   "outputs": [],
   "source": [
    "best_params = tnr.get_best_hyperparameters()[0].values"
   ]
  },
  {
   "cell_type": "code",
   "execution_count": 19,
   "id": "d2aedaf4-ec9e-4616-bcad-7266a9e54727",
   "metadata": {
    "tags": []
   },
   "outputs": [
    {
     "data": {
      "text/plain": [
       "{'num_layers': 2,\n",
       " 'num_nodes 0': 40,\n",
       " 'act_func 0': 'relu',\n",
       " 'dropout 0': 0.3,\n",
       " 'optimizer': 'adam',\n",
       " 'num_nodes 1': 32,\n",
       " 'act_func 1': 'tanh',\n",
       " 'dropout 1': 0.2}"
      ]
     },
     "execution_count": 19,
     "metadata": {},
     "output_type": "execute_result"
    }
   ],
   "source": [
    "best_params"
   ]
  },
  {
   "cell_type": "markdown",
   "id": "9a1eeda1-ade8-4e74-97fc-a9992fc5fda1",
   "metadata": {},
   "source": [
    "### 3.3 Best Model"
   ]
  },
  {
   "cell_type": "code",
   "execution_count": 20,
   "id": "91c06b62-751d-4d48-9459-b2e5d05f58da",
   "metadata": {
    "tags": []
   },
   "outputs": [],
   "source": [
    "best_mdl = tnr.get_best_models(num_models=1)[0]"
   ]
  },
  {
   "cell_type": "code",
   "execution_count": 21,
   "id": "d24ddedc-b512-45be-9518-53fb383a9a0f",
   "metadata": {
    "tags": []
   },
   "outputs": [
    {
     "name": "stdout",
     "output_type": "stream",
     "text": [
      "Model: \"sequential\"\n",
      "_________________________________________________________________\n",
      " Layer (type)                Output Shape              Param #   \n",
      "=================================================================\n",
      " dense (Dense)               (None, 40)                2800      \n",
      "                                                                 \n",
      " dropout (Dropout)           (None, 40)                0         \n",
      "                                                                 \n",
      " dense_1 (Dense)             (None, 32)                1312      \n",
      "                                                                 \n",
      " dropout_1 (Dropout)         (None, 32)                0         \n",
      "                                                                 \n",
      " dense_2 (Dense)             (None, 1)                 33        \n",
      "                                                                 \n",
      "=================================================================\n",
      "Total params: 4,145\n",
      "Trainable params: 4,145\n",
      "Non-trainable params: 0\n",
      "_________________________________________________________________\n"
     ]
    }
   ],
   "source": [
    "best_mdl.summary()"
   ]
  },
  {
   "cell_type": "markdown",
   "id": "b5ae4c54-4ed5-4467-b72b-248400c2ccb3",
   "metadata": {},
   "source": [
    "### 3.4 Model Training"
   ]
  },
  {
   "cell_type": "code",
   "execution_count": 22,
   "id": "e1873fb3-4bea-4031-8628-9b26246eefe4",
   "metadata": {
    "tags": []
   },
   "outputs": [],
   "source": [
    "hst = best_mdl.fit(Xtr, ytr, epochs=40, initial_epoch=10, verbose=0, validation_split=0.1)\n",
    "#hst = best_mdl.fit(Xtr, ytr, epochs=40, initial_epoch=10, verbose=1, validation_split=0.1, callbacks=[stop_early])\n",
    "#hst = best_mdl.fit(Xtr, ytr, epochs=28, initial_epoch=10, verbose=1, validation_data=(Xval,yval))"
   ]
  },
  {
   "cell_type": "markdown",
   "id": "5628989b-7103-4b03-90c3-accec5172bbf",
   "metadata": {},
   "source": [
    "## 4. Model Evaluation On Train and Test Data"
   ]
  },
  {
   "cell_type": "markdown",
   "id": "c36d25c3-4ae8-417f-a57b-75ea17e4bd7a",
   "metadata": {},
   "source": [
    "### 4.1 Model Training History"
   ]
  },
  {
   "cell_type": "code",
   "execution_count": 23,
   "id": "30ddf237-0b6f-4b6e-b139-b5baef217eae",
   "metadata": {
    "tags": []
   },
   "outputs": [
    {
     "data": {
      "text/plain": [
       "<matplotlib.legend.Legend at 0x2300ce722f0>"
      ]
     },
     "execution_count": 23,
     "metadata": {},
     "output_type": "execute_result"
    },
    {
     "data": {
      "image/png": "[encoded data removed]",
      "text/plain": [
       "<Figure size 1000x400 with 1 Axes>"
      ]
     },
     "metadata": {},
     "output_type": "display_data"
    }
   ],
   "source": [
    "plt.figure(figsize=(10,4))\n",
    "\n",
    "plt.plot(hst.history['loss'])\n",
    "plt.plot(hst.history['val_loss'])\n",
    "\n",
    "plt.title('Loss By Epochs',fontsize=12)\n",
    "plt.ylabel('Loss',fontsize=10)\n",
    "plt.xlabel('Epochs',fontsize=10)\n",
    "plt.legend(['Train Loss','Val Loss'])"
   ]
  },
  {
   "cell_type": "code",
   "execution_count": 24,
   "id": "a5f418e7-8e94-4f5e-93d0-150fa76fbbd7",
   "metadata": {
    "tags": []
   },
   "outputs": [
    {
     "data": {
      "text/plain": [
       "<matplotlib.legend.Legend at 0x23010d2dff0>"
      ]
     },
     "execution_count": 24,
     "metadata": {},
     "output_type": "execute_result"
    },
    {
     "data": {
      "image/png": "[encoded data removed]",
      "text/plain": [
       "<Figure size 1000x400 with 1 Axes>"
      ]
     },
     "metadata": {},
     "output_type": "display_data"
    }
   ],
   "source": [
    "plt.figure(figsize=(10,4))\n",
    "\n",
    "plt.plot(hst.history['accuracy'])\n",
    "plt.plot(hst.history['val_accuracy'])\n",
    "\n",
    "plt.title('Accuracy By Epochs',fontsize=15)\n",
    "plt.ylabel('Accuracy',fontsize=12)\n",
    "plt.xlabel('Epochs',fontsize=12)\n",
    "plt.legend(['Train Accuracy','Val Accuracy'])"
   ]
  },
  {
   "cell_type": "markdown",
   "id": "d384cf9b-e7f5-4b19-b47c-1ca40ade9c75",
   "metadata": {},
   "source": [
    "### 4.2 Model Evaluation on Training and Validation Dataset"
   ]
  },
  {
   "cell_type": "code",
   "execution_count": 25,
   "id": "5e560621-8cfb-4ba7-84b4-14db175d6a8b",
   "metadata": {
    "tags": []
   },
   "outputs": [
    {
     "name": "stdout",
     "output_type": "stream",
     "text": [
      "218/218 [==============================] - 1s 2ms/step\n",
      "4/4 [==============================] - 0s 6ms/step\n",
      "\n",
      "\n",
      "Train Dataset Accuracy : 98.3621 %\n",
      "Validation Dataset Accuracy : 92.0 %\n"
     ]
    }
   ],
   "source": [
    "yhat_tr = best_mdl.predict(Xtr)\n",
    "yhat_val = best_mdl.predict(Xval)\n",
    "\n",
    "yhat_tr = np.where(yhat_tr > 0.5,1,0)\n",
    "yhat_val = np.where(yhat_val > 0.5,1,0)\n",
    "\n",
    "print('\\n')\n",
    "print(f'Train Dataset Accuracy : {round(accuracy_score(ytr,yhat_tr)*100,4)} %')\n",
    "\n",
    "pred_val = [yhat_val[x][0] for x in range(yhat_val.shape[0])]\n",
    "print(f'Validation Dataset Accuracy : {round(accuracy_score(yval.tolist(),pred_val)*100,4)} %')"
   ]
  },
  {
   "cell_type": "code",
   "execution_count": 26,
   "id": "8e872e6d-c7d1-4da7-94aa-76906f50bbec",
   "metadata": {
    "tags": []
   },
   "outputs": [
    {
     "name": "stdout",
     "output_type": "stream",
     "text": [
      "              precision    recall  f1-score   support\n",
      "\n",
      "           0       0.93      0.98      0.95        86\n",
      "           1       0.80      0.57      0.67        14\n",
      "\n",
      "    accuracy                           0.92       100\n",
      "   macro avg       0.87      0.77      0.81       100\n",
      "weighted avg       0.91      0.92      0.91       100\n",
      "\n"
     ]
    }
   ],
   "source": [
    "print(classification_report(yval.tolist(),pred_val))"
   ]
  },
  {
   "cell_type": "code",
   "execution_count": 27,
   "id": "135210d5-ed44-419c-ab73-0e20cc40d87c",
   "metadata": {
    "tags": []
   },
   "outputs": [
    {
     "data": {
      "image/png": "[encoded data removed]",
      "text/plain": [
       "<Figure size 640x480 with 2 Axes>"
      ]
     },
     "metadata": {},
     "output_type": "display_data"
    }
   ],
   "source": [
    "labels = yval.unique().tolist()\n",
    "labels.sort()\n",
    "#print(labels)\n",
    "\n",
    "cm = confusion_matrix(yval.tolist(),pred_val)\n",
    "#print(cm)\n",
    "\n",
    "ax = sb.heatmap(cm, annot=True, fmt='g', xticklabels=labels, yticklabels=labels, linewidth=0.5)\n",
    "ax.xaxis.tick_bottom()\n",
    "\n",
    "plt.ylabel('Prediction',fontsize=12)\n",
    "plt.xlabel('Actual',fontsize=12)\n",
    "plt.title('Confusion Matrix',fontsize=15)\n",
    "plt.show()"
   ]
  },
  {
   "cell_type": "code",
   "execution_count": 28,
   "id": "50e44be0-d3eb-4f9f-97b4-7bba156850a9",
   "metadata": {
    "tags": []
   },
   "outputs": [],
   "source": [
    "#lst = [yhat_val[x][0] for x in range(0,100)]"
   ]
  }
 ],
 "metadata": {
  "kernelspec": {
   "display_name": "Python 3 (ipykernel)",
   "language": "python",
   "name": "python3"
  },
  "language_info": {
   "codemirror_mode": {
    "name": "ipython",
    "version": 3
   },
   "file_extension": ".py",
   "mimetype": "text/x-python",
   "name": "python",
   "nbconvert_exporter": "python",
   "pygments_lexer": "ipython3",
   "version": "3.12.8"
  }
 },
 "nbformat": 4,
 "nbformat_minor": 5
}
